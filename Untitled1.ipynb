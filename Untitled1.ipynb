{
 "cells": [
  {
   "cell_type": "code",
   "execution_count": 11,
   "id": "8ae5af34",
   "metadata": {},
   "outputs": [],
   "source": [
    "import numpy as np\n",
    "from sklearn.metrics import mean_squared_error"
   ]
  },
  {
   "cell_type": "code",
   "execution_count": 6,
   "id": "f49325c9",
   "metadata": {},
   "outputs": [],
   "source": [
    "x=np.array([33\n",
    ",66\n",
    ",42\n",
    ",54\n",
    ",16\n",
    ",28\n",
    ",39\n",
    ",47\n",
    ",61\n",
    ",91\n",
    ",62\n",
    ",13\n",
    ",82\n",
    ",15\n",
    ",16\n",
    ",21\n",
    ",24\n",
    ",82\n",
    ",15\n",
    ",29\n",
    "])"
   ]
  },
  {
   "cell_type": "code",
   "execution_count": 12,
   "id": "a22da4c5",
   "metadata": {},
   "outputs": [],
   "source": [
    "y=np.array([                   3826 \n",
    "                 ,13335 \n",
    "                   ,5489 \n",
    "                 ,10310 \n",
    "                       ,-62\n",
    "                   ,2195 \n",
    "                   ,4016 \n",
    "                   ,7723 \n",
    "                 ,11433 \n",
    "                 ,24497 \n",
    "                 ,11832 \n",
    "                   ,1620 \n",
    "                 ,20733 \n",
    "                   ,1350 \n",
    "                     ,-112\n",
    "                     ,-578\n",
    "                       ,643 \n",
    "                 ,19928 \n",
    "                       ,564 \n",
    "                   ,1778 \n",
    "])"
   ]
  },
  {
   "cell_type": "code",
   "execution_count": 13,
   "id": "afcd789c",
   "metadata": {},
   "outputs": [],
   "source": [
    "y1_t=295*x-4004\n",
    "y2_t=3.1*x**2-0.75*x-398\n",
    "y3_t=0.009*x**3+1.66*x**2-53.6*x-746"
   ]
  },
  {
   "cell_type": "code",
   "execution_count": 14,
   "id": "c6351ad9",
   "metadata": {},
   "outputs": [
    {
     "data": {
      "text/plain": [
       "4123154.4"
      ]
     },
     "execution_count": 14,
     "metadata": {},
     "output_type": "execute_result"
    }
   ],
   "source": [
    "mean_squared_error(y,y1_t)"
   ]
  },
  {
   "cell_type": "code",
   "execution_count": 17,
   "id": "1e581cd0",
   "metadata": {},
   "outputs": [
    {
     "data": {
      "text/plain": [
       "690449.7352499999"
      ]
     },
     "execution_count": 17,
     "metadata": {},
     "output_type": "execute_result"
    }
   ],
   "source": [
    "mean_squared_error(y,y2_t)"
   ]
  },
  {
   "cell_type": "code",
   "execution_count": 18,
   "id": "6ae40c24",
   "metadata": {},
   "outputs": [
    {
     "data": {
      "text/plain": [
       "31354668.1274801"
      ]
     },
     "execution_count": 18,
     "metadata": {},
     "output_type": "execute_result"
    }
   ],
   "source": [
    "mean_squared_error(y,y3_t)"
   ]
  },
  {
   "cell_type": "code",
   "execution_count": null,
   "id": "14cf6469",
   "metadata": {},
   "outputs": [],
   "source": []
  }
 ],
 "metadata": {
  "kernelspec": {
   "display_name": "Python 3",
   "language": "python",
   "name": "python3"
  },
  "language_info": {
   "codemirror_mode": {
    "name": "ipython",
    "version": 3
   },
   "file_extension": ".py",
   "mimetype": "text/x-python",
   "name": "python",
   "nbconvert_exporter": "python",
   "pygments_lexer": "ipython3",
   "version": "3.8.8"
  }
 },
 "nbformat": 4,
 "nbformat_minor": 5
}
