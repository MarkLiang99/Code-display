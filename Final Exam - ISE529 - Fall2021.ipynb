{
 "cells": [
  {
   "cell_type": "markdown",
   "id": "58b8308e",
   "metadata": {},
   "source": [
    "# <center> Final Examination\n",
    "#### <center> ISE-529, Fall 2021\n",
    "#### <center>  Due:  October 9, 2021 by 7:00PM PST (note change!)\n",
    "#### <center> Haotian Liang"
   ]
  },
  {
   "cell_type": "markdown",
   "id": "8dc07979",
   "metadata": {},
   "source": [
    "**General instructions**:  This exam consists of 5 problems.  __You must complete problem 1.  You may select any 3 of the remaining 4 problems (2-5) to complete__.  Include only 4 of the problems in your solution, but do not include all 5 (if you include all 5, I will grade only the first 4).  Each problem is equally weighted (25 points per problem) with points equally distributed among the sub-questions within each problem.\n",
    "\n",
    "This exam is open books/open notes.  You may consult any resource to complete it.  However, all work must be done individually and you may not receive assistance from any other person.\n",
    "\n",
    "Complete the examination by entering your solutions (code and text) into this Jupyter Notebook file, create an HTML version (using File -> Download As) and upload the HTML version to Blackboard using the same procedures used for homework assignments.\n",
    "\n",
    "Good luck and enjoy your winter break!  I look forward to seeing many of you again in the spring semester!"
   ]
  },
  {
   "cell_type": "code",
   "execution_count": 243,
   "id": "cc4c32bf",
   "metadata": {},
   "outputs": [],
   "source": [
    "import numpy as np\n",
    "import pandas as pd\n",
    "from sklearn.metrics import r2_score\n",
    "from sklearn.linear_model import LogisticRegression\n",
    "from sklearn.linear_model import LinearRegression\n",
    "import matplotlib.pyplot as plt\n",
    "import statsmodels.api as sm\n",
    "from statsmodels.formula.api import ols\n",
    "import seaborn as sns\n",
    "from scipy.stats import ttest_1samp\n",
    "from sklearn.tree import DecisionTreeRegressor\n",
    "from sklearn import tree\n",
    "from sklearn.model_selection import train_test_split\n",
    "from sklearn.tree import export_text\n",
    "from sklearn.tree import DecisionTreeClassifier\n",
    "from sklearn.ensemble import RandomForestRegressor\n",
    "from sklearn.datasets import make_regression\n",
    "from sklearn.metrics import mean_squared_error\n",
    "from sklearn.ensemble import GradientBoostingRegressor\n",
    "from sklearn.metrics import accuracy_score\n",
    "from sklearn.svm import SVC"
   ]
  },
  {
   "cell_type": "markdown",
   "id": "e73be8ef",
   "metadata": {},
   "source": [
    "https://www.geeksforgeeks.org/detecting-multicollinearity-with-vif-python/\n",
    "https://www.w3schools.com/python/scipy/scipy_statistical_significance_tests.php\n",
    "https://scikit-learn.org/stable/modules/generated/sklearn.tree.export_text.html"
   ]
  },
  {
   "cell_type": "markdown",
   "id": "497d177b",
   "metadata": {},
   "source": [
    "**1)  Linear Model Development**\n",
    "\n",
    "For this problem we are going to develop a linear model.  We will be using only a training dataset and we will perform our assessments against that training dataset (there will be no test or validation data).  For this problem, use the OLS linear regression model in the statsmodels package.  Don't forget that when using this package that we need to add a constant to the predictor (X) dataframe (using the sm.add_constant() function)\n",
    "\n",
    "Load the file \"Problem 1 Data.csv\" into a dataframe and perform the following opeartions:"
   ]
  },
  {
   "cell_type": "code",
   "execution_count": 244,
   "id": "fe9da35c",
   "metadata": {},
   "outputs": [
    {
     "data": {
      "text/html": [
       "<div>\n",
       "<style scoped>\n",
       "    .dataframe tbody tr th:only-of-type {\n",
       "        vertical-align: middle;\n",
       "    }\n",
       "\n",
       "    .dataframe tbody tr th {\n",
       "        vertical-align: top;\n",
       "    }\n",
       "\n",
       "    .dataframe thead th {\n",
       "        text-align: right;\n",
       "    }\n",
       "</style>\n",
       "<table border=\"1\" class=\"dataframe\">\n",
       "  <thead>\n",
       "    <tr style=\"text-align: right;\">\n",
       "      <th></th>\n",
       "      <th>X1</th>\n",
       "      <th>X2</th>\n",
       "      <th>X3</th>\n",
       "      <th>X4</th>\n",
       "      <th>X5</th>\n",
       "      <th>X6</th>\n",
       "      <th>Y</th>\n",
       "    </tr>\n",
       "  </thead>\n",
       "  <tbody>\n",
       "    <tr>\n",
       "      <th>0</th>\n",
       "      <td>416</td>\n",
       "      <td>799</td>\n",
       "      <td>392</td>\n",
       "      <td>782</td>\n",
       "      <td>558</td>\n",
       "      <td>778</td>\n",
       "      <td>26585.25739</td>\n",
       "    </tr>\n",
       "    <tr>\n",
       "      <th>1</th>\n",
       "      <td>869</td>\n",
       "      <td>611</td>\n",
       "      <td>433</td>\n",
       "      <td>559</td>\n",
       "      <td>618</td>\n",
       "      <td>648</td>\n",
       "      <td>25102.12336</td>\n",
       "    </tr>\n",
       "    <tr>\n",
       "      <th>2</th>\n",
       "      <td>382</td>\n",
       "      <td>688</td>\n",
       "      <td>174</td>\n",
       "      <td>839</td>\n",
       "      <td>405</td>\n",
       "      <td>834</td>\n",
       "      <td>30935.33046</td>\n",
       "    </tr>\n",
       "    <tr>\n",
       "      <th>3</th>\n",
       "      <td>159</td>\n",
       "      <td>776</td>\n",
       "      <td>796</td>\n",
       "      <td>714</td>\n",
       "      <td>562</td>\n",
       "      <td>740</td>\n",
       "      <td>23229.41281</td>\n",
       "    </tr>\n",
       "    <tr>\n",
       "      <th>4</th>\n",
       "      <td>836</td>\n",
       "      <td>352</td>\n",
       "      <td>849</td>\n",
       "      <td>734</td>\n",
       "      <td>880</td>\n",
       "      <td>582</td>\n",
       "      <td>27540.51232</td>\n",
       "    </tr>\n",
       "    <tr>\n",
       "      <th>...</th>\n",
       "      <td>...</td>\n",
       "      <td>...</td>\n",
       "      <td>...</td>\n",
       "      <td>...</td>\n",
       "      <td>...</td>\n",
       "      <td>...</td>\n",
       "      <td>...</td>\n",
       "    </tr>\n",
       "    <tr>\n",
       "      <th>995</th>\n",
       "      <td>816</td>\n",
       "      <td>761</td>\n",
       "      <td>742</td>\n",
       "      <td>639</td>\n",
       "      <td>798</td>\n",
       "      <td>784</td>\n",
       "      <td>22506.76782</td>\n",
       "    </tr>\n",
       "    <tr>\n",
       "      <th>996</th>\n",
       "      <td>762</td>\n",
       "      <td>1098</td>\n",
       "      <td>119</td>\n",
       "      <td>600</td>\n",
       "      <td>478</td>\n",
       "      <td>969</td>\n",
       "      <td>25592.92055</td>\n",
       "    </tr>\n",
       "    <tr>\n",
       "      <th>997</th>\n",
       "      <td>470</td>\n",
       "      <td>1084</td>\n",
       "      <td>245</td>\n",
       "      <td>990</td>\n",
       "      <td>520</td>\n",
       "      <td>970</td>\n",
       "      <td>35225.63495</td>\n",
       "    </tr>\n",
       "    <tr>\n",
       "      <th>998</th>\n",
       "      <td>839</td>\n",
       "      <td>461</td>\n",
       "      <td>399</td>\n",
       "      <td>805</td>\n",
       "      <td>726</td>\n",
       "      <td>280</td>\n",
       "      <td>32747.25257</td>\n",
       "    </tr>\n",
       "    <tr>\n",
       "      <th>999</th>\n",
       "      <td>910</td>\n",
       "      <td>518</td>\n",
       "      <td>224</td>\n",
       "      <td>414</td>\n",
       "      <td>386</td>\n",
       "      <td>323</td>\n",
       "      <td>71736.15666</td>\n",
       "    </tr>\n",
       "  </tbody>\n",
       "</table>\n",
       "<p>1000 rows × 7 columns</p>\n",
       "</div>"
      ],
      "text/plain": [
       "      X1    X2   X3   X4   X5   X6            Y\n",
       "0    416   799  392  782  558  778  26585.25739\n",
       "1    869   611  433  559  618  648  25102.12336\n",
       "2    382   688  174  839  405  834  30935.33046\n",
       "3    159   776  796  714  562  740  23229.41281\n",
       "4    836   352  849  734  880  582  27540.51232\n",
       "..   ...   ...  ...  ...  ...  ...          ...\n",
       "995  816   761  742  639  798  784  22506.76782\n",
       "996  762  1098  119  600  478  969  25592.92055\n",
       "997  470  1084  245  990  520  970  35225.63495\n",
       "998  839   461  399  805  726  280  32747.25257\n",
       "999  910   518  224  414  386  323  71736.15666\n",
       "\n",
       "[1000 rows x 7 columns]"
      ]
     },
     "execution_count": 244,
     "metadata": {},
     "output_type": "execute_result"
    }
   ],
   "source": [
    "Data_1 = pd.read_csv('Problem 1 Data.csv')\n",
    "Data_1"
   ]
  },
  {
   "cell_type": "markdown",
   "id": "63e9a38f",
   "metadata": {},
   "source": [
    "1a)  Check to see if there are any pairs of predictors that are highly correlated.  Remove a predictor if its correlation coefficient is greater than 0.75.  Remove the highest number of the pair (for example, if X1 and and X2 are highly correlated, remove X2)."
   ]
  },
  {
   "cell_type": "code",
   "execution_count": 245,
   "id": "bce18c58",
   "metadata": {},
   "outputs": [
    {
     "data": {
      "text/html": [
       "<div>\n",
       "<style scoped>\n",
       "    .dataframe tbody tr th:only-of-type {\n",
       "        vertical-align: middle;\n",
       "    }\n",
       "\n",
       "    .dataframe tbody tr th {\n",
       "        vertical-align: top;\n",
       "    }\n",
       "\n",
       "    .dataframe thead th {\n",
       "        text-align: right;\n",
       "    }\n",
       "</style>\n",
       "<table border=\"1\" class=\"dataframe\">\n",
       "  <thead>\n",
       "    <tr style=\"text-align: right;\">\n",
       "      <th></th>\n",
       "      <th>X1</th>\n",
       "      <th>X2</th>\n",
       "      <th>X3</th>\n",
       "      <th>X4</th>\n",
       "      <th>X5</th>\n",
       "      <th>X6</th>\n",
       "    </tr>\n",
       "  </thead>\n",
       "  <tbody>\n",
       "    <tr>\n",
       "      <th>X1</th>\n",
       "      <td>1.000000</td>\n",
       "      <td>0.062628</td>\n",
       "      <td>-0.001561</td>\n",
       "      <td>0.030482</td>\n",
       "      <td>0.488238</td>\n",
       "      <td>0.042176</td>\n",
       "    </tr>\n",
       "    <tr>\n",
       "      <th>X2</th>\n",
       "      <td>0.062628</td>\n",
       "      <td>1.000000</td>\n",
       "      <td>-0.028663</td>\n",
       "      <td>-0.018169</td>\n",
       "      <td>0.005195</td>\n",
       "      <td>0.806152</td>\n",
       "    </tr>\n",
       "    <tr>\n",
       "      <th>X3</th>\n",
       "      <td>-0.001561</td>\n",
       "      <td>-0.028663</td>\n",
       "      <td>1.000000</td>\n",
       "      <td>0.052549</td>\n",
       "      <td>0.668215</td>\n",
       "      <td>-0.015158</td>\n",
       "    </tr>\n",
       "    <tr>\n",
       "      <th>X4</th>\n",
       "      <td>0.030482</td>\n",
       "      <td>-0.018169</td>\n",
       "      <td>0.052549</td>\n",
       "      <td>1.000000</td>\n",
       "      <td>0.549192</td>\n",
       "      <td>-0.035130</td>\n",
       "    </tr>\n",
       "    <tr>\n",
       "      <th>X5</th>\n",
       "      <td>0.488238</td>\n",
       "      <td>0.005195</td>\n",
       "      <td>0.668215</td>\n",
       "      <td>0.549192</td>\n",
       "      <td>1.000000</td>\n",
       "      <td>-0.002166</td>\n",
       "    </tr>\n",
       "    <tr>\n",
       "      <th>X6</th>\n",
       "      <td>0.042176</td>\n",
       "      <td>0.806152</td>\n",
       "      <td>-0.015158</td>\n",
       "      <td>-0.035130</td>\n",
       "      <td>-0.002166</td>\n",
       "      <td>1.000000</td>\n",
       "    </tr>\n",
       "  </tbody>\n",
       "</table>\n",
       "</div>"
      ],
      "text/plain": [
       "          X1        X2        X3        X4        X5        X6\n",
       "X1  1.000000  0.062628 -0.001561  0.030482  0.488238  0.042176\n",
       "X2  0.062628  1.000000 -0.028663 -0.018169  0.005195  0.806152\n",
       "X3 -0.001561 -0.028663  1.000000  0.052549  0.668215 -0.015158\n",
       "X4  0.030482 -0.018169  0.052549  1.000000  0.549192 -0.035130\n",
       "X5  0.488238  0.005195  0.668215  0.549192  1.000000 -0.002166\n",
       "X6  0.042176  0.806152 -0.015158 -0.035130 -0.002166  1.000000"
      ]
     },
     "execution_count": 245,
     "metadata": {},
     "output_type": "execute_result"
    }
   ],
   "source": [
    "Data_1.select_dtypes(include=np.number).drop('Y',1).corr()"
   ]
  },
  {
   "cell_type": "code",
   "execution_count": 246,
   "id": "250075c3",
   "metadata": {},
   "outputs": [],
   "source": [
    "Data_1=Data_1.drop('X6',1)"
   ]
  },
  {
   "cell_type": "code",
   "execution_count": 247,
   "id": "5c966306",
   "metadata": {},
   "outputs": [
    {
     "data": {
      "text/html": [
       "<div>\n",
       "<style scoped>\n",
       "    .dataframe tbody tr th:only-of-type {\n",
       "        vertical-align: middle;\n",
       "    }\n",
       "\n",
       "    .dataframe tbody tr th {\n",
       "        vertical-align: top;\n",
       "    }\n",
       "\n",
       "    .dataframe thead th {\n",
       "        text-align: right;\n",
       "    }\n",
       "</style>\n",
       "<table border=\"1\" class=\"dataframe\">\n",
       "  <thead>\n",
       "    <tr style=\"text-align: right;\">\n",
       "      <th></th>\n",
       "      <th>X1</th>\n",
       "      <th>X2</th>\n",
       "      <th>X3</th>\n",
       "      <th>X4</th>\n",
       "      <th>X5</th>\n",
       "      <th>Y</th>\n",
       "    </tr>\n",
       "  </thead>\n",
       "  <tbody>\n",
       "    <tr>\n",
       "      <th>0</th>\n",
       "      <td>416</td>\n",
       "      <td>799</td>\n",
       "      <td>392</td>\n",
       "      <td>782</td>\n",
       "      <td>558</td>\n",
       "      <td>26585.25739</td>\n",
       "    </tr>\n",
       "    <tr>\n",
       "      <th>1</th>\n",
       "      <td>869</td>\n",
       "      <td>611</td>\n",
       "      <td>433</td>\n",
       "      <td>559</td>\n",
       "      <td>618</td>\n",
       "      <td>25102.12336</td>\n",
       "    </tr>\n",
       "    <tr>\n",
       "      <th>2</th>\n",
       "      <td>382</td>\n",
       "      <td>688</td>\n",
       "      <td>174</td>\n",
       "      <td>839</td>\n",
       "      <td>405</td>\n",
       "      <td>30935.33046</td>\n",
       "    </tr>\n",
       "    <tr>\n",
       "      <th>3</th>\n",
       "      <td>159</td>\n",
       "      <td>776</td>\n",
       "      <td>796</td>\n",
       "      <td>714</td>\n",
       "      <td>562</td>\n",
       "      <td>23229.41281</td>\n",
       "    </tr>\n",
       "    <tr>\n",
       "      <th>4</th>\n",
       "      <td>836</td>\n",
       "      <td>352</td>\n",
       "      <td>849</td>\n",
       "      <td>734</td>\n",
       "      <td>880</td>\n",
       "      <td>27540.51232</td>\n",
       "    </tr>\n",
       "    <tr>\n",
       "      <th>...</th>\n",
       "      <td>...</td>\n",
       "      <td>...</td>\n",
       "      <td>...</td>\n",
       "      <td>...</td>\n",
       "      <td>...</td>\n",
       "      <td>...</td>\n",
       "    </tr>\n",
       "    <tr>\n",
       "      <th>995</th>\n",
       "      <td>816</td>\n",
       "      <td>761</td>\n",
       "      <td>742</td>\n",
       "      <td>639</td>\n",
       "      <td>798</td>\n",
       "      <td>22506.76782</td>\n",
       "    </tr>\n",
       "    <tr>\n",
       "      <th>996</th>\n",
       "      <td>762</td>\n",
       "      <td>1098</td>\n",
       "      <td>119</td>\n",
       "      <td>600</td>\n",
       "      <td>478</td>\n",
       "      <td>25592.92055</td>\n",
       "    </tr>\n",
       "    <tr>\n",
       "      <th>997</th>\n",
       "      <td>470</td>\n",
       "      <td>1084</td>\n",
       "      <td>245</td>\n",
       "      <td>990</td>\n",
       "      <td>520</td>\n",
       "      <td>35225.63495</td>\n",
       "    </tr>\n",
       "    <tr>\n",
       "      <th>998</th>\n",
       "      <td>839</td>\n",
       "      <td>461</td>\n",
       "      <td>399</td>\n",
       "      <td>805</td>\n",
       "      <td>726</td>\n",
       "      <td>32747.25257</td>\n",
       "    </tr>\n",
       "    <tr>\n",
       "      <th>999</th>\n",
       "      <td>910</td>\n",
       "      <td>518</td>\n",
       "      <td>224</td>\n",
       "      <td>414</td>\n",
       "      <td>386</td>\n",
       "      <td>71736.15666</td>\n",
       "    </tr>\n",
       "  </tbody>\n",
       "</table>\n",
       "<p>1000 rows × 6 columns</p>\n",
       "</div>"
      ],
      "text/plain": [
       "      X1    X2   X3   X4   X5            Y\n",
       "0    416   799  392  782  558  26585.25739\n",
       "1    869   611  433  559  618  25102.12336\n",
       "2    382   688  174  839  405  30935.33046\n",
       "3    159   776  796  714  562  23229.41281\n",
       "4    836   352  849  734  880  27540.51232\n",
       "..   ...   ...  ...  ...  ...          ...\n",
       "995  816   761  742  639  798  22506.76782\n",
       "996  762  1098  119  600  478  25592.92055\n",
       "997  470  1084  245  990  520  35225.63495\n",
       "998  839   461  399  805  726  32747.25257\n",
       "999  910   518  224  414  386  71736.15666\n",
       "\n",
       "[1000 rows x 6 columns]"
      ]
     },
     "execution_count": 247,
     "metadata": {},
     "output_type": "execute_result"
    }
   ],
   "source": [
    "Data_1"
   ]
  },
  {
   "cell_type": "markdown",
   "id": "877c7435",
   "metadata": {},
   "source": [
    "1b)  Write a Python function to test for multi-collinearity.  Call your function vif and pass it two paramaters - predictors (a dataframe containing numeric predictors) and index (an integer indicating which predictor to test).\n",
    "\n",
    "Do not use a built-in function such as variance_inflation_factor from the statsmodels package.  "
   ]
  },
  {
   "cell_type": "code",
   "execution_count": 248,
   "id": "bd5df70a",
   "metadata": {},
   "outputs": [],
   "source": [
    "def vif(data):\n",
    "    w=[]\n",
    "    data=data.drop('Y',1)\n",
    "    a=len(data.columns)\n",
    "    for i in range(a):\n",
    "        data_list = list(data)\n",
    "        X = data.drop(data_list[i],1)\n",
    "        X = sm.add_constant(X)\n",
    "        model = sm.OLS(data[data_list[i]], X).fit()\n",
    "        r2_score = model.rsquared\n",
    "        vif = 1/(1-r2_score)\n",
    "        w.append(vif)\n",
    "    e=pd.DataFrame()\n",
    "    e['columns']=data.columns\n",
    "    e['multi-collinearity']=w\n",
    "    return e"
   ]
  },
  {
   "cell_type": "markdown",
   "id": "9405bbb3",
   "metadata": {},
   "source": [
    "1c)  Call the function for each numeric predictor in your dataset.  Drop any predictor from your dataset which has a VIF greater than 10."
   ]
  },
  {
   "cell_type": "code",
   "execution_count": 249,
   "id": "3f64c1fc",
   "metadata": {},
   "outputs": [
    {
     "data": {
      "text/html": [
       "<div>\n",
       "<style scoped>\n",
       "    .dataframe tbody tr th:only-of-type {\n",
       "        vertical-align: middle;\n",
       "    }\n",
       "\n",
       "    .dataframe tbody tr th {\n",
       "        vertical-align: top;\n",
       "    }\n",
       "\n",
       "    .dataframe thead th {\n",
       "        text-align: right;\n",
       "    }\n",
       "</style>\n",
       "<table border=\"1\" class=\"dataframe\">\n",
       "  <thead>\n",
       "    <tr style=\"text-align: right;\">\n",
       "      <th></th>\n",
       "      <th>columns</th>\n",
       "      <th>multi-collinearity</th>\n",
       "    </tr>\n",
       "  </thead>\n",
       "  <tbody>\n",
       "    <tr>\n",
       "      <th>0</th>\n",
       "      <td>X1</td>\n",
       "      <td>4.510285</td>\n",
       "    </tr>\n",
       "    <tr>\n",
       "      <th>1</th>\n",
       "      <td>X2</td>\n",
       "      <td>1.005256</td>\n",
       "    </tr>\n",
       "    <tr>\n",
       "      <th>2</th>\n",
       "      <td>X3</td>\n",
       "      <td>7.454348</td>\n",
       "    </tr>\n",
       "    <tr>\n",
       "      <th>3</th>\n",
       "      <td>X4</td>\n",
       "      <td>4.924278</td>\n",
       "    </tr>\n",
       "    <tr>\n",
       "      <th>4</th>\n",
       "      <td>X5</td>\n",
       "      <td>15.616375</td>\n",
       "    </tr>\n",
       "  </tbody>\n",
       "</table>\n",
       "</div>"
      ],
      "text/plain": [
       "  columns  multi-collinearity\n",
       "0      X1            4.510285\n",
       "1      X2            1.005256\n",
       "2      X3            7.454348\n",
       "3      X4            4.924278\n",
       "4      X5           15.616375"
      ]
     },
     "execution_count": 249,
     "metadata": {},
     "output_type": "execute_result"
    }
   ],
   "source": [
    "vif(Data_1)"
   ]
  },
  {
   "cell_type": "code",
   "execution_count": 250,
   "id": "0c75f360",
   "metadata": {},
   "outputs": [],
   "source": [
    "Data_1=Data_1.drop('X5',1)"
   ]
  },
  {
   "cell_type": "code",
   "execution_count": 251,
   "id": "4be090df",
   "metadata": {},
   "outputs": [
    {
     "data": {
      "text/html": [
       "<div>\n",
       "<style scoped>\n",
       "    .dataframe tbody tr th:only-of-type {\n",
       "        vertical-align: middle;\n",
       "    }\n",
       "\n",
       "    .dataframe tbody tr th {\n",
       "        vertical-align: top;\n",
       "    }\n",
       "\n",
       "    .dataframe thead th {\n",
       "        text-align: right;\n",
       "    }\n",
       "</style>\n",
       "<table border=\"1\" class=\"dataframe\">\n",
       "  <thead>\n",
       "    <tr style=\"text-align: right;\">\n",
       "      <th></th>\n",
       "      <th>X1</th>\n",
       "      <th>X2</th>\n",
       "      <th>X3</th>\n",
       "      <th>X4</th>\n",
       "      <th>Y</th>\n",
       "    </tr>\n",
       "  </thead>\n",
       "  <tbody>\n",
       "    <tr>\n",
       "      <th>0</th>\n",
       "      <td>416</td>\n",
       "      <td>799</td>\n",
       "      <td>392</td>\n",
       "      <td>782</td>\n",
       "      <td>26585.25739</td>\n",
       "    </tr>\n",
       "    <tr>\n",
       "      <th>1</th>\n",
       "      <td>869</td>\n",
       "      <td>611</td>\n",
       "      <td>433</td>\n",
       "      <td>559</td>\n",
       "      <td>25102.12336</td>\n",
       "    </tr>\n",
       "    <tr>\n",
       "      <th>2</th>\n",
       "      <td>382</td>\n",
       "      <td>688</td>\n",
       "      <td>174</td>\n",
       "      <td>839</td>\n",
       "      <td>30935.33046</td>\n",
       "    </tr>\n",
       "    <tr>\n",
       "      <th>3</th>\n",
       "      <td>159</td>\n",
       "      <td>776</td>\n",
       "      <td>796</td>\n",
       "      <td>714</td>\n",
       "      <td>23229.41281</td>\n",
       "    </tr>\n",
       "    <tr>\n",
       "      <th>4</th>\n",
       "      <td>836</td>\n",
       "      <td>352</td>\n",
       "      <td>849</td>\n",
       "      <td>734</td>\n",
       "      <td>27540.51232</td>\n",
       "    </tr>\n",
       "    <tr>\n",
       "      <th>...</th>\n",
       "      <td>...</td>\n",
       "      <td>...</td>\n",
       "      <td>...</td>\n",
       "      <td>...</td>\n",
       "      <td>...</td>\n",
       "    </tr>\n",
       "    <tr>\n",
       "      <th>995</th>\n",
       "      <td>816</td>\n",
       "      <td>761</td>\n",
       "      <td>742</td>\n",
       "      <td>639</td>\n",
       "      <td>22506.76782</td>\n",
       "    </tr>\n",
       "    <tr>\n",
       "      <th>996</th>\n",
       "      <td>762</td>\n",
       "      <td>1098</td>\n",
       "      <td>119</td>\n",
       "      <td>600</td>\n",
       "      <td>25592.92055</td>\n",
       "    </tr>\n",
       "    <tr>\n",
       "      <th>997</th>\n",
       "      <td>470</td>\n",
       "      <td>1084</td>\n",
       "      <td>245</td>\n",
       "      <td>990</td>\n",
       "      <td>35225.63495</td>\n",
       "    </tr>\n",
       "    <tr>\n",
       "      <th>998</th>\n",
       "      <td>839</td>\n",
       "      <td>461</td>\n",
       "      <td>399</td>\n",
       "      <td>805</td>\n",
       "      <td>32747.25257</td>\n",
       "    </tr>\n",
       "    <tr>\n",
       "      <th>999</th>\n",
       "      <td>910</td>\n",
       "      <td>518</td>\n",
       "      <td>224</td>\n",
       "      <td>414</td>\n",
       "      <td>71736.15666</td>\n",
       "    </tr>\n",
       "  </tbody>\n",
       "</table>\n",
       "<p>1000 rows × 5 columns</p>\n",
       "</div>"
      ],
      "text/plain": [
       "      X1    X2   X3   X4            Y\n",
       "0    416   799  392  782  26585.25739\n",
       "1    869   611  433  559  25102.12336\n",
       "2    382   688  174  839  30935.33046\n",
       "3    159   776  796  714  23229.41281\n",
       "4    836   352  849  734  27540.51232\n",
       "..   ...   ...  ...  ...          ...\n",
       "995  816   761  742  639  22506.76782\n",
       "996  762  1098  119  600  25592.92055\n",
       "997  470  1084  245  990  35225.63495\n",
       "998  839   461  399  805  32747.25257\n",
       "999  910   518  224  414  71736.15666\n",
       "\n",
       "[1000 rows x 5 columns]"
      ]
     },
     "execution_count": 251,
     "metadata": {},
     "output_type": "execute_result"
    }
   ],
   "source": [
    "Data_1"
   ]
  },
  {
   "cell_type": "markdown",
   "id": "71cf794d",
   "metadata": {},
   "source": [
    "1d)  Re-check your dataframe to see if there are still any predictors with VIF scores greater than 10 or pairs of predictors with a correlation coefficient greater than 0.75."
   ]
  },
  {
   "cell_type": "code",
   "execution_count": 252,
   "id": "e30f5539",
   "metadata": {},
   "outputs": [
    {
     "data": {
      "text/html": [
       "<div>\n",
       "<style scoped>\n",
       "    .dataframe tbody tr th:only-of-type {\n",
       "        vertical-align: middle;\n",
       "    }\n",
       "\n",
       "    .dataframe tbody tr th {\n",
       "        vertical-align: top;\n",
       "    }\n",
       "\n",
       "    .dataframe thead th {\n",
       "        text-align: right;\n",
       "    }\n",
       "</style>\n",
       "<table border=\"1\" class=\"dataframe\">\n",
       "  <thead>\n",
       "    <tr style=\"text-align: right;\">\n",
       "      <th></th>\n",
       "      <th>columns</th>\n",
       "      <th>multi-collinearity</th>\n",
       "    </tr>\n",
       "  </thead>\n",
       "  <tbody>\n",
       "    <tr>\n",
       "      <th>0</th>\n",
       "      <td>X1</td>\n",
       "      <td>1.004949</td>\n",
       "    </tr>\n",
       "    <tr>\n",
       "      <th>1</th>\n",
       "      <td>X2</td>\n",
       "      <td>1.005111</td>\n",
       "    </tr>\n",
       "    <tr>\n",
       "      <th>2</th>\n",
       "      <td>X3</td>\n",
       "      <td>1.003544</td>\n",
       "    </tr>\n",
       "    <tr>\n",
       "      <th>3</th>\n",
       "      <td>X4</td>\n",
       "      <td>1.004059</td>\n",
       "    </tr>\n",
       "  </tbody>\n",
       "</table>\n",
       "</div>"
      ],
      "text/plain": [
       "  columns  multi-collinearity\n",
       "0      X1            1.004949\n",
       "1      X2            1.005111\n",
       "2      X3            1.003544\n",
       "3      X4            1.004059"
      ]
     },
     "execution_count": 252,
     "metadata": {},
     "output_type": "execute_result"
    }
   ],
   "source": [
    "vif(Data_1)"
   ]
  },
  {
   "cell_type": "code",
   "execution_count": 253,
   "id": "5bba974b",
   "metadata": {},
   "outputs": [
    {
     "data": {
      "text/html": [
       "<div>\n",
       "<style scoped>\n",
       "    .dataframe tbody tr th:only-of-type {\n",
       "        vertical-align: middle;\n",
       "    }\n",
       "\n",
       "    .dataframe tbody tr th {\n",
       "        vertical-align: top;\n",
       "    }\n",
       "\n",
       "    .dataframe thead th {\n",
       "        text-align: right;\n",
       "    }\n",
       "</style>\n",
       "<table border=\"1\" class=\"dataframe\">\n",
       "  <thead>\n",
       "    <tr style=\"text-align: right;\">\n",
       "      <th></th>\n",
       "      <th>X1</th>\n",
       "      <th>X2</th>\n",
       "      <th>X3</th>\n",
       "      <th>X4</th>\n",
       "    </tr>\n",
       "  </thead>\n",
       "  <tbody>\n",
       "    <tr>\n",
       "      <th>X1</th>\n",
       "      <td>1.000000</td>\n",
       "      <td>0.062628</td>\n",
       "      <td>-0.001561</td>\n",
       "      <td>0.030482</td>\n",
       "    </tr>\n",
       "    <tr>\n",
       "      <th>X2</th>\n",
       "      <td>0.062628</td>\n",
       "      <td>1.000000</td>\n",
       "      <td>-0.028663</td>\n",
       "      <td>-0.018169</td>\n",
       "    </tr>\n",
       "    <tr>\n",
       "      <th>X3</th>\n",
       "      <td>-0.001561</td>\n",
       "      <td>-0.028663</td>\n",
       "      <td>1.000000</td>\n",
       "      <td>0.052549</td>\n",
       "    </tr>\n",
       "    <tr>\n",
       "      <th>X4</th>\n",
       "      <td>0.030482</td>\n",
       "      <td>-0.018169</td>\n",
       "      <td>0.052549</td>\n",
       "      <td>1.000000</td>\n",
       "    </tr>\n",
       "  </tbody>\n",
       "</table>\n",
       "</div>"
      ],
      "text/plain": [
       "          X1        X2        X3        X4\n",
       "X1  1.000000  0.062628 -0.001561  0.030482\n",
       "X2  0.062628  1.000000 -0.028663 -0.018169\n",
       "X3 -0.001561 -0.028663  1.000000  0.052549\n",
       "X4  0.030482 -0.018169  0.052549  1.000000"
      ]
     },
     "execution_count": 253,
     "metadata": {},
     "output_type": "execute_result"
    }
   ],
   "source": [
    "Data_1.select_dtypes(include=np.number).drop('Y',1).corr()"
   ]
  },
  {
   "cell_type": "markdown",
   "id": "33dc6918",
   "metadata": {},
   "source": [
    "1e)  Create a linear regression model for your dataset.  What is the training $R^{2}$?"
   ]
  },
  {
   "cell_type": "code",
   "execution_count": 254,
   "id": "672d255f",
   "metadata": {},
   "outputs": [
    {
     "data": {
      "text/html": [
       "<div>\n",
       "<style scoped>\n",
       "    .dataframe tbody tr th:only-of-type {\n",
       "        vertical-align: middle;\n",
       "    }\n",
       "\n",
       "    .dataframe tbody tr th {\n",
       "        vertical-align: top;\n",
       "    }\n",
       "\n",
       "    .dataframe thead th {\n",
       "        text-align: right;\n",
       "    }\n",
       "</style>\n",
       "<table border=\"1\" class=\"dataframe\">\n",
       "  <thead>\n",
       "    <tr style=\"text-align: right;\">\n",
       "      <th></th>\n",
       "      <th>const</th>\n",
       "      <th>X1</th>\n",
       "      <th>X2</th>\n",
       "      <th>X3</th>\n",
       "      <th>X4</th>\n",
       "      <th>Y</th>\n",
       "    </tr>\n",
       "  </thead>\n",
       "  <tbody>\n",
       "    <tr>\n",
       "      <th>0</th>\n",
       "      <td>1.0</td>\n",
       "      <td>416</td>\n",
       "      <td>799</td>\n",
       "      <td>392</td>\n",
       "      <td>782</td>\n",
       "      <td>26585.25739</td>\n",
       "    </tr>\n",
       "    <tr>\n",
       "      <th>1</th>\n",
       "      <td>1.0</td>\n",
       "      <td>869</td>\n",
       "      <td>611</td>\n",
       "      <td>433</td>\n",
       "      <td>559</td>\n",
       "      <td>25102.12336</td>\n",
       "    </tr>\n",
       "    <tr>\n",
       "      <th>2</th>\n",
       "      <td>1.0</td>\n",
       "      <td>382</td>\n",
       "      <td>688</td>\n",
       "      <td>174</td>\n",
       "      <td>839</td>\n",
       "      <td>30935.33046</td>\n",
       "    </tr>\n",
       "    <tr>\n",
       "      <th>3</th>\n",
       "      <td>1.0</td>\n",
       "      <td>159</td>\n",
       "      <td>776</td>\n",
       "      <td>796</td>\n",
       "      <td>714</td>\n",
       "      <td>23229.41281</td>\n",
       "    </tr>\n",
       "    <tr>\n",
       "      <th>4</th>\n",
       "      <td>1.0</td>\n",
       "      <td>836</td>\n",
       "      <td>352</td>\n",
       "      <td>849</td>\n",
       "      <td>734</td>\n",
       "      <td>27540.51232</td>\n",
       "    </tr>\n",
       "    <tr>\n",
       "      <th>...</th>\n",
       "      <td>...</td>\n",
       "      <td>...</td>\n",
       "      <td>...</td>\n",
       "      <td>...</td>\n",
       "      <td>...</td>\n",
       "      <td>...</td>\n",
       "    </tr>\n",
       "    <tr>\n",
       "      <th>995</th>\n",
       "      <td>1.0</td>\n",
       "      <td>816</td>\n",
       "      <td>761</td>\n",
       "      <td>742</td>\n",
       "      <td>639</td>\n",
       "      <td>22506.76782</td>\n",
       "    </tr>\n",
       "    <tr>\n",
       "      <th>996</th>\n",
       "      <td>1.0</td>\n",
       "      <td>762</td>\n",
       "      <td>1098</td>\n",
       "      <td>119</td>\n",
       "      <td>600</td>\n",
       "      <td>25592.92055</td>\n",
       "    </tr>\n",
       "    <tr>\n",
       "      <th>997</th>\n",
       "      <td>1.0</td>\n",
       "      <td>470</td>\n",
       "      <td>1084</td>\n",
       "      <td>245</td>\n",
       "      <td>990</td>\n",
       "      <td>35225.63495</td>\n",
       "    </tr>\n",
       "    <tr>\n",
       "      <th>998</th>\n",
       "      <td>1.0</td>\n",
       "      <td>839</td>\n",
       "      <td>461</td>\n",
       "      <td>399</td>\n",
       "      <td>805</td>\n",
       "      <td>32747.25257</td>\n",
       "    </tr>\n",
       "    <tr>\n",
       "      <th>999</th>\n",
       "      <td>1.0</td>\n",
       "      <td>910</td>\n",
       "      <td>518</td>\n",
       "      <td>224</td>\n",
       "      <td>414</td>\n",
       "      <td>71736.15666</td>\n",
       "    </tr>\n",
       "  </tbody>\n",
       "</table>\n",
       "<p>1000 rows × 6 columns</p>\n",
       "</div>"
      ],
      "text/plain": [
       "     const   X1    X2   X3   X4            Y\n",
       "0      1.0  416   799  392  782  26585.25739\n",
       "1      1.0  869   611  433  559  25102.12336\n",
       "2      1.0  382   688  174  839  30935.33046\n",
       "3      1.0  159   776  796  714  23229.41281\n",
       "4      1.0  836   352  849  734  27540.51232\n",
       "..     ...  ...   ...  ...  ...          ...\n",
       "995    1.0  816   761  742  639  22506.76782\n",
       "996    1.0  762  1098  119  600  25592.92055\n",
       "997    1.0  470  1084  245  990  35225.63495\n",
       "998    1.0  839   461  399  805  32747.25257\n",
       "999    1.0  910   518  224  414  71736.15666\n",
       "\n",
       "[1000 rows x 6 columns]"
      ]
     },
     "execution_count": 254,
     "metadata": {},
     "output_type": "execute_result"
    }
   ],
   "source": [
    "Data_1=sm.add_constant(Data_1)\n",
    "Data_1"
   ]
  },
  {
   "cell_type": "code",
   "execution_count": 255,
   "id": "9914d739",
   "metadata": {},
   "outputs": [],
   "source": [
    "y = Data_1['Y']"
   ]
  },
  {
   "cell_type": "code",
   "execution_count": 256,
   "id": "9cd69b92",
   "metadata": {},
   "outputs": [
    {
     "data": {
      "text/html": [
       "<table class=\"simpletable\">\n",
       "<caption>OLS Regression Results</caption>\n",
       "<tr>\n",
       "  <th>Dep. Variable:</th>            <td>Y</td>        <th>  R-squared:         </th> <td>   0.930</td> \n",
       "</tr>\n",
       "<tr>\n",
       "  <th>Model:</th>                   <td>OLS</td>       <th>  Adj. R-squared:    </th> <td>   0.930</td> \n",
       "</tr>\n",
       "<tr>\n",
       "  <th>Method:</th>             <td>Least Squares</td>  <th>  F-statistic:       </th> <td>   3296.</td> \n",
       "</tr>\n",
       "<tr>\n",
       "  <th>Date:</th>             <td>Thu, 09 Dec 2021</td> <th>  Prob (F-statistic):</th>  <td>  0.00</td>  \n",
       "</tr>\n",
       "<tr>\n",
       "  <th>Time:</th>                 <td>16:15:55</td>     <th>  Log-Likelihood:    </th> <td> -8998.5</td> \n",
       "</tr>\n",
       "<tr>\n",
       "  <th>No. Observations:</th>      <td>  1000</td>      <th>  AIC:               </th> <td>1.801e+04</td>\n",
       "</tr>\n",
       "<tr>\n",
       "  <th>Df Residuals:</th>          <td>   995</td>      <th>  BIC:               </th> <td>1.803e+04</td>\n",
       "</tr>\n",
       "<tr>\n",
       "  <th>Df Model:</th>              <td>     4</td>      <th>                     </th>     <td> </td>    \n",
       "</tr>\n",
       "<tr>\n",
       "  <th>Covariance Type:</th>      <td>nonrobust</td>    <th>                     </th>     <td> </td>    \n",
       "</tr>\n",
       "</table>\n",
       "<table class=\"simpletable\">\n",
       "<tr>\n",
       "    <td></td>       <th>coef</th>     <th>std err</th>      <th>t</th>      <th>P>|t|</th>  <th>[0.025</th>    <th>0.975]</th>  \n",
       "</tr>\n",
       "<tr>\n",
       "  <th>const</th> <td> 7653.7866</td> <td>  251.858</td> <td>   30.389</td> <td> 0.000</td> <td> 7159.553</td> <td> 8148.020</td>\n",
       "</tr>\n",
       "<tr>\n",
       "  <th>X1</th>    <td>    5.3198</td> <td>    0.238</td> <td>   22.362</td> <td> 0.000</td> <td>    4.853</td> <td>    5.787</td>\n",
       "</tr>\n",
       "<tr>\n",
       "  <th>X2</th>    <td>   -0.1112</td> <td>    0.189</td> <td>   -0.589</td> <td> 0.556</td> <td>   -0.482</td> <td>    0.259</td>\n",
       "</tr>\n",
       "<tr>\n",
       "  <th>X3</th>    <td>   -5.1418</td> <td>    0.236</td> <td>  -21.756</td> <td> 0.000</td> <td>   -5.606</td> <td>   -4.678</td>\n",
       "</tr>\n",
       "<tr>\n",
       "  <th>X4</th>    <td>   25.9947</td> <td>    0.235</td> <td>  110.712</td> <td> 0.000</td> <td>   25.534</td> <td>   26.455</td>\n",
       "</tr>\n",
       "</table>\n",
       "<table class=\"simpletable\">\n",
       "<tr>\n",
       "  <th>Omnibus:</th>       <td>2083.015</td> <th>  Durbin-Watson:     </th>  <td>   1.323</td>  \n",
       "</tr>\n",
       "<tr>\n",
       "  <th>Prob(Omnibus):</th>  <td> 0.000</td>  <th>  Jarque-Bera (JB):  </th> <td>7127999.605</td>\n",
       "</tr>\n",
       "<tr>\n",
       "  <th>Skew:</th>           <td>16.341</td>  <th>  Prob(JB):          </th>  <td>    0.00</td>  \n",
       "</tr>\n",
       "<tr>\n",
       "  <th>Kurtosis:</th>       <td>415.315</td> <th>  Cond. No.          </th>  <td>4.66e+03</td>  \n",
       "</tr>\n",
       "</table><br/><br/>Notes:<br/>[1] Standard Errors assume that the covariance matrix of the errors is correctly specified.<br/>[2] The condition number is large, 4.66e+03. This might indicate that there are<br/>strong multicollinearity or other numerical problems."
      ],
      "text/plain": [
       "<class 'statsmodels.iolib.summary.Summary'>\n",
       "\"\"\"\n",
       "                            OLS Regression Results                            \n",
       "==============================================================================\n",
       "Dep. Variable:                      Y   R-squared:                       0.930\n",
       "Model:                            OLS   Adj. R-squared:                  0.930\n",
       "Method:                 Least Squares   F-statistic:                     3296.\n",
       "Date:                Thu, 09 Dec 2021   Prob (F-statistic):               0.00\n",
       "Time:                        16:15:55   Log-Likelihood:                -8998.5\n",
       "No. Observations:                1000   AIC:                         1.801e+04\n",
       "Df Residuals:                     995   BIC:                         1.803e+04\n",
       "Df Model:                           4                                         \n",
       "Covariance Type:            nonrobust                                         \n",
       "==============================================================================\n",
       "                 coef    std err          t      P>|t|      [0.025      0.975]\n",
       "------------------------------------------------------------------------------\n",
       "const       7653.7866    251.858     30.389      0.000    7159.553    8148.020\n",
       "X1             5.3198      0.238     22.362      0.000       4.853       5.787\n",
       "X2            -0.1112      0.189     -0.589      0.556      -0.482       0.259\n",
       "X3            -5.1418      0.236    -21.756      0.000      -5.606      -4.678\n",
       "X4            25.9947      0.235    110.712      0.000      25.534      26.455\n",
       "==============================================================================\n",
       "Omnibus:                     2083.015   Durbin-Watson:                   1.323\n",
       "Prob(Omnibus):                  0.000   Jarque-Bera (JB):          7127999.605\n",
       "Skew:                          16.341   Prob(JB):                         0.00\n",
       "Kurtosis:                     415.315   Cond. No.                     4.66e+03\n",
       "==============================================================================\n",
       "\n",
       "Notes:\n",
       "[1] Standard Errors assume that the covariance matrix of the errors is correctly specified.\n",
       "[2] The condition number is large, 4.66e+03. This might indicate that there are\n",
       "strong multicollinearity or other numerical problems.\n",
       "\"\"\""
      ]
     },
     "execution_count": 256,
     "metadata": {},
     "output_type": "execute_result"
    }
   ],
   "source": [
    "est = sm.OLS(y, Data_1.drop('Y',1)).fit()\n",
    "est.summary()"
   ]
  },
  {
   "cell_type": "code",
   "execution_count": 257,
   "id": "baebed0e",
   "metadata": {},
   "outputs": [
    {
     "name": "stdout",
     "output_type": "stream",
     "text": [
      "R-squared is 0.93\n"
     ]
    }
   ],
   "source": [
    "print('R-squared is',0.930)"
   ]
  },
  {
   "cell_type": "markdown",
   "id": "e7033889",
   "metadata": {},
   "source": [
    "1f)  Create a residuals plot and remove any obvious outliers"
   ]
  },
  {
   "cell_type": "code",
   "execution_count": 258,
   "id": "6f1c6bbd",
   "metadata": {},
   "outputs": [
    {
     "data": {
      "text/plain": [
       "0      -1505.015573\n",
       "1        588.686762\n",
       "2        410.986041\n",
       "3        348.702993\n",
       "4        763.752189\n",
       "           ...     \n",
       "995    -2198.803266\n",
       "996     -977.455131\n",
       "997      717.038703\n",
       "998     1807.224342\n",
       "999    49688.862153\n",
       "Length: 1000, dtype: float64"
      ]
     },
     "execution_count": 258,
     "metadata": {},
     "output_type": "execute_result"
    }
   ],
   "source": [
    "y_hat=est.resid\n",
    "y_hat"
   ]
  },
  {
   "cell_type": "code",
   "execution_count": 259,
   "id": "2a45f415",
   "metadata": {},
   "outputs": [
    {
     "data": {
      "text/plain": [
       "<matplotlib.collections.PathCollection at 0x1c8a40d87c0>"
      ]
     },
     "execution_count": 259,
     "metadata": {},
     "output_type": "execute_result"
    },
    {
     "data": {
      "image/png": "[encoded data removed]",
      "text/plain": [
       "<Figure size 432x288 with 1 Axes>"
      ]
     },
     "metadata": {
      "needs_background": "light"
     },
     "output_type": "display_data"
    }
   ],
   "source": [
    "plt.scatter(y,y_hat)"
   ]
  },
  {
   "cell_type": "code",
   "execution_count": 260,
   "id": "5104cc71",
   "metadata": {},
   "outputs": [
    {
     "data": {
      "text/plain": [
       "Int64Index([999], dtype='int64')"
      ]
     },
     "execution_count": 260,
     "metadata": {},
     "output_type": "execute_result"
    }
   ],
   "source": [
    "out_l=y_hat.nlargest(n=1).index\n",
    "out_l"
   ]
  },
  {
   "cell_type": "code",
   "execution_count": 261,
   "id": "0cfa19dc",
   "metadata": {},
   "outputs": [],
   "source": [
    "Data_1=Data_1.drop(Data_1.index[999])"
   ]
  },
  {
   "cell_type": "markdown",
   "id": "1ef9e2d2",
   "metadata": {},
   "source": [
    "1g)  Re-create the residuals plot.  Do you observe anything in it indicating a need for model improvement?"
   ]
  },
  {
   "cell_type": "code",
   "execution_count": 262,
   "id": "ba3224f0",
   "metadata": {},
   "outputs": [
    {
     "data": {
      "text/plain": [
       "0     -1486.796885\n",
       "1       745.027829\n",
       "2       469.107969\n",
       "3       213.761647\n",
       "4       806.753862\n",
       "          ...     \n",
       "994    -782.383714\n",
       "995   -2141.390160\n",
       "996    -797.955406\n",
       "997     752.262121\n",
       "998    1944.251358\n",
       "Length: 999, dtype: float64"
      ]
     },
     "execution_count": 262,
     "metadata": {},
     "output_type": "execute_result"
    }
   ],
   "source": [
    "est_1=sm.OLS(Data_1['Y'], Data_1.drop('Y',1)).fit()\n",
    "y_hat_1=est_1.resid\n",
    "y_hat_1"
   ]
  },
  {
   "cell_type": "code",
   "execution_count": 263,
   "id": "11e3d677",
   "metadata": {},
   "outputs": [
    {
     "data": {
      "text/plain": [
       "<matplotlib.collections.PathCollection at 0x1c8a2ab4100>"
      ]
     },
     "execution_count": 263,
     "metadata": {},
     "output_type": "execute_result"
    },
    {
     "data": {
      "image/png": "[encoded data removed]",
      "text/plain": [
       "<Figure size 432x288 with 1 Axes>"
      ]
     },
     "metadata": {
      "needs_background": "light"
     },
     "output_type": "display_data"
    }
   ],
   "source": [
    "plt.scatter(Data_1['Y'],y_hat_1)"
   ]
  },
  {
   "cell_type": "code",
   "execution_count": 264,
   "id": "e3d1baf0",
   "metadata": {},
   "outputs": [
    {
     "name": "stdout",
     "output_type": "stream",
     "text": [
      "No, I did not see the outliers anymore and no improvement needed\n"
     ]
    }
   ],
   "source": [
    "print('No, I did not see the outliers anymore and no improvement needed')"
   ]
  },
  {
   "cell_type": "markdown",
   "id": "5f4be013",
   "metadata": {},
   "source": [
    "1h)  Using scatterplots,assess the relationship of each predictor to the response variable Y.  If any appear to have a non-linear relationship, try adding a \"squared\" value to the dataset as a new predictor and create a new model."
   ]
  },
  {
   "cell_type": "code",
   "execution_count": 265,
   "id": "1884468f",
   "metadata": {},
   "outputs": [
    {
     "data": {
      "image/png": "[encoded data removed]",
      "text/plain": [
       "<Figure size 432x288 with 1 Axes>"
      ]
     },
     "metadata": {
      "needs_background": "light"
     },
     "output_type": "display_data"
    }
   ],
   "source": [
    "plt.scatter(Data_1['X1'], Data_1['Y'])\n",
    "plt.xlabel('X1')\n",
    "plt.ylabel('Y')\n",
    "plt.show()"
   ]
  },
  {
   "cell_type": "code",
   "execution_count": 266,
   "id": "02feb32e",
   "metadata": {},
   "outputs": [
    {
     "data": {
      "image/png": "[encoded data removed]",
      "text/plain": [
       "<Figure size 432x288 with 1 Axes>"
      ]
     },
     "metadata": {
      "needs_background": "light"
     },
     "output_type": "display_data"
    }
   ],
   "source": [
    "plt.scatter(Data_1['X2'], Data_1['Y'])\n",
    "plt.xlabel('X2')\n",
    "plt.ylabel('Y')\n",
    "plt.show()"
   ]
  },
  {
   "cell_type": "code",
   "execution_count": 267,
   "id": "c9b4aa97",
   "metadata": {},
   "outputs": [
    {
     "data": {
      "image/png": "[encoded data removed]",
      "text/plain": [
       "<Figure size 432x288 with 1 Axes>"
      ]
     },
     "metadata": {
      "needs_background": "light"
     },
     "output_type": "display_data"
    }
   ],
   "source": [
    "plt.scatter(Data_1['X3'], Data_1['Y'])\n",
    "plt.xlabel('X3')\n",
    "plt.ylabel('Y')\n",
    "plt.show()"
   ]
  },
  {
   "cell_type": "code",
   "execution_count": 268,
   "id": "e4c939ad",
   "metadata": {},
   "outputs": [
    {
     "data": {
      "image/png": "[encoded data removed]",
      "text/plain": [
       "<Figure size 432x288 with 1 Axes>"
      ]
     },
     "metadata": {
      "needs_background": "light"
     },
     "output_type": "display_data"
    }
   ],
   "source": [
    "plt.scatter(Data_1['X4'], Data_1['Y'])\n",
    "plt.xlabel('X4')\n",
    "plt.ylabel('Y')\n",
    "plt.show()"
   ]
  },
  {
   "cell_type": "code",
   "execution_count": 269,
   "id": "cbe7f40f",
   "metadata": {},
   "outputs": [
    {
     "data": {
      "text/html": [
       "<div>\n",
       "<style scoped>\n",
       "    .dataframe tbody tr th:only-of-type {\n",
       "        vertical-align: middle;\n",
       "    }\n",
       "\n",
       "    .dataframe tbody tr th {\n",
       "        vertical-align: top;\n",
       "    }\n",
       "\n",
       "    .dataframe thead th {\n",
       "        text-align: right;\n",
       "    }\n",
       "</style>\n",
       "<table border=\"1\" class=\"dataframe\">\n",
       "  <thead>\n",
       "    <tr style=\"text-align: right;\">\n",
       "      <th></th>\n",
       "      <th>const</th>\n",
       "      <th>X1</th>\n",
       "      <th>X2</th>\n",
       "      <th>X3</th>\n",
       "      <th>X4</th>\n",
       "      <th>Y</th>\n",
       "      <th>X4_2</th>\n",
       "    </tr>\n",
       "  </thead>\n",
       "  <tbody>\n",
       "    <tr>\n",
       "      <th>0</th>\n",
       "      <td>1.0</td>\n",
       "      <td>416</td>\n",
       "      <td>799</td>\n",
       "      <td>392</td>\n",
       "      <td>782</td>\n",
       "      <td>26585.25739</td>\n",
       "      <td>611524</td>\n",
       "    </tr>\n",
       "    <tr>\n",
       "      <th>1</th>\n",
       "      <td>1.0</td>\n",
       "      <td>869</td>\n",
       "      <td>611</td>\n",
       "      <td>433</td>\n",
       "      <td>559</td>\n",
       "      <td>25102.12336</td>\n",
       "      <td>312481</td>\n",
       "    </tr>\n",
       "    <tr>\n",
       "      <th>2</th>\n",
       "      <td>1.0</td>\n",
       "      <td>382</td>\n",
       "      <td>688</td>\n",
       "      <td>174</td>\n",
       "      <td>839</td>\n",
       "      <td>30935.33046</td>\n",
       "      <td>703921</td>\n",
       "    </tr>\n",
       "    <tr>\n",
       "      <th>3</th>\n",
       "      <td>1.0</td>\n",
       "      <td>159</td>\n",
       "      <td>776</td>\n",
       "      <td>796</td>\n",
       "      <td>714</td>\n",
       "      <td>23229.41281</td>\n",
       "      <td>509796</td>\n",
       "    </tr>\n",
       "    <tr>\n",
       "      <th>4</th>\n",
       "      <td>1.0</td>\n",
       "      <td>836</td>\n",
       "      <td>352</td>\n",
       "      <td>849</td>\n",
       "      <td>734</td>\n",
       "      <td>27540.51232</td>\n",
       "      <td>538756</td>\n",
       "    </tr>\n",
       "    <tr>\n",
       "      <th>...</th>\n",
       "      <td>...</td>\n",
       "      <td>...</td>\n",
       "      <td>...</td>\n",
       "      <td>...</td>\n",
       "      <td>...</td>\n",
       "      <td>...</td>\n",
       "      <td>...</td>\n",
       "    </tr>\n",
       "    <tr>\n",
       "      <th>994</th>\n",
       "      <td>1.0</td>\n",
       "      <td>504</td>\n",
       "      <td>468</td>\n",
       "      <td>794</td>\n",
       "      <td>739</td>\n",
       "      <td>24663.78222</td>\n",
       "      <td>546121</td>\n",
       "    </tr>\n",
       "    <tr>\n",
       "      <th>995</th>\n",
       "      <td>1.0</td>\n",
       "      <td>816</td>\n",
       "      <td>761</td>\n",
       "      <td>742</td>\n",
       "      <td>639</td>\n",
       "      <td>22506.76782</td>\n",
       "      <td>408321</td>\n",
       "    </tr>\n",
       "    <tr>\n",
       "      <th>996</th>\n",
       "      <td>1.0</td>\n",
       "      <td>762</td>\n",
       "      <td>1098</td>\n",
       "      <td>119</td>\n",
       "      <td>600</td>\n",
       "      <td>25592.92055</td>\n",
       "      <td>360000</td>\n",
       "    </tr>\n",
       "    <tr>\n",
       "      <th>997</th>\n",
       "      <td>1.0</td>\n",
       "      <td>470</td>\n",
       "      <td>1084</td>\n",
       "      <td>245</td>\n",
       "      <td>990</td>\n",
       "      <td>35225.63495</td>\n",
       "      <td>980100</td>\n",
       "    </tr>\n",
       "    <tr>\n",
       "      <th>998</th>\n",
       "      <td>1.0</td>\n",
       "      <td>839</td>\n",
       "      <td>461</td>\n",
       "      <td>399</td>\n",
       "      <td>805</td>\n",
       "      <td>32747.25257</td>\n",
       "      <td>648025</td>\n",
       "    </tr>\n",
       "  </tbody>\n",
       "</table>\n",
       "<p>999 rows × 7 columns</p>\n",
       "</div>"
      ],
      "text/plain": [
       "     const   X1    X2   X3   X4            Y    X4_2\n",
       "0      1.0  416   799  392  782  26585.25739  611524\n",
       "1      1.0  869   611  433  559  25102.12336  312481\n",
       "2      1.0  382   688  174  839  30935.33046  703921\n",
       "3      1.0  159   776  796  714  23229.41281  509796\n",
       "4      1.0  836   352  849  734  27540.51232  538756\n",
       "..     ...  ...   ...  ...  ...          ...     ...\n",
       "994    1.0  504   468  794  739  24663.78222  546121\n",
       "995    1.0  816   761  742  639  22506.76782  408321\n",
       "996    1.0  762  1098  119  600  25592.92055  360000\n",
       "997    1.0  470  1084  245  990  35225.63495  980100\n",
       "998    1.0  839   461  399  805  32747.25257  648025\n",
       "\n",
       "[999 rows x 7 columns]"
      ]
     },
     "execution_count": 269,
     "metadata": {},
     "output_type": "execute_result"
    }
   ],
   "source": [
    "Data_1['X4_2'] = Data_1['X4']**2\n",
    "Data_1"
   ]
  },
  {
   "cell_type": "code",
   "execution_count": 270,
   "id": "a7c1618c",
   "metadata": {},
   "outputs": [
    {
     "data": {
      "text/html": [
       "<table class=\"simpletable\">\n",
       "<caption>OLS Regression Results</caption>\n",
       "<tr>\n",
       "  <th>Dep. Variable:</th>            <td>Y</td>        <th>  R-squared:         </th> <td>   0.981</td> \n",
       "</tr>\n",
       "<tr>\n",
       "  <th>Model:</th>                   <td>OLS</td>       <th>  Adj. R-squared:    </th> <td>   0.981</td> \n",
       "</tr>\n",
       "<tr>\n",
       "  <th>Method:</th>             <td>Least Squares</td>  <th>  F-statistic:       </th> <td>1.018e+04</td>\n",
       "</tr>\n",
       "<tr>\n",
       "  <th>Date:</th>             <td>Thu, 09 Dec 2021</td> <th>  Prob (F-statistic):</th>  <td>  0.00</td>  \n",
       "</tr>\n",
       "<tr>\n",
       "  <th>Time:</th>                 <td>16:15:56</td>     <th>  Log-Likelihood:    </th> <td> -8318.2</td> \n",
       "</tr>\n",
       "<tr>\n",
       "  <th>No. Observations:</th>      <td>   999</td>      <th>  AIC:               </th> <td>1.665e+04</td>\n",
       "</tr>\n",
       "<tr>\n",
       "  <th>Df Residuals:</th>          <td>   993</td>      <th>  BIC:               </th> <td>1.668e+04</td>\n",
       "</tr>\n",
       "<tr>\n",
       "  <th>Df Model:</th>              <td>     5</td>      <th>                     </th>     <td> </td>    \n",
       "</tr>\n",
       "<tr>\n",
       "  <th>Covariance Type:</th>      <td>nonrobust</td>    <th>                     </th>     <td> </td>    \n",
       "</tr>\n",
       "</table>\n",
       "<table class=\"simpletable\">\n",
       "<tr>\n",
       "    <td></td>       <th>coef</th>     <th>std err</th>      <th>t</th>      <th>P>|t|</th>  <th>[0.025</th>    <th>0.975]</th>  \n",
       "</tr>\n",
       "<tr>\n",
       "  <th>const</th> <td> 9909.2941</td> <td>  180.154</td> <td>   55.005</td> <td> 0.000</td> <td> 9555.767</td> <td> 1.03e+04</td>\n",
       "</tr>\n",
       "<tr>\n",
       "  <th>X1</th>    <td>    5.0069</td> <td>    0.122</td> <td>   41.140</td> <td> 0.000</td> <td>    4.768</td> <td>    5.246</td>\n",
       "</tr>\n",
       "<tr>\n",
       "  <th>X2</th>    <td>   -0.1257</td> <td>    0.097</td> <td>   -1.302</td> <td> 0.193</td> <td>   -0.315</td> <td>    0.064</td>\n",
       "</tr>\n",
       "<tr>\n",
       "  <th>X3</th>    <td>   -4.9286</td> <td>    0.121</td> <td>  -40.781</td> <td> 0.000</td> <td>   -5.166</td> <td>   -4.691</td>\n",
       "</tr>\n",
       "<tr>\n",
       "  <th>X4</th>    <td>   15.2796</td> <td>    0.589</td> <td>   25.931</td> <td> 0.000</td> <td>   14.123</td> <td>   16.436</td>\n",
       "</tr>\n",
       "<tr>\n",
       "  <th>X4_2</th>  <td>    0.0098</td> <td>    0.001</td> <td>   18.748</td> <td> 0.000</td> <td>    0.009</td> <td>    0.011</td>\n",
       "</tr>\n",
       "</table>\n",
       "<table class=\"simpletable\">\n",
       "<tr>\n",
       "  <th>Omnibus:</th>       <td> 3.857</td> <th>  Durbin-Watson:     </th> <td>   2.077</td>\n",
       "</tr>\n",
       "<tr>\n",
       "  <th>Prob(Omnibus):</th> <td> 0.145</td> <th>  Jarque-Bera (JB):  </th> <td>   3.245</td>\n",
       "</tr>\n",
       "<tr>\n",
       "  <th>Skew:</th>          <td> 0.043</td> <th>  Prob(JB):          </th> <td>   0.197</td>\n",
       "</tr>\n",
       "<tr>\n",
       "  <th>Kurtosis:</th>      <td> 2.734</td> <th>  Cond. No.          </th> <td>2.76e+06</td>\n",
       "</tr>\n",
       "</table><br/><br/>Notes:<br/>[1] Standard Errors assume that the covariance matrix of the errors is correctly specified.<br/>[2] The condition number is large, 2.76e+06. This might indicate that there are<br/>strong multicollinearity or other numerical problems."
      ],
      "text/plain": [
       "<class 'statsmodels.iolib.summary.Summary'>\n",
       "\"\"\"\n",
       "                            OLS Regression Results                            \n",
       "==============================================================================\n",
       "Dep. Variable:                      Y   R-squared:                       0.981\n",
       "Model:                            OLS   Adj. R-squared:                  0.981\n",
       "Method:                 Least Squares   F-statistic:                 1.018e+04\n",
       "Date:                Thu, 09 Dec 2021   Prob (F-statistic):               0.00\n",
       "Time:                        16:15:56   Log-Likelihood:                -8318.2\n",
       "No. Observations:                 999   AIC:                         1.665e+04\n",
       "Df Residuals:                     993   BIC:                         1.668e+04\n",
       "Df Model:                           5                                         \n",
       "Covariance Type:            nonrobust                                         \n",
       "==============================================================================\n",
       "                 coef    std err          t      P>|t|      [0.025      0.975]\n",
       "------------------------------------------------------------------------------\n",
       "const       9909.2941    180.154     55.005      0.000    9555.767    1.03e+04\n",
       "X1             5.0069      0.122     41.140      0.000       4.768       5.246\n",
       "X2            -0.1257      0.097     -1.302      0.193      -0.315       0.064\n",
       "X3            -4.9286      0.121    -40.781      0.000      -5.166      -4.691\n",
       "X4            15.2796      0.589     25.931      0.000      14.123      16.436\n",
       "X4_2           0.0098      0.001     18.748      0.000       0.009       0.011\n",
       "==============================================================================\n",
       "Omnibus:                        3.857   Durbin-Watson:                   2.077\n",
       "Prob(Omnibus):                  0.145   Jarque-Bera (JB):                3.245\n",
       "Skew:                           0.043   Prob(JB):                        0.197\n",
       "Kurtosis:                       2.734   Cond. No.                     2.76e+06\n",
       "==============================================================================\n",
       "\n",
       "Notes:\n",
       "[1] Standard Errors assume that the covariance matrix of the errors is correctly specified.\n",
       "[2] The condition number is large, 2.76e+06. This might indicate that there are\n",
       "strong multicollinearity or other numerical problems.\n",
       "\"\"\""
      ]
     },
     "execution_count": 270,
     "metadata": {},
     "output_type": "execute_result"
    }
   ],
   "source": [
    "est_2 = sm.OLS(Data_1['Y'], Data_1.drop('Y',1))\n",
    "est_2.fit().summary()"
   ]
  },
  {
   "cell_type": "markdown",
   "id": "5a532079",
   "metadata": {},
   "source": [
    "1i)  Test each numeric predictor (not including the dummy variables) for significance of its relationship to the response variable Y.  Remove any predictors that do not have a statistically significant relationship at the alpha = 0.05 level."
   ]
  },
  {
   "cell_type": "code",
   "execution_count": 271,
   "id": "e74df55f",
   "metadata": {},
   "outputs": [
    {
     "data": {
      "text/html": [
       "<table class=\"simpletable\">\n",
       "<caption>OLS Regression Results</caption>\n",
       "<tr>\n",
       "  <th>Dep. Variable:</th>            <td>Y</td>        <th>  R-squared:         </th> <td>   0.045</td> \n",
       "</tr>\n",
       "<tr>\n",
       "  <th>Model:</th>                   <td>OLS</td>       <th>  Adj. R-squared:    </th> <td>   0.044</td> \n",
       "</tr>\n",
       "<tr>\n",
       "  <th>Method:</th>             <td>Least Squares</td>  <th>  F-statistic:       </th> <td>   47.23</td> \n",
       "</tr>\n",
       "<tr>\n",
       "  <th>Date:</th>             <td>Thu, 09 Dec 2021</td> <th>  Prob (F-statistic):</th> <td>1.11e-11</td> \n",
       "</tr>\n",
       "<tr>\n",
       "  <th>Time:</th>                 <td>16:15:56</td>     <th>  Log-Likelihood:    </th> <td> -10271.</td> \n",
       "</tr>\n",
       "<tr>\n",
       "  <th>No. Observations:</th>      <td>   999</td>      <th>  AIC:               </th> <td>2.055e+04</td>\n",
       "</tr>\n",
       "<tr>\n",
       "  <th>Df Residuals:</th>          <td>   997</td>      <th>  BIC:               </th> <td>2.056e+04</td>\n",
       "</tr>\n",
       "<tr>\n",
       "  <th>Df Model:</th>              <td>     1</td>      <th>                     </th>     <td> </td>    \n",
       "</tr>\n",
       "<tr>\n",
       "  <th>Covariance Type:</th>      <td>nonrobust</td>    <th>                     </th>     <td> </td>    \n",
       "</tr>\n",
       "</table>\n",
       "<table class=\"simpletable\">\n",
       "<tr>\n",
       "    <td></td>       <th>coef</th>     <th>std err</th>      <th>t</th>      <th>P>|t|</th>  <th>[0.025</th>    <th>0.975]</th>  \n",
       "</tr>\n",
       "<tr>\n",
       "  <th>const</th> <td> 1.896e+04</td> <td>  528.000</td> <td>   35.907</td> <td> 0.000</td> <td> 1.79e+04</td> <td>    2e+04</td>\n",
       "</tr>\n",
       "<tr>\n",
       "  <th>X1</th>    <td>    5.8786</td> <td>    0.855</td> <td>    6.872</td> <td> 0.000</td> <td>    4.200</td> <td>    7.557</td>\n",
       "</tr>\n",
       "</table>\n",
       "<table class=\"simpletable\">\n",
       "<tr>\n",
       "  <th>Omnibus:</th>       <td>461.856</td> <th>  Durbin-Watson:     </th> <td>   1.947</td>\n",
       "</tr>\n",
       "<tr>\n",
       "  <th>Prob(Omnibus):</th> <td> 0.000</td>  <th>  Jarque-Bera (JB):  </th> <td>  56.714</td>\n",
       "</tr>\n",
       "<tr>\n",
       "  <th>Skew:</th>          <td> 0.138</td>  <th>  Prob(JB):          </th> <td>4.84e-13</td>\n",
       "</tr>\n",
       "<tr>\n",
       "  <th>Kurtosis:</th>      <td> 1.866</td>  <th>  Cond. No.          </th> <td>1.46e+03</td>\n",
       "</tr>\n",
       "</table><br/><br/>Notes:<br/>[1] Standard Errors assume that the covariance matrix of the errors is correctly specified.<br/>[2] The condition number is large, 1.46e+03. This might indicate that there are<br/>strong multicollinearity or other numerical problems."
      ],
      "text/plain": [
       "<class 'statsmodels.iolib.summary.Summary'>\n",
       "\"\"\"\n",
       "                            OLS Regression Results                            \n",
       "==============================================================================\n",
       "Dep. Variable:                      Y   R-squared:                       0.045\n",
       "Model:                            OLS   Adj. R-squared:                  0.044\n",
       "Method:                 Least Squares   F-statistic:                     47.23\n",
       "Date:                Thu, 09 Dec 2021   Prob (F-statistic):           1.11e-11\n",
       "Time:                        16:15:56   Log-Likelihood:                -10271.\n",
       "No. Observations:                 999   AIC:                         2.055e+04\n",
       "Df Residuals:                     997   BIC:                         2.056e+04\n",
       "Df Model:                           1                                         \n",
       "Covariance Type:            nonrobust                                         \n",
       "==============================================================================\n",
       "                 coef    std err          t      P>|t|      [0.025      0.975]\n",
       "------------------------------------------------------------------------------\n",
       "const       1.896e+04    528.000     35.907      0.000    1.79e+04       2e+04\n",
       "X1             5.8786      0.855      6.872      0.000       4.200       7.557\n",
       "==============================================================================\n",
       "Omnibus:                      461.856   Durbin-Watson:                   1.947\n",
       "Prob(Omnibus):                  0.000   Jarque-Bera (JB):               56.714\n",
       "Skew:                           0.138   Prob(JB):                     4.84e-13\n",
       "Kurtosis:                       1.866   Cond. No.                     1.46e+03\n",
       "==============================================================================\n",
       "\n",
       "Notes:\n",
       "[1] Standard Errors assume that the covariance matrix of the errors is correctly specified.\n",
       "[2] The condition number is large, 1.46e+03. This might indicate that there are\n",
       "strong multicollinearity or other numerical problems.\n",
       "\"\"\""
      ]
     },
     "execution_count": 271,
     "metadata": {},
     "output_type": "execute_result"
    }
   ],
   "source": [
    "est_3 = sm.OLS(Data_1['Y'], Data_1[['const', 'X1']])\n",
    "est_3.fit().summary()"
   ]
  },
  {
   "cell_type": "code",
   "execution_count": 272,
   "id": "437cceeb",
   "metadata": {},
   "outputs": [
    {
     "data": {
      "text/html": [
       "<table class=\"simpletable\">\n",
       "<caption>OLS Regression Results</caption>\n",
       "<tr>\n",
       "  <th>Dep. Variable:</th>            <td>Y</td>        <th>  R-squared:         </th> <td>   0.000</td> \n",
       "</tr>\n",
       "<tr>\n",
       "  <th>Model:</th>                   <td>OLS</td>       <th>  Adj. R-squared:    </th> <td>  -0.001</td> \n",
       "</tr>\n",
       "<tr>\n",
       "  <th>Method:</th>             <td>Least Squares</td>  <th>  F-statistic:       </th> <td> 0.01781</td> \n",
       "</tr>\n",
       "<tr>\n",
       "  <th>Date:</th>             <td>Thu, 09 Dec 2021</td> <th>  Prob (F-statistic):</th>  <td> 0.894</td>  \n",
       "</tr>\n",
       "<tr>\n",
       "  <th>Time:</th>                 <td>16:15:56</td>     <th>  Log-Likelihood:    </th> <td> -10294.</td> \n",
       "</tr>\n",
       "<tr>\n",
       "  <th>No. Observations:</th>      <td>   999</td>      <th>  AIC:               </th> <td>2.059e+04</td>\n",
       "</tr>\n",
       "<tr>\n",
       "  <th>Df Residuals:</th>          <td>   997</td>      <th>  BIC:               </th> <td>2.060e+04</td>\n",
       "</tr>\n",
       "<tr>\n",
       "  <th>Df Model:</th>              <td>     1</td>      <th>                     </th>     <td> </td>    \n",
       "</tr>\n",
       "<tr>\n",
       "  <th>Covariance Type:</th>      <td>nonrobust</td>    <th>                     </th>     <td> </td>    \n",
       "</tr>\n",
       "</table>\n",
       "<table class=\"simpletable\">\n",
       "<tr>\n",
       "    <td></td>       <th>coef</th>     <th>std err</th>      <th>t</th>      <th>P>|t|</th>  <th>[0.025</th>    <th>0.975]</th>  \n",
       "</tr>\n",
       "<tr>\n",
       "  <th>const</th> <td>  2.23e+04</td> <td>  447.109</td> <td>   49.869</td> <td> 0.000</td> <td> 2.14e+04</td> <td> 2.32e+04</td>\n",
       "</tr>\n",
       "<tr>\n",
       "  <th>X2</th>    <td>   -0.0926</td> <td>    0.694</td> <td>   -0.133</td> <td> 0.894</td> <td>   -1.455</td> <td>    1.270</td>\n",
       "</tr>\n",
       "</table>\n",
       "<table class=\"simpletable\">\n",
       "<tr>\n",
       "  <th>Omnibus:</th>       <td>302.913</td> <th>  Durbin-Watson:     </th> <td>   1.969</td>\n",
       "</tr>\n",
       "<tr>\n",
       "  <th>Prob(Omnibus):</th> <td> 0.000</td>  <th>  Jarque-Bera (JB):  </th> <td>  50.544</td>\n",
       "</tr>\n",
       "<tr>\n",
       "  <th>Skew:</th>          <td> 0.145</td>  <th>  Prob(JB):          </th> <td>1.06e-11</td>\n",
       "</tr>\n",
       "<tr>\n",
       "  <th>Kurtosis:</th>      <td> 1.937</td>  <th>  Cond. No.          </th> <td>1.26e+03</td>\n",
       "</tr>\n",
       "</table><br/><br/>Notes:<br/>[1] Standard Errors assume that the covariance matrix of the errors is correctly specified.<br/>[2] The condition number is large, 1.26e+03. This might indicate that there are<br/>strong multicollinearity or other numerical problems."
      ],
      "text/plain": [
       "<class 'statsmodels.iolib.summary.Summary'>\n",
       "\"\"\"\n",
       "                            OLS Regression Results                            \n",
       "==============================================================================\n",
       "Dep. Variable:                      Y   R-squared:                       0.000\n",
       "Model:                            OLS   Adj. R-squared:                 -0.001\n",
       "Method:                 Least Squares   F-statistic:                   0.01781\n",
       "Date:                Thu, 09 Dec 2021   Prob (F-statistic):              0.894\n",
       "Time:                        16:15:56   Log-Likelihood:                -10294.\n",
       "No. Observations:                 999   AIC:                         2.059e+04\n",
       "Df Residuals:                     997   BIC:                         2.060e+04\n",
       "Df Model:                           1                                         \n",
       "Covariance Type:            nonrobust                                         \n",
       "==============================================================================\n",
       "                 coef    std err          t      P>|t|      [0.025      0.975]\n",
       "------------------------------------------------------------------------------\n",
       "const        2.23e+04    447.109     49.869      0.000    2.14e+04    2.32e+04\n",
       "X2            -0.0926      0.694     -0.133      0.894      -1.455       1.270\n",
       "==============================================================================\n",
       "Omnibus:                      302.913   Durbin-Watson:                   1.969\n",
       "Prob(Omnibus):                  0.000   Jarque-Bera (JB):               50.544\n",
       "Skew:                           0.145   Prob(JB):                     1.06e-11\n",
       "Kurtosis:                       1.937   Cond. No.                     1.26e+03\n",
       "==============================================================================\n",
       "\n",
       "Notes:\n",
       "[1] Standard Errors assume that the covariance matrix of the errors is correctly specified.\n",
       "[2] The condition number is large, 1.26e+03. This might indicate that there are\n",
       "strong multicollinearity or other numerical problems.\n",
       "\"\"\""
      ]
     },
     "execution_count": 272,
     "metadata": {},
     "output_type": "execute_result"
    }
   ],
   "source": [
    "est_4 = sm.OLS(Data_1['Y'], Data_1[['const', 'X2']])\n",
    "est_4.fit().summary()"
   ]
  },
  {
   "cell_type": "code",
   "execution_count": 273,
   "id": "ed89e73d",
   "metadata": {},
   "outputs": [
    {
     "data": {
      "text/html": [
       "<table class=\"simpletable\">\n",
       "<caption>OLS Regression Results</caption>\n",
       "<tr>\n",
       "  <th>Dep. Variable:</th>            <td>Y</td>        <th>  R-squared:         </th> <td>   0.017</td> \n",
       "</tr>\n",
       "<tr>\n",
       "  <th>Model:</th>                   <td>OLS</td>       <th>  Adj. R-squared:    </th> <td>   0.016</td> \n",
       "</tr>\n",
       "<tr>\n",
       "  <th>Method:</th>             <td>Least Squares</td>  <th>  F-statistic:       </th> <td>   16.85</td> \n",
       "</tr>\n",
       "<tr>\n",
       "  <th>Date:</th>             <td>Thu, 09 Dec 2021</td> <th>  Prob (F-statistic):</th> <td>4.38e-05</td> \n",
       "</tr>\n",
       "<tr>\n",
       "  <th>Time:</th>                 <td>16:15:56</td>     <th>  Log-Likelihood:    </th> <td> -10286.</td> \n",
       "</tr>\n",
       "<tr>\n",
       "  <th>No. Observations:</th>      <td>   999</td>      <th>  AIC:               </th> <td>2.058e+04</td>\n",
       "</tr>\n",
       "<tr>\n",
       "  <th>Df Residuals:</th>          <td>   997</td>      <th>  BIC:               </th> <td>2.059e+04</td>\n",
       "</tr>\n",
       "<tr>\n",
       "  <th>Df Model:</th>              <td>     1</td>      <th>                     </th>     <td> </td>    \n",
       "</tr>\n",
       "<tr>\n",
       "  <th>Covariance Type:</th>      <td>nonrobust</td>    <th>                     </th>     <td> </td>    \n",
       "</tr>\n",
       "</table>\n",
       "<table class=\"simpletable\">\n",
       "<tr>\n",
       "    <td></td>       <th>coef</th>     <th>std err</th>      <th>t</th>      <th>P>|t|</th>  <th>[0.025</th>    <th>0.975]</th>  \n",
       "</tr>\n",
       "<tr>\n",
       "  <th>const</th> <td>  2.42e+04</td> <td>  527.505</td> <td>   45.877</td> <td> 0.000</td> <td> 2.32e+04</td> <td> 2.52e+04</td>\n",
       "</tr>\n",
       "<tr>\n",
       "  <th>X3</th>    <td>   -3.5420</td> <td>    0.863</td> <td>   -4.105</td> <td> 0.000</td> <td>   -5.235</td> <td>   -1.849</td>\n",
       "</tr>\n",
       "</table>\n",
       "<table class=\"simpletable\">\n",
       "<tr>\n",
       "  <th>Omnibus:</th>       <td>384.929</td> <th>  Durbin-Watson:     </th> <td>   1.970</td>\n",
       "</tr>\n",
       "<tr>\n",
       "  <th>Prob(Omnibus):</th> <td> 0.000</td>  <th>  Jarque-Bera (JB):  </th> <td>  54.694</td>\n",
       "</tr>\n",
       "<tr>\n",
       "  <th>Skew:</th>          <td> 0.153</td>  <th>  Prob(JB):          </th> <td>1.33e-12</td>\n",
       "</tr>\n",
       "<tr>\n",
       "  <th>Kurtosis:</th>      <td> 1.895</td>  <th>  Cond. No.          </th> <td>1.42e+03</td>\n",
       "</tr>\n",
       "</table><br/><br/>Notes:<br/>[1] Standard Errors assume that the covariance matrix of the errors is correctly specified.<br/>[2] The condition number is large, 1.42e+03. This might indicate that there are<br/>strong multicollinearity or other numerical problems."
      ],
      "text/plain": [
       "<class 'statsmodels.iolib.summary.Summary'>\n",
       "\"\"\"\n",
       "                            OLS Regression Results                            \n",
       "==============================================================================\n",
       "Dep. Variable:                      Y   R-squared:                       0.017\n",
       "Model:                            OLS   Adj. R-squared:                  0.016\n",
       "Method:                 Least Squares   F-statistic:                     16.85\n",
       "Date:                Thu, 09 Dec 2021   Prob (F-statistic):           4.38e-05\n",
       "Time:                        16:15:56   Log-Likelihood:                -10286.\n",
       "No. Observations:                 999   AIC:                         2.058e+04\n",
       "Df Residuals:                     997   BIC:                         2.059e+04\n",
       "Df Model:                           1                                         \n",
       "Covariance Type:            nonrobust                                         \n",
       "==============================================================================\n",
       "                 coef    std err          t      P>|t|      [0.025      0.975]\n",
       "------------------------------------------------------------------------------\n",
       "const        2.42e+04    527.505     45.877      0.000    2.32e+04    2.52e+04\n",
       "X3            -3.5420      0.863     -4.105      0.000      -5.235      -1.849\n",
       "==============================================================================\n",
       "Omnibus:                      384.929   Durbin-Watson:                   1.970\n",
       "Prob(Omnibus):                  0.000   Jarque-Bera (JB):               54.694\n",
       "Skew:                           0.153   Prob(JB):                     1.33e-12\n",
       "Kurtosis:                       1.895   Cond. No.                     1.42e+03\n",
       "==============================================================================\n",
       "\n",
       "Notes:\n",
       "[1] Standard Errors assume that the covariance matrix of the errors is correctly specified.\n",
       "[2] The condition number is large, 1.42e+03. This might indicate that there are\n",
       "strong multicollinearity or other numerical problems.\n",
       "\"\"\""
      ]
     },
     "execution_count": 273,
     "metadata": {},
     "output_type": "execute_result"
    }
   ],
   "source": [
    "est_5 = sm.OLS(Data_1['Y'], Data_1[['const', 'X3']])\n",
    "est_5.fit().summary()"
   ]
  },
  {
   "cell_type": "code",
   "execution_count": 274,
   "id": "e3ad35bc",
   "metadata": {},
   "outputs": [
    {
     "data": {
      "text/html": [
       "<table class=\"simpletable\">\n",
       "<caption>OLS Regression Results</caption>\n",
       "<tr>\n",
       "  <th>Dep. Variable:</th>            <td>Y</td>        <th>  R-squared:         </th> <td>   0.909</td> \n",
       "</tr>\n",
       "<tr>\n",
       "  <th>Model:</th>                   <td>OLS</td>       <th>  Adj. R-squared:    </th> <td>   0.909</td> \n",
       "</tr>\n",
       "<tr>\n",
       "  <th>Method:</th>             <td>Least Squares</td>  <th>  F-statistic:       </th> <td>   9933.</td> \n",
       "</tr>\n",
       "<tr>\n",
       "  <th>Date:</th>             <td>Thu, 09 Dec 2021</td> <th>  Prob (F-statistic):</th>  <td>  0.00</td>  \n",
       "</tr>\n",
       "<tr>\n",
       "  <th>Time:</th>                 <td>16:15:56</td>     <th>  Log-Likelihood:    </th> <td> -9098.1</td> \n",
       "</tr>\n",
       "<tr>\n",
       "  <th>No. Observations:</th>      <td>   999</td>      <th>  AIC:               </th> <td>1.820e+04</td>\n",
       "</tr>\n",
       "<tr>\n",
       "  <th>Df Residuals:</th>          <td>   997</td>      <th>  BIC:               </th> <td>1.821e+04</td>\n",
       "</tr>\n",
       "<tr>\n",
       "  <th>Df Model:</th>              <td>     1</td>      <th>                     </th>     <td> </td>    \n",
       "</tr>\n",
       "<tr>\n",
       "  <th>Covariance Type:</th>      <td>nonrobust</td>    <th>                     </th>     <td> </td>    \n",
       "</tr>\n",
       "</table>\n",
       "<table class=\"simpletable\">\n",
       "<tr>\n",
       "    <td></td>       <th>coef</th>     <th>std err</th>      <th>t</th>      <th>P>|t|</th>  <th>[0.025</th>    <th>0.975]</th>  \n",
       "</tr>\n",
       "<tr>\n",
       "  <th>const</th> <td> 7676.7831</td> <td>  161.696</td> <td>   47.477</td> <td> 0.000</td> <td> 7359.480</td> <td> 7994.086</td>\n",
       "</tr>\n",
       "<tr>\n",
       "  <th>X4</th>    <td>   26.0000</td> <td>    0.261</td> <td>   99.666</td> <td> 0.000</td> <td>   25.488</td> <td>   26.512</td>\n",
       "</tr>\n",
       "</table>\n",
       "<table class=\"simpletable\">\n",
       "<tr>\n",
       "  <th>Omnibus:</th>       <td> 7.689</td> <th>  Durbin-Watson:     </th> <td>   2.018</td>\n",
       "</tr>\n",
       "<tr>\n",
       "  <th>Prob(Omnibus):</th> <td> 0.021</td> <th>  Jarque-Bera (JB):  </th> <td>   5.491</td>\n",
       "</tr>\n",
       "<tr>\n",
       "  <th>Skew:</th>          <td> 0.022</td> <th>  Prob(JB):          </th> <td>  0.0642</td>\n",
       "</tr>\n",
       "<tr>\n",
       "  <th>Kurtosis:</th>      <td> 2.639</td> <th>  Cond. No.          </th> <td>1.45e+03</td>\n",
       "</tr>\n",
       "</table><br/><br/>Notes:<br/>[1] Standard Errors assume that the covariance matrix of the errors is correctly specified.<br/>[2] The condition number is large, 1.45e+03. This might indicate that there are<br/>strong multicollinearity or other numerical problems."
      ],
      "text/plain": [
       "<class 'statsmodels.iolib.summary.Summary'>\n",
       "\"\"\"\n",
       "                            OLS Regression Results                            \n",
       "==============================================================================\n",
       "Dep. Variable:                      Y   R-squared:                       0.909\n",
       "Model:                            OLS   Adj. R-squared:                  0.909\n",
       "Method:                 Least Squares   F-statistic:                     9933.\n",
       "Date:                Thu, 09 Dec 2021   Prob (F-statistic):               0.00\n",
       "Time:                        16:15:56   Log-Likelihood:                -9098.1\n",
       "No. Observations:                 999   AIC:                         1.820e+04\n",
       "Df Residuals:                     997   BIC:                         1.821e+04\n",
       "Df Model:                           1                                         \n",
       "Covariance Type:            nonrobust                                         \n",
       "==============================================================================\n",
       "                 coef    std err          t      P>|t|      [0.025      0.975]\n",
       "------------------------------------------------------------------------------\n",
       "const       7676.7831    161.696     47.477      0.000    7359.480    7994.086\n",
       "X4            26.0000      0.261     99.666      0.000      25.488      26.512\n",
       "==============================================================================\n",
       "Omnibus:                        7.689   Durbin-Watson:                   2.018\n",
       "Prob(Omnibus):                  0.021   Jarque-Bera (JB):                5.491\n",
       "Skew:                           0.022   Prob(JB):                       0.0642\n",
       "Kurtosis:                       2.639   Cond. No.                     1.45e+03\n",
       "==============================================================================\n",
       "\n",
       "Notes:\n",
       "[1] Standard Errors assume that the covariance matrix of the errors is correctly specified.\n",
       "[2] The condition number is large, 1.45e+03. This might indicate that there are\n",
       "strong multicollinearity or other numerical problems.\n",
       "\"\"\""
      ]
     },
     "execution_count": 274,
     "metadata": {},
     "output_type": "execute_result"
    }
   ],
   "source": [
    "est_5 = sm.OLS(Data_1['Y'], Data_1[['const', 'X4']])\n",
    "est_5.fit().summary()"
   ]
  },
  {
   "cell_type": "markdown",
   "id": "c7a227e2",
   "metadata": {},
   "source": [
    "It appears that X2 have no significant influence so we will drop it from our model"
   ]
  },
  {
   "cell_type": "markdown",
   "id": "813ed24f",
   "metadata": {},
   "source": [
    "1j)  Drop any predictors without a significant relationship to the output and create a new model.  What is its training $R^{2}$?"
   ]
  },
  {
   "cell_type": "code",
   "execution_count": 275,
   "id": "9e094a43",
   "metadata": {},
   "outputs": [],
   "source": [
    "Data_1=Data_1.drop(['X2'],1)"
   ]
  },
  {
   "cell_type": "code",
   "execution_count": 276,
   "id": "875d3883",
   "metadata": {},
   "outputs": [
    {
     "data": {
      "text/html": [
       "<div>\n",
       "<style scoped>\n",
       "    .dataframe tbody tr th:only-of-type {\n",
       "        vertical-align: middle;\n",
       "    }\n",
       "\n",
       "    .dataframe tbody tr th {\n",
       "        vertical-align: top;\n",
       "    }\n",
       "\n",
       "    .dataframe thead th {\n",
       "        text-align: right;\n",
       "    }\n",
       "</style>\n",
       "<table border=\"1\" class=\"dataframe\">\n",
       "  <thead>\n",
       "    <tr style=\"text-align: right;\">\n",
       "      <th></th>\n",
       "      <th>const</th>\n",
       "      <th>X1</th>\n",
       "      <th>X3</th>\n",
       "      <th>X4</th>\n",
       "      <th>Y</th>\n",
       "      <th>X4_2</th>\n",
       "    </tr>\n",
       "  </thead>\n",
       "  <tbody>\n",
       "    <tr>\n",
       "      <th>0</th>\n",
       "      <td>1.0</td>\n",
       "      <td>416</td>\n",
       "      <td>392</td>\n",
       "      <td>782</td>\n",
       "      <td>26585.25739</td>\n",
       "      <td>611524</td>\n",
       "    </tr>\n",
       "    <tr>\n",
       "      <th>1</th>\n",
       "      <td>1.0</td>\n",
       "      <td>869</td>\n",
       "      <td>433</td>\n",
       "      <td>559</td>\n",
       "      <td>25102.12336</td>\n",
       "      <td>312481</td>\n",
       "    </tr>\n",
       "    <tr>\n",
       "      <th>2</th>\n",
       "      <td>1.0</td>\n",
       "      <td>382</td>\n",
       "      <td>174</td>\n",
       "      <td>839</td>\n",
       "      <td>30935.33046</td>\n",
       "      <td>703921</td>\n",
       "    </tr>\n",
       "    <tr>\n",
       "      <th>3</th>\n",
       "      <td>1.0</td>\n",
       "      <td>159</td>\n",
       "      <td>796</td>\n",
       "      <td>714</td>\n",
       "      <td>23229.41281</td>\n",
       "      <td>509796</td>\n",
       "    </tr>\n",
       "    <tr>\n",
       "      <th>4</th>\n",
       "      <td>1.0</td>\n",
       "      <td>836</td>\n",
       "      <td>849</td>\n",
       "      <td>734</td>\n",
       "      <td>27540.51232</td>\n",
       "      <td>538756</td>\n",
       "    </tr>\n",
       "    <tr>\n",
       "      <th>...</th>\n",
       "      <td>...</td>\n",
       "      <td>...</td>\n",
       "      <td>...</td>\n",
       "      <td>...</td>\n",
       "      <td>...</td>\n",
       "      <td>...</td>\n",
       "    </tr>\n",
       "    <tr>\n",
       "      <th>994</th>\n",
       "      <td>1.0</td>\n",
       "      <td>504</td>\n",
       "      <td>794</td>\n",
       "      <td>739</td>\n",
       "      <td>24663.78222</td>\n",
       "      <td>546121</td>\n",
       "    </tr>\n",
       "    <tr>\n",
       "      <th>995</th>\n",
       "      <td>1.0</td>\n",
       "      <td>816</td>\n",
       "      <td>742</td>\n",
       "      <td>639</td>\n",
       "      <td>22506.76782</td>\n",
       "      <td>408321</td>\n",
       "    </tr>\n",
       "    <tr>\n",
       "      <th>996</th>\n",
       "      <td>1.0</td>\n",
       "      <td>762</td>\n",
       "      <td>119</td>\n",
       "      <td>600</td>\n",
       "      <td>25592.92055</td>\n",
       "      <td>360000</td>\n",
       "    </tr>\n",
       "    <tr>\n",
       "      <th>997</th>\n",
       "      <td>1.0</td>\n",
       "      <td>470</td>\n",
       "      <td>245</td>\n",
       "      <td>990</td>\n",
       "      <td>35225.63495</td>\n",
       "      <td>980100</td>\n",
       "    </tr>\n",
       "    <tr>\n",
       "      <th>998</th>\n",
       "      <td>1.0</td>\n",
       "      <td>839</td>\n",
       "      <td>399</td>\n",
       "      <td>805</td>\n",
       "      <td>32747.25257</td>\n",
       "      <td>648025</td>\n",
       "    </tr>\n",
       "  </tbody>\n",
       "</table>\n",
       "<p>999 rows × 6 columns</p>\n",
       "</div>"
      ],
      "text/plain": [
       "     const   X1   X3   X4            Y    X4_2\n",
       "0      1.0  416  392  782  26585.25739  611524\n",
       "1      1.0  869  433  559  25102.12336  312481\n",
       "2      1.0  382  174  839  30935.33046  703921\n",
       "3      1.0  159  796  714  23229.41281  509796\n",
       "4      1.0  836  849  734  27540.51232  538756\n",
       "..     ...  ...  ...  ...          ...     ...\n",
       "994    1.0  504  794  739  24663.78222  546121\n",
       "995    1.0  816  742  639  22506.76782  408321\n",
       "996    1.0  762  119  600  25592.92055  360000\n",
       "997    1.0  470  245  990  35225.63495  980100\n",
       "998    1.0  839  399  805  32747.25257  648025\n",
       "\n",
       "[999 rows x 6 columns]"
      ]
     },
     "execution_count": 276,
     "metadata": {},
     "output_type": "execute_result"
    }
   ],
   "source": [
    "Data_1"
   ]
  },
  {
   "cell_type": "code",
   "execution_count": 277,
   "id": "1ea4bac4",
   "metadata": {},
   "outputs": [
    {
     "data": {
      "text/html": [
       "<table class=\"simpletable\">\n",
       "<caption>OLS Regression Results</caption>\n",
       "<tr>\n",
       "  <th>Dep. Variable:</th>            <td>Y</td>        <th>  R-squared:         </th> <td>   0.981</td> \n",
       "</tr>\n",
       "<tr>\n",
       "  <th>Model:</th>                   <td>OLS</td>       <th>  Adj. R-squared:    </th> <td>   0.981</td> \n",
       "</tr>\n",
       "<tr>\n",
       "  <th>Method:</th>             <td>Least Squares</td>  <th>  F-statistic:       </th> <td>1.271e+04</td>\n",
       "</tr>\n",
       "<tr>\n",
       "  <th>Date:</th>             <td>Thu, 09 Dec 2021</td> <th>  Prob (F-statistic):</th>  <td>  0.00</td>  \n",
       "</tr>\n",
       "<tr>\n",
       "  <th>Time:</th>                 <td>16:15:56</td>     <th>  Log-Likelihood:    </th> <td> -8319.0</td> \n",
       "</tr>\n",
       "<tr>\n",
       "  <th>No. Observations:</th>      <td>   999</td>      <th>  AIC:               </th> <td>1.665e+04</td>\n",
       "</tr>\n",
       "<tr>\n",
       "  <th>Df Residuals:</th>          <td>   994</td>      <th>  BIC:               </th> <td>1.667e+04</td>\n",
       "</tr>\n",
       "<tr>\n",
       "  <th>Df Model:</th>              <td>     4</td>      <th>                     </th>     <td> </td>    \n",
       "</tr>\n",
       "<tr>\n",
       "  <th>Covariance Type:</th>      <td>nonrobust</td>    <th>                     </th>     <td> </td>    \n",
       "</tr>\n",
       "</table>\n",
       "<table class=\"simpletable\">\n",
       "<tr>\n",
       "    <td></td>       <th>coef</th>     <th>std err</th>      <th>t</th>      <th>P>|t|</th>  <th>[0.025</th>    <th>0.975]</th>  \n",
       "</tr>\n",
       "<tr>\n",
       "  <th>const</th> <td> 9836.7595</td> <td>  171.390</td> <td>   57.394</td> <td> 0.000</td> <td> 9500.432</td> <td> 1.02e+04</td>\n",
       "</tr>\n",
       "<tr>\n",
       "  <th>X1</th>    <td>    4.9970</td> <td>    0.122</td> <td>   41.125</td> <td> 0.000</td> <td>    4.759</td> <td>    5.235</td>\n",
       "</tr>\n",
       "<tr>\n",
       "  <th>X3</th>    <td>   -4.9242</td> <td>    0.121</td> <td>  -40.746</td> <td> 0.000</td> <td>   -5.161</td> <td>   -4.687</td>\n",
       "</tr>\n",
       "<tr>\n",
       "  <th>X4</th>    <td>   15.3035</td> <td>    0.589</td> <td>   25.975</td> <td> 0.000</td> <td>   14.147</td> <td>   16.460</td>\n",
       "</tr>\n",
       "<tr>\n",
       "  <th>X4_2</th>  <td>    0.0098</td> <td>    0.001</td> <td>   18.712</td> <td> 0.000</td> <td>    0.009</td> <td>    0.011</td>\n",
       "</tr>\n",
       "</table>\n",
       "<table class=\"simpletable\">\n",
       "<tr>\n",
       "  <th>Omnibus:</th>       <td> 3.996</td> <th>  Durbin-Watson:     </th> <td>   2.074</td>\n",
       "</tr>\n",
       "<tr>\n",
       "  <th>Prob(Omnibus):</th> <td> 0.136</td> <th>  Jarque-Bera (JB):  </th> <td>   3.383</td>\n",
       "</tr>\n",
       "<tr>\n",
       "  <th>Skew:</th>          <td> 0.051</td> <th>  Prob(JB):          </th> <td>   0.184</td>\n",
       "</tr>\n",
       "<tr>\n",
       "  <th>Kurtosis:</th>      <td> 2.734</td> <th>  Cond. No.          </th> <td>2.63e+06</td>\n",
       "</tr>\n",
       "</table><br/><br/>Notes:<br/>[1] Standard Errors assume that the covariance matrix of the errors is correctly specified.<br/>[2] The condition number is large, 2.63e+06. This might indicate that there are<br/>strong multicollinearity or other numerical problems."
      ],
      "text/plain": [
       "<class 'statsmodels.iolib.summary.Summary'>\n",
       "\"\"\"\n",
       "                            OLS Regression Results                            \n",
       "==============================================================================\n",
       "Dep. Variable:                      Y   R-squared:                       0.981\n",
       "Model:                            OLS   Adj. R-squared:                  0.981\n",
       "Method:                 Least Squares   F-statistic:                 1.271e+04\n",
       "Date:                Thu, 09 Dec 2021   Prob (F-statistic):               0.00\n",
       "Time:                        16:15:56   Log-Likelihood:                -8319.0\n",
       "No. Observations:                 999   AIC:                         1.665e+04\n",
       "Df Residuals:                     994   BIC:                         1.667e+04\n",
       "Df Model:                           4                                         \n",
       "Covariance Type:            nonrobust                                         \n",
       "==============================================================================\n",
       "                 coef    std err          t      P>|t|      [0.025      0.975]\n",
       "------------------------------------------------------------------------------\n",
       "const       9836.7595    171.390     57.394      0.000    9500.432    1.02e+04\n",
       "X1             4.9970      0.122     41.125      0.000       4.759       5.235\n",
       "X3            -4.9242      0.121    -40.746      0.000      -5.161      -4.687\n",
       "X4            15.3035      0.589     25.975      0.000      14.147      16.460\n",
       "X4_2           0.0098      0.001     18.712      0.000       0.009       0.011\n",
       "==============================================================================\n",
       "Omnibus:                        3.996   Durbin-Watson:                   2.074\n",
       "Prob(Omnibus):                  0.136   Jarque-Bera (JB):                3.383\n",
       "Skew:                           0.051   Prob(JB):                        0.184\n",
       "Kurtosis:                       2.734   Cond. No.                     2.63e+06\n",
       "==============================================================================\n",
       "\n",
       "Notes:\n",
       "[1] Standard Errors assume that the covariance matrix of the errors is correctly specified.\n",
       "[2] The condition number is large, 2.63e+06. This might indicate that there are\n",
       "strong multicollinearity or other numerical problems.\n",
       "\"\"\""
      ]
     },
     "execution_count": 277,
     "metadata": {},
     "output_type": "execute_result"
    }
   ],
   "source": [
    "est_final = sm.OLS(Data_1['Y'], Data_1.drop('Y',1))\n",
    "est_final.fit().summary()"
   ]
  },
  {
   "cell_type": "code",
   "execution_count": 278,
   "id": "2b08d478",
   "metadata": {},
   "outputs": [
    {
     "data": {
      "text/plain": [
       "0.9808248227576719"
      ]
     },
     "execution_count": 278,
     "metadata": {},
     "output_type": "execute_result"
    }
   ],
   "source": [
    "est_final.fit().rsquared"
   ]
  },
  {
   "cell_type": "markdown",
   "id": "2b941460",
   "metadata": {},
   "source": [
    "2)  **Tree-based classification - Titanic dataset**.  \n",
    "\n",
    "Use the file \"Titanic.csv\", which contains a dataset of passengers on the famous Titanic when it sunk on its first voyage after hitting an iceberg in 1912.  "
   ]
  },
  {
   "cell_type": "markdown",
   "id": "31ef88d4",
   "metadata": {},
   "source": [
    "2a)  Read the dataset into a dataframe and convert the columns \"Pclass\" and \"Sex\" to dummy variables.  Display your resulting dataframe"
   ]
  },
  {
   "cell_type": "code",
   "execution_count": 279,
   "id": "1d797ba3",
   "metadata": {},
   "outputs": [
    {
     "data": {
      "text/html": [
       "<div>\n",
       "<style scoped>\n",
       "    .dataframe tbody tr th:only-of-type {\n",
       "        vertical-align: middle;\n",
       "    }\n",
       "\n",
       "    .dataframe tbody tr th {\n",
       "        vertical-align: top;\n",
       "    }\n",
       "\n",
       "    .dataframe thead th {\n",
       "        text-align: right;\n",
       "    }\n",
       "</style>\n",
       "<table border=\"1\" class=\"dataframe\">\n",
       "  <thead>\n",
       "    <tr style=\"text-align: right;\">\n",
       "      <th></th>\n",
       "      <th>Survived</th>\n",
       "      <th>Pclass</th>\n",
       "      <th>Name</th>\n",
       "      <th>Sex</th>\n",
       "      <th>Age</th>\n",
       "      <th>Siblings_Spouses_Aboard</th>\n",
       "      <th>Parents_Children_Aboard</th>\n",
       "      <th>Fare</th>\n",
       "    </tr>\n",
       "  </thead>\n",
       "  <tbody>\n",
       "    <tr>\n",
       "      <th>0</th>\n",
       "      <td>0</td>\n",
       "      <td>3</td>\n",
       "      <td>Mr. Owen Harris Braund</td>\n",
       "      <td>male</td>\n",
       "      <td>22.0</td>\n",
       "      <td>1</td>\n",
       "      <td>0</td>\n",
       "      <td>7.2500</td>\n",
       "    </tr>\n",
       "    <tr>\n",
       "      <th>1</th>\n",
       "      <td>1</td>\n",
       "      <td>1</td>\n",
       "      <td>Mrs. John Bradley (Florence Briggs Thayer) Cum...</td>\n",
       "      <td>female</td>\n",
       "      <td>38.0</td>\n",
       "      <td>1</td>\n",
       "      <td>0</td>\n",
       "      <td>71.2833</td>\n",
       "    </tr>\n",
       "    <tr>\n",
       "      <th>2</th>\n",
       "      <td>1</td>\n",
       "      <td>3</td>\n",
       "      <td>Miss. Laina Heikkinen</td>\n",
       "      <td>female</td>\n",
       "      <td>26.0</td>\n",
       "      <td>0</td>\n",
       "      <td>0</td>\n",
       "      <td>7.9250</td>\n",
       "    </tr>\n",
       "    <tr>\n",
       "      <th>3</th>\n",
       "      <td>1</td>\n",
       "      <td>1</td>\n",
       "      <td>Mrs. Jacques Heath (Lily May Peel) Futrelle</td>\n",
       "      <td>female</td>\n",
       "      <td>35.0</td>\n",
       "      <td>1</td>\n",
       "      <td>0</td>\n",
       "      <td>53.1000</td>\n",
       "    </tr>\n",
       "    <tr>\n",
       "      <th>4</th>\n",
       "      <td>0</td>\n",
       "      <td>3</td>\n",
       "      <td>Mr. William Henry Allen</td>\n",
       "      <td>male</td>\n",
       "      <td>35.0</td>\n",
       "      <td>0</td>\n",
       "      <td>0</td>\n",
       "      <td>8.0500</td>\n",
       "    </tr>\n",
       "    <tr>\n",
       "      <th>...</th>\n",
       "      <td>...</td>\n",
       "      <td>...</td>\n",
       "      <td>...</td>\n",
       "      <td>...</td>\n",
       "      <td>...</td>\n",
       "      <td>...</td>\n",
       "      <td>...</td>\n",
       "      <td>...</td>\n",
       "    </tr>\n",
       "    <tr>\n",
       "      <th>882</th>\n",
       "      <td>0</td>\n",
       "      <td>2</td>\n",
       "      <td>Rev. Juozas Montvila</td>\n",
       "      <td>male</td>\n",
       "      <td>27.0</td>\n",
       "      <td>0</td>\n",
       "      <td>0</td>\n",
       "      <td>13.0000</td>\n",
       "    </tr>\n",
       "    <tr>\n",
       "      <th>883</th>\n",
       "      <td>1</td>\n",
       "      <td>1</td>\n",
       "      <td>Miss. Margaret Edith Graham</td>\n",
       "      <td>female</td>\n",
       "      <td>19.0</td>\n",
       "      <td>0</td>\n",
       "      <td>0</td>\n",
       "      <td>30.0000</td>\n",
       "    </tr>\n",
       "    <tr>\n",
       "      <th>884</th>\n",
       "      <td>0</td>\n",
       "      <td>3</td>\n",
       "      <td>Miss. Catherine Helen Johnston</td>\n",
       "      <td>female</td>\n",
       "      <td>7.0</td>\n",
       "      <td>1</td>\n",
       "      <td>2</td>\n",
       "      <td>23.4500</td>\n",
       "    </tr>\n",
       "    <tr>\n",
       "      <th>885</th>\n",
       "      <td>1</td>\n",
       "      <td>1</td>\n",
       "      <td>Mr. Karl Howell Behr</td>\n",
       "      <td>male</td>\n",
       "      <td>26.0</td>\n",
       "      <td>0</td>\n",
       "      <td>0</td>\n",
       "      <td>30.0000</td>\n",
       "    </tr>\n",
       "    <tr>\n",
       "      <th>886</th>\n",
       "      <td>0</td>\n",
       "      <td>3</td>\n",
       "      <td>Mr. Patrick Dooley</td>\n",
       "      <td>male</td>\n",
       "      <td>32.0</td>\n",
       "      <td>0</td>\n",
       "      <td>0</td>\n",
       "      <td>7.7500</td>\n",
       "    </tr>\n",
       "  </tbody>\n",
       "</table>\n",
       "<p>887 rows × 8 columns</p>\n",
       "</div>"
      ],
      "text/plain": [
       "     Survived  Pclass                                               Name  \\\n",
       "0           0       3                             Mr. Owen Harris Braund   \n",
       "1           1       1  Mrs. John Bradley (Florence Briggs Thayer) Cum...   \n",
       "2           1       3                              Miss. Laina Heikkinen   \n",
       "3           1       1        Mrs. Jacques Heath (Lily May Peel) Futrelle   \n",
       "4           0       3                            Mr. William Henry Allen   \n",
       "..        ...     ...                                                ...   \n",
       "882         0       2                               Rev. Juozas Montvila   \n",
       "883         1       1                        Miss. Margaret Edith Graham   \n",
       "884         0       3                     Miss. Catherine Helen Johnston   \n",
       "885         1       1                               Mr. Karl Howell Behr   \n",
       "886         0       3                                 Mr. Patrick Dooley   \n",
       "\n",
       "        Sex   Age  Siblings_Spouses_Aboard  Parents_Children_Aboard     Fare  \n",
       "0      male  22.0                        1                        0   7.2500  \n",
       "1    female  38.0                        1                        0  71.2833  \n",
       "2    female  26.0                        0                        0   7.9250  \n",
       "3    female  35.0                        1                        0  53.1000  \n",
       "4      male  35.0                        0                        0   8.0500  \n",
       "..      ...   ...                      ...                      ...      ...  \n",
       "882    male  27.0                        0                        0  13.0000  \n",
       "883  female  19.0                        0                        0  30.0000  \n",
       "884  female   7.0                        1                        2  23.4500  \n",
       "885    male  26.0                        0                        0  30.0000  \n",
       "886    male  32.0                        0                        0   7.7500  \n",
       "\n",
       "[887 rows x 8 columns]"
      ]
     },
     "execution_count": 279,
     "metadata": {},
     "output_type": "execute_result"
    }
   ],
   "source": [
    "Data_2 = pd.read_csv('Titanic.csv')\n",
    "Data_2"
   ]
  },
  {
   "cell_type": "code",
   "execution_count": 280,
   "id": "0cf6d3a4",
   "metadata": {},
   "outputs": [],
   "source": [
    "Data_2 = pd.get_dummies(Data_2,columns=['Pclass','Sex'] ,drop_first=True)"
   ]
  },
  {
   "cell_type": "code",
   "execution_count": 281,
   "id": "72bc510f",
   "metadata": {},
   "outputs": [
    {
     "data": {
      "text/html": [
       "<div>\n",
       "<style scoped>\n",
       "    .dataframe tbody tr th:only-of-type {\n",
       "        vertical-align: middle;\n",
       "    }\n",
       "\n",
       "    .dataframe tbody tr th {\n",
       "        vertical-align: top;\n",
       "    }\n",
       "\n",
       "    .dataframe thead th {\n",
       "        text-align: right;\n",
       "    }\n",
       "</style>\n",
       "<table border=\"1\" class=\"dataframe\">\n",
       "  <thead>\n",
       "    <tr style=\"text-align: right;\">\n",
       "      <th></th>\n",
       "      <th>Survived</th>\n",
       "      <th>Name</th>\n",
       "      <th>Age</th>\n",
       "      <th>Siblings_Spouses_Aboard</th>\n",
       "      <th>Parents_Children_Aboard</th>\n",
       "      <th>Fare</th>\n",
       "      <th>Pclass_2</th>\n",
       "      <th>Pclass_3</th>\n",
       "      <th>Sex_male</th>\n",
       "    </tr>\n",
       "  </thead>\n",
       "  <tbody>\n",
       "    <tr>\n",
       "      <th>0</th>\n",
       "      <td>0</td>\n",
       "      <td>Mr. Owen Harris Braund</td>\n",
       "      <td>22.0</td>\n",
       "      <td>1</td>\n",
       "      <td>0</td>\n",
       "      <td>7.2500</td>\n",
       "      <td>0</td>\n",
       "      <td>1</td>\n",
       "      <td>1</td>\n",
       "    </tr>\n",
       "    <tr>\n",
       "      <th>1</th>\n",
       "      <td>1</td>\n",
       "      <td>Mrs. John Bradley (Florence Briggs Thayer) Cum...</td>\n",
       "      <td>38.0</td>\n",
       "      <td>1</td>\n",
       "      <td>0</td>\n",
       "      <td>71.2833</td>\n",
       "      <td>0</td>\n",
       "      <td>0</td>\n",
       "      <td>0</td>\n",
       "    </tr>\n",
       "    <tr>\n",
       "      <th>2</th>\n",
       "      <td>1</td>\n",
       "      <td>Miss. Laina Heikkinen</td>\n",
       "      <td>26.0</td>\n",
       "      <td>0</td>\n",
       "      <td>0</td>\n",
       "      <td>7.9250</td>\n",
       "      <td>0</td>\n",
       "      <td>1</td>\n",
       "      <td>0</td>\n",
       "    </tr>\n",
       "    <tr>\n",
       "      <th>3</th>\n",
       "      <td>1</td>\n",
       "      <td>Mrs. Jacques Heath (Lily May Peel) Futrelle</td>\n",
       "      <td>35.0</td>\n",
       "      <td>1</td>\n",
       "      <td>0</td>\n",
       "      <td>53.1000</td>\n",
       "      <td>0</td>\n",
       "      <td>0</td>\n",
       "      <td>0</td>\n",
       "    </tr>\n",
       "    <tr>\n",
       "      <th>4</th>\n",
       "      <td>0</td>\n",
       "      <td>Mr. William Henry Allen</td>\n",
       "      <td>35.0</td>\n",
       "      <td>0</td>\n",
       "      <td>0</td>\n",
       "      <td>8.0500</td>\n",
       "      <td>0</td>\n",
       "      <td>1</td>\n",
       "      <td>1</td>\n",
       "    </tr>\n",
       "    <tr>\n",
       "      <th>...</th>\n",
       "      <td>...</td>\n",
       "      <td>...</td>\n",
       "      <td>...</td>\n",
       "      <td>...</td>\n",
       "      <td>...</td>\n",
       "      <td>...</td>\n",
       "      <td>...</td>\n",
       "      <td>...</td>\n",
       "      <td>...</td>\n",
       "    </tr>\n",
       "    <tr>\n",
       "      <th>882</th>\n",
       "      <td>0</td>\n",
       "      <td>Rev. Juozas Montvila</td>\n",
       "      <td>27.0</td>\n",
       "      <td>0</td>\n",
       "      <td>0</td>\n",
       "      <td>13.0000</td>\n",
       "      <td>1</td>\n",
       "      <td>0</td>\n",
       "      <td>1</td>\n",
       "    </tr>\n",
       "    <tr>\n",
       "      <th>883</th>\n",
       "      <td>1</td>\n",
       "      <td>Miss. Margaret Edith Graham</td>\n",
       "      <td>19.0</td>\n",
       "      <td>0</td>\n",
       "      <td>0</td>\n",
       "      <td>30.0000</td>\n",
       "      <td>0</td>\n",
       "      <td>0</td>\n",
       "      <td>0</td>\n",
       "    </tr>\n",
       "    <tr>\n",
       "      <th>884</th>\n",
       "      <td>0</td>\n",
       "      <td>Miss. Catherine Helen Johnston</td>\n",
       "      <td>7.0</td>\n",
       "      <td>1</td>\n",
       "      <td>2</td>\n",
       "      <td>23.4500</td>\n",
       "      <td>0</td>\n",
       "      <td>1</td>\n",
       "      <td>0</td>\n",
       "    </tr>\n",
       "    <tr>\n",
       "      <th>885</th>\n",
       "      <td>1</td>\n",
       "      <td>Mr. Karl Howell Behr</td>\n",
       "      <td>26.0</td>\n",
       "      <td>0</td>\n",
       "      <td>0</td>\n",
       "      <td>30.0000</td>\n",
       "      <td>0</td>\n",
       "      <td>0</td>\n",
       "      <td>1</td>\n",
       "    </tr>\n",
       "    <tr>\n",
       "      <th>886</th>\n",
       "      <td>0</td>\n",
       "      <td>Mr. Patrick Dooley</td>\n",
       "      <td>32.0</td>\n",
       "      <td>0</td>\n",
       "      <td>0</td>\n",
       "      <td>7.7500</td>\n",
       "      <td>0</td>\n",
       "      <td>1</td>\n",
       "      <td>1</td>\n",
       "    </tr>\n",
       "  </tbody>\n",
       "</table>\n",
       "<p>887 rows × 9 columns</p>\n",
       "</div>"
      ],
      "text/plain": [
       "     Survived                                               Name   Age  \\\n",
       "0           0                             Mr. Owen Harris Braund  22.0   \n",
       "1           1  Mrs. John Bradley (Florence Briggs Thayer) Cum...  38.0   \n",
       "2           1                              Miss. Laina Heikkinen  26.0   \n",
       "3           1        Mrs. Jacques Heath (Lily May Peel) Futrelle  35.0   \n",
       "4           0                            Mr. William Henry Allen  35.0   \n",
       "..        ...                                                ...   ...   \n",
       "882         0                               Rev. Juozas Montvila  27.0   \n",
       "883         1                        Miss. Margaret Edith Graham  19.0   \n",
       "884         0                     Miss. Catherine Helen Johnston   7.0   \n",
       "885         1                               Mr. Karl Howell Behr  26.0   \n",
       "886         0                                 Mr. Patrick Dooley  32.0   \n",
       "\n",
       "     Siblings_Spouses_Aboard  Parents_Children_Aboard     Fare  Pclass_2  \\\n",
       "0                          1                        0   7.2500         0   \n",
       "1                          1                        0  71.2833         0   \n",
       "2                          0                        0   7.9250         0   \n",
       "3                          1                        0  53.1000         0   \n",
       "4                          0                        0   8.0500         0   \n",
       "..                       ...                      ...      ...       ...   \n",
       "882                        0                        0  13.0000         1   \n",
       "883                        0                        0  30.0000         0   \n",
       "884                        1                        2  23.4500         0   \n",
       "885                        0                        0  30.0000         0   \n",
       "886                        0                        0   7.7500         0   \n",
       "\n",
       "     Pclass_3  Sex_male  \n",
       "0           1         1  \n",
       "1           0         0  \n",
       "2           1         0  \n",
       "3           0         0  \n",
       "4           1         1  \n",
       "..        ...       ...  \n",
       "882         0         1  \n",
       "883         0         0  \n",
       "884         1         0  \n",
       "885         0         1  \n",
       "886         1         1  \n",
       "\n",
       "[887 rows x 9 columns]"
      ]
     },
     "execution_count": 281,
     "metadata": {},
     "output_type": "execute_result"
    }
   ],
   "source": [
    "Data_2"
   ]
  },
  {
   "cell_type": "markdown",
   "id": "5ec0ae92",
   "metadata": {},
   "source": [
    "2b)  Using only Python/Pandas functions, calculate the percentage of males and females that survived the shipwreck."
   ]
  },
  {
   "cell_type": "code",
   "execution_count": 282,
   "id": "3257e542",
   "metadata": {},
   "outputs": [
    {
     "data": {
      "text/html": [
       "<div>\n",
       "<style scoped>\n",
       "    .dataframe tbody tr th:only-of-type {\n",
       "        vertical-align: middle;\n",
       "    }\n",
       "\n",
       "    .dataframe tbody tr th {\n",
       "        vertical-align: top;\n",
       "    }\n",
       "\n",
       "    .dataframe thead th {\n",
       "        text-align: right;\n",
       "    }\n",
       "</style>\n",
       "<table border=\"1\" class=\"dataframe\">\n",
       "  <thead>\n",
       "    <tr style=\"text-align: right;\">\n",
       "      <th></th>\n",
       "      <th>Sex_male</th>\n",
       "      <th>Survived</th>\n",
       "    </tr>\n",
       "  </thead>\n",
       "  <tbody>\n",
       "    <tr>\n",
       "      <th>0</th>\n",
       "      <td>0</td>\n",
       "      <td>0.742038</td>\n",
       "    </tr>\n",
       "    <tr>\n",
       "      <th>1</th>\n",
       "      <td>1</td>\n",
       "      <td>0.190227</td>\n",
       "    </tr>\n",
       "  </tbody>\n",
       "</table>\n",
       "</div>"
      ],
      "text/plain": [
       "   Sex_male  Survived\n",
       "0         0  0.742038\n",
       "1         1  0.190227"
      ]
     },
     "execution_count": 282,
     "metadata": {},
     "output_type": "execute_result"
    }
   ],
   "source": [
    "Data_2[[\"Sex_male\",\"Survived\"]].groupby(['Sex_male'],\n",
    "                                     as_index=False).mean().sort_values(by='Survived',ascending=False)"
   ]
  },
  {
   "cell_type": "code",
   "execution_count": 283,
   "id": "a1550208",
   "metadata": {},
   "outputs": [
    {
     "name": "stdout",
     "output_type": "stream",
     "text": [
      "percentage of males is 19.02%\n",
      "percentage of females is 74.20%\n"
     ]
    }
   ],
   "source": [
    "print('percentage of males is 19.02%')\n",
    "print('percentage of females is 74.20%')"
   ]
  },
  {
   "cell_type": "markdown",
   "id": "6d60c2a1",
   "metadata": {},
   "source": [
    "2c)  From sklearn.tree, use the DecisionTreeClassifier to create a decision tree with a maximum depth (max_depth) of three.  For readability, use the export_text function from the sklearn.tree package to print out the decision tree in a readable text format."
   ]
  },
  {
   "cell_type": "code",
   "execution_count": 284,
   "id": "dad32fac",
   "metadata": {},
   "outputs": [],
   "source": [
    "y = Data_2[\"Survived\"].copy()\n",
    "X = Data_2.drop([\"Name\",\"Survived\"], 1).copy()"
   ]
  },
  {
   "cell_type": "code",
   "execution_count": 285,
   "id": "e0b4ecd9",
   "metadata": {},
   "outputs": [
    {
     "data": {
      "text/html": [
       "<div>\n",
       "<style scoped>\n",
       "    .dataframe tbody tr th:only-of-type {\n",
       "        vertical-align: middle;\n",
       "    }\n",
       "\n",
       "    .dataframe tbody tr th {\n",
       "        vertical-align: top;\n",
       "    }\n",
       "\n",
       "    .dataframe thead th {\n",
       "        text-align: right;\n",
       "    }\n",
       "</style>\n",
       "<table border=\"1\" class=\"dataframe\">\n",
       "  <thead>\n",
       "    <tr style=\"text-align: right;\">\n",
       "      <th></th>\n",
       "      <th>Age</th>\n",
       "      <th>Siblings_Spouses_Aboard</th>\n",
       "      <th>Parents_Children_Aboard</th>\n",
       "      <th>Fare</th>\n",
       "      <th>Pclass_2</th>\n",
       "      <th>Pclass_3</th>\n",
       "      <th>Sex_male</th>\n",
       "    </tr>\n",
       "  </thead>\n",
       "  <tbody>\n",
       "    <tr>\n",
       "      <th>0</th>\n",
       "      <td>22.0</td>\n",
       "      <td>1</td>\n",
       "      <td>0</td>\n",
       "      <td>7.2500</td>\n",
       "      <td>0</td>\n",
       "      <td>1</td>\n",
       "      <td>1</td>\n",
       "    </tr>\n",
       "    <tr>\n",
       "      <th>1</th>\n",
       "      <td>38.0</td>\n",
       "      <td>1</td>\n",
       "      <td>0</td>\n",
       "      <td>71.2833</td>\n",
       "      <td>0</td>\n",
       "      <td>0</td>\n",
       "      <td>0</td>\n",
       "    </tr>\n",
       "    <tr>\n",
       "      <th>2</th>\n",
       "      <td>26.0</td>\n",
       "      <td>0</td>\n",
       "      <td>0</td>\n",
       "      <td>7.9250</td>\n",
       "      <td>0</td>\n",
       "      <td>1</td>\n",
       "      <td>0</td>\n",
       "    </tr>\n",
       "    <tr>\n",
       "      <th>3</th>\n",
       "      <td>35.0</td>\n",
       "      <td>1</td>\n",
       "      <td>0</td>\n",
       "      <td>53.1000</td>\n",
       "      <td>0</td>\n",
       "      <td>0</td>\n",
       "      <td>0</td>\n",
       "    </tr>\n",
       "    <tr>\n",
       "      <th>4</th>\n",
       "      <td>35.0</td>\n",
       "      <td>0</td>\n",
       "      <td>0</td>\n",
       "      <td>8.0500</td>\n",
       "      <td>0</td>\n",
       "      <td>1</td>\n",
       "      <td>1</td>\n",
       "    </tr>\n",
       "    <tr>\n",
       "      <th>...</th>\n",
       "      <td>...</td>\n",
       "      <td>...</td>\n",
       "      <td>...</td>\n",
       "      <td>...</td>\n",
       "      <td>...</td>\n",
       "      <td>...</td>\n",
       "      <td>...</td>\n",
       "    </tr>\n",
       "    <tr>\n",
       "      <th>882</th>\n",
       "      <td>27.0</td>\n",
       "      <td>0</td>\n",
       "      <td>0</td>\n",
       "      <td>13.0000</td>\n",
       "      <td>1</td>\n",
       "      <td>0</td>\n",
       "      <td>1</td>\n",
       "    </tr>\n",
       "    <tr>\n",
       "      <th>883</th>\n",
       "      <td>19.0</td>\n",
       "      <td>0</td>\n",
       "      <td>0</td>\n",
       "      <td>30.0000</td>\n",
       "      <td>0</td>\n",
       "      <td>0</td>\n",
       "      <td>0</td>\n",
       "    </tr>\n",
       "    <tr>\n",
       "      <th>884</th>\n",
       "      <td>7.0</td>\n",
       "      <td>1</td>\n",
       "      <td>2</td>\n",
       "      <td>23.4500</td>\n",
       "      <td>0</td>\n",
       "      <td>1</td>\n",
       "      <td>0</td>\n",
       "    </tr>\n",
       "    <tr>\n",
       "      <th>885</th>\n",
       "      <td>26.0</td>\n",
       "      <td>0</td>\n",
       "      <td>0</td>\n",
       "      <td>30.0000</td>\n",
       "      <td>0</td>\n",
       "      <td>0</td>\n",
       "      <td>1</td>\n",
       "    </tr>\n",
       "    <tr>\n",
       "      <th>886</th>\n",
       "      <td>32.0</td>\n",
       "      <td>0</td>\n",
       "      <td>0</td>\n",
       "      <td>7.7500</td>\n",
       "      <td>0</td>\n",
       "      <td>1</td>\n",
       "      <td>1</td>\n",
       "    </tr>\n",
       "  </tbody>\n",
       "</table>\n",
       "<p>887 rows × 7 columns</p>\n",
       "</div>"
      ],
      "text/plain": [
       "      Age  Siblings_Spouses_Aboard  Parents_Children_Aboard     Fare  \\\n",
       "0    22.0                        1                        0   7.2500   \n",
       "1    38.0                        1                        0  71.2833   \n",
       "2    26.0                        0                        0   7.9250   \n",
       "3    35.0                        1                        0  53.1000   \n",
       "4    35.0                        0                        0   8.0500   \n",
       "..    ...                      ...                      ...      ...   \n",
       "882  27.0                        0                        0  13.0000   \n",
       "883  19.0                        0                        0  30.0000   \n",
       "884   7.0                        1                        2  23.4500   \n",
       "885  26.0                        0                        0  30.0000   \n",
       "886  32.0                        0                        0   7.7500   \n",
       "\n",
       "     Pclass_2  Pclass_3  Sex_male  \n",
       "0           0         1         1  \n",
       "1           0         0         0  \n",
       "2           0         1         0  \n",
       "3           0         0         0  \n",
       "4           0         1         1  \n",
       "..        ...       ...       ...  \n",
       "882         1         0         1  \n",
       "883         0         0         0  \n",
       "884         0         1         0  \n",
       "885         0         0         1  \n",
       "886         0         1         1  \n",
       "\n",
       "[887 rows x 7 columns]"
      ]
     },
     "execution_count": 285,
     "metadata": {},
     "output_type": "execute_result"
    }
   ],
   "source": [
    "X"
   ]
  },
  {
   "cell_type": "code",
   "execution_count": 286,
   "id": "0015feb1",
   "metadata": {},
   "outputs": [
    {
     "data": {
      "text/plain": [
       "DecisionTreeClassifier(max_depth=3, random_state=0)"
      ]
     },
     "execution_count": 286,
     "metadata": {},
     "output_type": "execute_result"
    }
   ],
   "source": [
    "decision_tree = DecisionTreeClassifier(random_state=0, max_depth=3)\n",
    "decision_tree.fit(X, y)"
   ]
  },
  {
   "cell_type": "code",
   "execution_count": 287,
   "id": "a61c864f",
   "metadata": {},
   "outputs": [
    {
     "name": "stdout",
     "output_type": "stream",
     "text": [
      "|--- Sex_male <= 0.50\n",
      "|   |--- Pclass_3 <= 0.50\n",
      "|   |   |--- Age <= 2.50\n",
      "|   |   |   |--- class: 0\n",
      "|   |   |--- Age >  2.50\n",
      "|   |   |   |--- class: 1\n",
      "|   |--- Pclass_3 >  0.50\n",
      "|   |   |--- Fare <= 23.35\n",
      "|   |   |   |--- class: 1\n",
      "|   |   |--- Fare >  23.35\n",
      "|   |   |   |--- class: 0\n",
      "|--- Sex_male >  0.50\n",
      "|   |--- Age <= 13.00\n",
      "|   |   |--- Siblings_Spouses_Aboard <= 2.50\n",
      "|   |   |   |--- class: 1\n",
      "|   |   |--- Siblings_Spouses_Aboard >  2.50\n",
      "|   |   |   |--- class: 0\n",
      "|   |--- Age >  13.00\n",
      "|   |   |--- Fare <= 26.27\n",
      "|   |   |   |--- class: 0\n",
      "|   |   |--- Fare >  26.27\n",
      "|   |   |   |--- class: 0\n",
      "\n"
     ]
    }
   ],
   "source": [
    "r = export_text(decision_tree, feature_names= list(X.columns.values))\n",
    "print(r)"
   ]
  },
  {
   "cell_type": "markdown",
   "id": "b26eadb7",
   "metadata": {},
   "source": [
    "By inspecting the tree, answer the following questions:\n",
    "\n",
    "2d)  What is the most important factor in determining whether a passenger survived?"
   ]
  },
  {
   "cell_type": "markdown",
   "id": "81eaed5c",
   "metadata": {},
   "source": [
    "**The most important factor is the what sex are you**"
   ]
  },
  {
   "cell_type": "markdown",
   "id": "2fca96c2",
   "metadata": {},
   "source": [
    "2e)  Would you predict a boy under the age of 13 would survive?"
   ]
  },
  {
   "cell_type": "markdown",
   "id": "37509de8",
   "metadata": {},
   "source": [
    "**if Siblings_Spouses_Aboard <=3 then He will survive**"
   ]
  },
  {
   "cell_type": "markdown",
   "id": "63dc72ba",
   "metadata": {},
   "source": [
    "**if Siblings_Spouses_Aboard >=3 then He will NOT survive**"
   ]
  },
  {
   "cell_type": "markdown",
   "id": "cc20de82",
   "metadata": {},
   "source": [
    "3)  **Leave One Out Cross-validation**.  The dataset \"Problem 3 Data.csv\" contains a single predictor (X) and a single response variable (Y).  The data was generated from the model $Y = 3X^{2} - 2X + \\epsilon$ where $\\epsilon$ is a normal random variable.\n",
    "\n",
    "3a)  Read the data into a dataframe and create a scatterplot of Y as a function of X."
   ]
  },
  {
   "cell_type": "markdown",
   "id": "5d1c9c91",
   "metadata": {},
   "source": [
    "3b)  Generate linear regression models using linear, quadratic, cubic, and quartic fits for the model as follows:\n",
    "  - Linear:  $y = \\beta_{0} + \\beta_{1}X + \\epsilon$\n",
    "  - Quadtatic:  $y = \\beta_{0} + \\beta_{1}X + \\beta_{2}X^{2} + \\epsilon$\n",
    "  - Cubic:  $y = \\beta_{0} + \\beta_{1}X + \\beta_{2}X^{2} + \\beta_{3}X^{3} + \\epsilon$\n",
    "  - Quartic:  $y = \\beta_{0} + \\beta_{1}X + \\beta_{2}X^{2} + \\beta_{3}X^{3} + \\beta_{4}X^{4} + \\epsilon$\n",
    "  \n",
    "Using Leave-Out-One Cross-Validation (LOOCV), calculate the mean square error for each of the four models.\n",
    "\n",
    "Note:  there are several techniques for performing this operation.  I recommend using the LeaveOneOut and corss_val_score methods that are part of the sklearn.model_selection package as was done in an in-class example of LOOCV."
   ]
  },
  {
   "cell_type": "markdown",
   "id": "b57a01af",
   "metadata": {},
   "source": [
    "3c)  Comment on and explain the MSE measurements for the four models.  Which model has the lowest MSE?  Why?"
   ]
  },
  {
   "cell_type": "markdown",
   "id": "814cbe3b",
   "metadata": {},
   "source": []
  },
  {
   "cell_type": "markdown",
   "id": "cde69b20",
   "metadata": {},
   "source": [
    "3d)  Using the statsmodels OLS function, evaluate the p-scores on the coefficients for the quartic model.  Are they what you would expect?  Why?"
   ]
  },
  {
   "cell_type": "markdown",
   "id": "c343f0fe",
   "metadata": {},
   "source": []
  },
  {
   "cell_type": "markdown",
   "id": "27cb8af9",
   "metadata": {},
   "source": [
    "4)  **Tree-Based Methods**.  \n",
    "\n",
    "For this problem, we are going to perform regression using the three tree-based methods discussed in class (decision tree, random forest, gradient boosting) and compare the resulting test set mean squared errors.\n",
    "\n",
    "Read in the dataset \"Problem 4 Data.csv\" and split it into 50% test and training sets using the sklearn train_test_split function and setting ramdom_state = 0 for reproducibility.  This dataset has four numeric predictors (V1, V2, V3, V4) and one response variable (Y).\n",
    "\n",
    "Using the sklearn functions DecisionTreeRegressor, RandomForestRegressor, and GradientBoostingRegressor, train these three models using each of these three techniques.  You may use all of the defaults for the parameters to these sklearn functions but set the random_state = 0 for reproducibility.\n",
    "\n",
    "Then, calculate the mean squared error for the test partition for each of these three models and summarize the results.  Which model produces the lowest MSE for this dataset?"
   ]
  },
  {
   "cell_type": "code",
   "execution_count": 288,
   "id": "af801d5c",
   "metadata": {},
   "outputs": [
    {
     "data": {
      "text/html": [
       "<div>\n",
       "<style scoped>\n",
       "    .dataframe tbody tr th:only-of-type {\n",
       "        vertical-align: middle;\n",
       "    }\n",
       "\n",
       "    .dataframe tbody tr th {\n",
       "        vertical-align: top;\n",
       "    }\n",
       "\n",
       "    .dataframe thead th {\n",
       "        text-align: right;\n",
       "    }\n",
       "</style>\n",
       "<table border=\"1\" class=\"dataframe\">\n",
       "  <thead>\n",
       "    <tr style=\"text-align: right;\">\n",
       "      <th></th>\n",
       "      <th>V1</th>\n",
       "      <th>V2</th>\n",
       "      <th>V3</th>\n",
       "      <th>V4</th>\n",
       "      <th>V5</th>\n",
       "      <th>Y</th>\n",
       "    </tr>\n",
       "  </thead>\n",
       "  <tbody>\n",
       "    <tr>\n",
       "      <th>0</th>\n",
       "      <td>36.908362</td>\n",
       "      <td>58.137832</td>\n",
       "      <td>34.063079</td>\n",
       "      <td>27.629429</td>\n",
       "      <td>39.802535</td>\n",
       "      <td>173.692568</td>\n",
       "    </tr>\n",
       "    <tr>\n",
       "      <th>1</th>\n",
       "      <td>67.140833</td>\n",
       "      <td>25.628689</td>\n",
       "      <td>96.010333</td>\n",
       "      <td>35.153031</td>\n",
       "      <td>7.655936</td>\n",
       "      <td>-49.643497</td>\n",
       "    </tr>\n",
       "    <tr>\n",
       "      <th>2</th>\n",
       "      <td>76.814455</td>\n",
       "      <td>87.808397</td>\n",
       "      <td>62.854093</td>\n",
       "      <td>86.842391</td>\n",
       "      <td>10.338958</td>\n",
       "      <td>215.564750</td>\n",
       "    </tr>\n",
       "    <tr>\n",
       "      <th>3</th>\n",
       "      <td>52.224828</td>\n",
       "      <td>88.230239</td>\n",
       "      <td>84.531320</td>\n",
       "      <td>77.054926</td>\n",
       "      <td>49.846106</td>\n",
       "      <td>188.393343</td>\n",
       "    </tr>\n",
       "    <tr>\n",
       "      <th>4</th>\n",
       "      <td>82.807502</td>\n",
       "      <td>98.733468</td>\n",
       "      <td>12.228363</td>\n",
       "      <td>99.143910</td>\n",
       "      <td>51.865956</td>\n",
       "      <td>397.111470</td>\n",
       "    </tr>\n",
       "    <tr>\n",
       "      <th>...</th>\n",
       "      <td>...</td>\n",
       "      <td>...</td>\n",
       "      <td>...</td>\n",
       "      <td>...</td>\n",
       "      <td>...</td>\n",
       "      <td>...</td>\n",
       "    </tr>\n",
       "    <tr>\n",
       "      <th>995</th>\n",
       "      <td>42.363210</td>\n",
       "      <td>23.185302</td>\n",
       "      <td>11.053874</td>\n",
       "      <td>45.085593</td>\n",
       "      <td>13.295042</td>\n",
       "      <td>93.800742</td>\n",
       "    </tr>\n",
       "    <tr>\n",
       "      <th>996</th>\n",
       "      <td>84.409710</td>\n",
       "      <td>40.610184</td>\n",
       "      <td>7.581713</td>\n",
       "      <td>97.395755</td>\n",
       "      <td>61.923920</td>\n",
       "      <td>243.695088</td>\n",
       "    </tr>\n",
       "    <tr>\n",
       "      <th>997</th>\n",
       "      <td>95.382735</td>\n",
       "      <td>86.716951</td>\n",
       "      <td>3.852645</td>\n",
       "      <td>23.938358</td>\n",
       "      <td>39.784085</td>\n",
       "      <td>378.306716</td>\n",
       "    </tr>\n",
       "    <tr>\n",
       "      <th>998</th>\n",
       "      <td>28.647352</td>\n",
       "      <td>27.581262</td>\n",
       "      <td>92.193152</td>\n",
       "      <td>69.327234</td>\n",
       "      <td>97.668047</td>\n",
       "      <td>15.367214</td>\n",
       "    </tr>\n",
       "    <tr>\n",
       "      <th>999</th>\n",
       "      <td>54.084940</td>\n",
       "      <td>75.255450</td>\n",
       "      <td>73.441133</td>\n",
       "      <td>13.816439</td>\n",
       "      <td>18.259606</td>\n",
       "      <td>141.922964</td>\n",
       "    </tr>\n",
       "  </tbody>\n",
       "</table>\n",
       "<p>1000 rows × 6 columns</p>\n",
       "</div>"
      ],
      "text/plain": [
       "            V1         V2         V3         V4         V5           Y\n",
       "0    36.908362  58.137832  34.063079  27.629429  39.802535  173.692568\n",
       "1    67.140833  25.628689  96.010333  35.153031   7.655936  -49.643497\n",
       "2    76.814455  87.808397  62.854093  86.842391  10.338958  215.564750\n",
       "3    52.224828  88.230239  84.531320  77.054926  49.846106  188.393343\n",
       "4    82.807502  98.733468  12.228363  99.143910  51.865956  397.111470\n",
       "..         ...        ...        ...        ...        ...         ...\n",
       "995  42.363210  23.185302  11.053874  45.085593  13.295042   93.800742\n",
       "996  84.409710  40.610184   7.581713  97.395755  61.923920  243.695088\n",
       "997  95.382735  86.716951   3.852645  23.938358  39.784085  378.306716\n",
       "998  28.647352  27.581262  92.193152  69.327234  97.668047   15.367214\n",
       "999  54.084940  75.255450  73.441133  13.816439  18.259606  141.922964\n",
       "\n",
       "[1000 rows x 6 columns]"
      ]
     },
     "execution_count": 288,
     "metadata": {},
     "output_type": "execute_result"
    }
   ],
   "source": [
    "Data_4 = pd.read_csv('Problem 4 Data.csv')\n",
    "Data_4"
   ]
  },
  {
   "cell_type": "code",
   "execution_count": 289,
   "id": "b7f056d9",
   "metadata": {},
   "outputs": [],
   "source": [
    "y = Data_4['Y']\n",
    "X = Data_4.drop('Y', axis = 1)"
   ]
  },
  {
   "cell_type": "code",
   "execution_count": 290,
   "id": "26970327",
   "metadata": {},
   "outputs": [],
   "source": [
    "X_train, X_test, y_train, y_test = train_test_split(X, y, train_size = 0.5, random_state = 0)"
   ]
  },
  {
   "cell_type": "code",
   "execution_count": 291,
   "id": "cf904dce",
   "metadata": {},
   "outputs": [],
   "source": [
    "regr_tree_Data_4 = DecisionTreeRegressor(random_state=0)\n",
    "regr_tree_Data_4 = regr_tree_Data_4.fit(X_train, y_train)"
   ]
  },
  {
   "cell_type": "code",
   "execution_count": 292,
   "id": "851f00d0",
   "metadata": {},
   "outputs": [
    {
     "data": {
      "text/plain": [
       "1524.966924648596"
      ]
     },
     "execution_count": 292,
     "metadata": {},
     "output_type": "execute_result"
    }
   ],
   "source": [
    "pred = regr_tree_Data_4.predict(X_test)\n",
    "mpse_2_DecisionTree = mean_squared_error(y_test, pred)\n",
    "mpse_2_DecisionTree"
   ]
  },
  {
   "cell_type": "code",
   "execution_count": 293,
   "id": "b4645fb1",
   "metadata": {},
   "outputs": [],
   "source": [
    "rfr = RandomForestRegressor(random_state=0)\n",
    "rfr = rfr.fit(X_train, y_train)"
   ]
  },
  {
   "cell_type": "code",
   "execution_count": 294,
   "id": "d3f79ed9",
   "metadata": {},
   "outputs": [
    {
     "data": {
      "text/plain": [
       "598.6196026915557"
      ]
     },
     "execution_count": 294,
     "metadata": {},
     "output_type": "execute_result"
    }
   ],
   "source": [
    "ypred = rfr.predict(X_test)\n",
    "mpse_2_RandomForest = mean_squared_error(y_test, ypred)\n",
    "mpse_2_RandomForest"
   ]
  },
  {
   "cell_type": "code",
   "execution_count": 295,
   "id": "fd1fb208",
   "metadata": {},
   "outputs": [
    {
     "data": {
      "text/plain": [
       "GradientBoostingRegressor(random_state=0)"
      ]
     },
     "execution_count": 295,
     "metadata": {},
     "output_type": "execute_result"
    }
   ],
   "source": [
    "reg_Gra = GradientBoostingRegressor(random_state=0)\n",
    "reg_Gra.fit(X_train, y_train)"
   ]
  },
  {
   "cell_type": "code",
   "execution_count": 296,
   "id": "4e61dcfa",
   "metadata": {},
   "outputs": [
    {
     "data": {
      "text/plain": [
       "252.99123783971132"
      ]
     },
     "execution_count": 296,
     "metadata": {},
     "output_type": "execute_result"
    }
   ],
   "source": [
    "y_pred=reg_Gra.predict(X_test)\n",
    "mpse_2_Grad = mean_squared_error(y_test, y_pred)\n",
    "mpse_2_Grad"
   ]
  },
  {
   "cell_type": "markdown",
   "id": "e6e5f94b",
   "metadata": {},
   "source": [
    "**GradientBoostingRegressor produces the lowest MSE for this dataset.**"
   ]
  },
  {
   "cell_type": "markdown",
   "id": "96fcf770",
   "metadata": {},
   "source": [
    "5)  **Support Vector Classifier**.  \n",
    "\n",
    "For this problem we are going to perform classification using logistic regression and the support vector classifier.  Load the dataset \"Problem 5 Data.csv\" and follow the steps below using sklearn functions as appropriate.  The dataset contains two predictors (X1 and X2) and one categorical response variable Y."
   ]
  },
  {
   "cell_type": "markdown",
   "id": "68bda631",
   "metadata": {},
   "source": [
    "5a)  Create a scatterplot of the predictors color-coded by their category.  I recommend using matplot lib with the parameters cmap = 'autumn' and s = 50 for easier visibility (to my slightly colorblind eyes)."
   ]
  },
  {
   "cell_type": "code",
   "execution_count": 297,
   "id": "68f9fcba",
   "metadata": {},
   "outputs": [
    {
     "data": {
      "text/html": [
       "<div>\n",
       "<style scoped>\n",
       "    .dataframe tbody tr th:only-of-type {\n",
       "        vertical-align: middle;\n",
       "    }\n",
       "\n",
       "    .dataframe tbody tr th {\n",
       "        vertical-align: top;\n",
       "    }\n",
       "\n",
       "    .dataframe thead th {\n",
       "        text-align: right;\n",
       "    }\n",
       "</style>\n",
       "<table border=\"1\" class=\"dataframe\">\n",
       "  <thead>\n",
       "    <tr style=\"text-align: right;\">\n",
       "      <th></th>\n",
       "      <th>X1</th>\n",
       "      <th>X2</th>\n",
       "      <th>Y</th>\n",
       "    </tr>\n",
       "  </thead>\n",
       "  <tbody>\n",
       "    <tr>\n",
       "      <th>0</th>\n",
       "      <td>0.357812</td>\n",
       "      <td>0.073529</td>\n",
       "      <td>1</td>\n",
       "    </tr>\n",
       "    <tr>\n",
       "      <th>1</th>\n",
       "      <td>-0.045565</td>\n",
       "      <td>-0.264223</td>\n",
       "      <td>0</td>\n",
       "    </tr>\n",
       "    <tr>\n",
       "      <th>2</th>\n",
       "      <td>0.121110</td>\n",
       "      <td>0.155783</td>\n",
       "      <td>0</td>\n",
       "    </tr>\n",
       "    <tr>\n",
       "      <th>3</th>\n",
       "      <td>-0.474510</td>\n",
       "      <td>-0.081679</td>\n",
       "      <td>1</td>\n",
       "    </tr>\n",
       "    <tr>\n",
       "      <th>4</th>\n",
       "      <td>0.186818</td>\n",
       "      <td>-0.337614</td>\n",
       "      <td>0</td>\n",
       "    </tr>\n",
       "    <tr>\n",
       "      <th>...</th>\n",
       "      <td>...</td>\n",
       "      <td>...</td>\n",
       "      <td>...</td>\n",
       "    </tr>\n",
       "    <tr>\n",
       "      <th>495</th>\n",
       "      <td>0.409228</td>\n",
       "      <td>-0.264751</td>\n",
       "      <td>1</td>\n",
       "    </tr>\n",
       "    <tr>\n",
       "      <th>496</th>\n",
       "      <td>-0.080077</td>\n",
       "      <td>0.045124</td>\n",
       "      <td>1</td>\n",
       "    </tr>\n",
       "    <tr>\n",
       "      <th>497</th>\n",
       "      <td>-0.292078</td>\n",
       "      <td>-0.353279</td>\n",
       "      <td>0</td>\n",
       "    </tr>\n",
       "    <tr>\n",
       "      <th>498</th>\n",
       "      <td>-0.024140</td>\n",
       "      <td>-0.361942</td>\n",
       "      <td>0</td>\n",
       "    </tr>\n",
       "    <tr>\n",
       "      <th>499</th>\n",
       "      <td>-0.470112</td>\n",
       "      <td>-0.004169</td>\n",
       "      <td>1</td>\n",
       "    </tr>\n",
       "  </tbody>\n",
       "</table>\n",
       "<p>500 rows × 3 columns</p>\n",
       "</div>"
      ],
      "text/plain": [
       "           X1        X2  Y\n",
       "0    0.357812  0.073529  1\n",
       "1   -0.045565 -0.264223  0\n",
       "2    0.121110  0.155783  0\n",
       "3   -0.474510 -0.081679  1\n",
       "4    0.186818 -0.337614  0\n",
       "..        ...       ... ..\n",
       "495  0.409228 -0.264751  1\n",
       "496 -0.080077  0.045124  1\n",
       "497 -0.292078 -0.353279  0\n",
       "498 -0.024140 -0.361942  0\n",
       "499 -0.470112 -0.004169  1\n",
       "\n",
       "[500 rows x 3 columns]"
      ]
     },
     "execution_count": 297,
     "metadata": {},
     "output_type": "execute_result"
    }
   ],
   "source": [
    "Data_5 = pd.read_csv('Problem 5 Data.csv')\n",
    "Data_5"
   ]
  },
  {
   "cell_type": "code",
   "execution_count": 298,
   "id": "7cbae391",
   "metadata": {},
   "outputs": [
    {
     "data": {
      "text/plain": [
       "<matplotlib.collections.PathCollection at 0x1c8a41beb20>"
      ]
     },
     "execution_count": 298,
     "metadata": {},
     "output_type": "execute_result"
    },
    {
     "data": {
      "image/png": "[encoded data removed]",
      "text/plain": [
       "<Figure size 432x288 with 1 Axes>"
      ]
     },
     "metadata": {
      "needs_background": "light"
     },
     "output_type": "display_data"
    }
   ],
   "source": [
    "plt.scatter(Data_5['X1'],Data_5['X2'],c=Data_5['Y'],cmap = 'autumn' , s = 50)"
   ]
  },
  {
   "cell_type": "markdown",
   "id": "1535e4c8",
   "metadata": {},
   "source": [
    "5b)  Train a logistic regression model for this data and calculate its accuracy (you may use the sklear.metrics function accuracy_score).  Create another scatterplot color coding the observations with the predicted values from your logistic regression model."
   ]
  },
  {
   "cell_type": "code",
   "execution_count": 299,
   "id": "4e28a072",
   "metadata": {},
   "outputs": [
    {
     "data": {
      "text/html": [
       "<div>\n",
       "<style scoped>\n",
       "    .dataframe tbody tr th:only-of-type {\n",
       "        vertical-align: middle;\n",
       "    }\n",
       "\n",
       "    .dataframe tbody tr th {\n",
       "        vertical-align: top;\n",
       "    }\n",
       "\n",
       "    .dataframe thead th {\n",
       "        text-align: right;\n",
       "    }\n",
       "</style>\n",
       "<table border=\"1\" class=\"dataframe\">\n",
       "  <thead>\n",
       "    <tr style=\"text-align: right;\">\n",
       "      <th></th>\n",
       "      <th>X1</th>\n",
       "      <th>X2</th>\n",
       "    </tr>\n",
       "  </thead>\n",
       "  <tbody>\n",
       "    <tr>\n",
       "      <th>0</th>\n",
       "      <td>0.357812</td>\n",
       "      <td>0.073529</td>\n",
       "    </tr>\n",
       "    <tr>\n",
       "      <th>1</th>\n",
       "      <td>-0.045565</td>\n",
       "      <td>-0.264223</td>\n",
       "    </tr>\n",
       "    <tr>\n",
       "      <th>2</th>\n",
       "      <td>0.121110</td>\n",
       "      <td>0.155783</td>\n",
       "    </tr>\n",
       "    <tr>\n",
       "      <th>3</th>\n",
       "      <td>-0.474510</td>\n",
       "      <td>-0.081679</td>\n",
       "    </tr>\n",
       "    <tr>\n",
       "      <th>4</th>\n",
       "      <td>0.186818</td>\n",
       "      <td>-0.337614</td>\n",
       "    </tr>\n",
       "    <tr>\n",
       "      <th>...</th>\n",
       "      <td>...</td>\n",
       "      <td>...</td>\n",
       "    </tr>\n",
       "    <tr>\n",
       "      <th>495</th>\n",
       "      <td>0.409228</td>\n",
       "      <td>-0.264751</td>\n",
       "    </tr>\n",
       "    <tr>\n",
       "      <th>496</th>\n",
       "      <td>-0.080077</td>\n",
       "      <td>0.045124</td>\n",
       "    </tr>\n",
       "    <tr>\n",
       "      <th>497</th>\n",
       "      <td>-0.292078</td>\n",
       "      <td>-0.353279</td>\n",
       "    </tr>\n",
       "    <tr>\n",
       "      <th>498</th>\n",
       "      <td>-0.024140</td>\n",
       "      <td>-0.361942</td>\n",
       "    </tr>\n",
       "    <tr>\n",
       "      <th>499</th>\n",
       "      <td>-0.470112</td>\n",
       "      <td>-0.004169</td>\n",
       "    </tr>\n",
       "  </tbody>\n",
       "</table>\n",
       "<p>500 rows × 2 columns</p>\n",
       "</div>"
      ],
      "text/plain": [
       "           X1        X2\n",
       "0    0.357812  0.073529\n",
       "1   -0.045565 -0.264223\n",
       "2    0.121110  0.155783\n",
       "3   -0.474510 -0.081679\n",
       "4    0.186818 -0.337614\n",
       "..        ...       ...\n",
       "495  0.409228 -0.264751\n",
       "496 -0.080077  0.045124\n",
       "497 -0.292078 -0.353279\n",
       "498 -0.024140 -0.361942\n",
       "499 -0.470112 -0.004169\n",
       "\n",
       "[500 rows x 2 columns]"
      ]
     },
     "execution_count": 299,
     "metadata": {},
     "output_type": "execute_result"
    }
   ],
   "source": [
    "y1 = Data_5['Y']\n",
    "X1 = Data_5.drop('Y', 1)\n",
    "X1"
   ]
  },
  {
   "cell_type": "code",
   "execution_count": 300,
   "id": "7e004887",
   "metadata": {},
   "outputs": [],
   "source": [
    "mode_5 = LogisticRegression().fit(X1,y1)\n",
    "y_pred=mode_5.predict(X1)"
   ]
  },
  {
   "cell_type": "code",
   "execution_count": 301,
   "id": "7eb53649",
   "metadata": {},
   "outputs": [
    {
     "data": {
      "text/plain": [
       "0.612"
      ]
     },
     "execution_count": 301,
     "metadata": {},
     "output_type": "execute_result"
    }
   ],
   "source": [
    "accuracy_score(y1, y_pred)"
   ]
  },
  {
   "cell_type": "code",
   "execution_count": 303,
   "id": "c9ffff9e",
   "metadata": {},
   "outputs": [
    {
     "data": {
      "text/plain": [
       "<matplotlib.collections.PathCollection at 0x1c8a4254790>"
      ]
     },
     "execution_count": 303,
     "metadata": {},
     "output_type": "execute_result"
    },
    {
     "data": {
      "image/png": "[encoded data removed]",
      "text/plain": [
       "<Figure size 432x288 with 1 Axes>"
      ]
     },
     "metadata": {
      "needs_background": "light"
     },
     "output_type": "display_data"
    }
   ],
   "source": [
    "plt.scatter(Data_5['X1'],Data_5['X2'],c=y_pred,cmap = 'autumn' , s = 50)"
   ]
  },
  {
   "cell_type": "markdown",
   "id": "2e6e12b8",
   "metadata": {},
   "source": [
    "5c)  Now, add the nonlinear terms $X_1^{2}$ and $X_2^{2}$ to your logistic regression classifier.  Calculate the resulting accuracy score and plot the observations color-coded with the prediction as in the plot created above."
   ]
  },
  {
   "cell_type": "code",
   "execution_count": 304,
   "id": "acfbc5d3",
   "metadata": {},
   "outputs": [
    {
     "data": {
      "text/html": [
       "<div>\n",
       "<style scoped>\n",
       "    .dataframe tbody tr th:only-of-type {\n",
       "        vertical-align: middle;\n",
       "    }\n",
       "\n",
       "    .dataframe tbody tr th {\n",
       "        vertical-align: top;\n",
       "    }\n",
       "\n",
       "    .dataframe thead th {\n",
       "        text-align: right;\n",
       "    }\n",
       "</style>\n",
       "<table border=\"1\" class=\"dataframe\">\n",
       "  <thead>\n",
       "    <tr style=\"text-align: right;\">\n",
       "      <th></th>\n",
       "      <th>X1</th>\n",
       "      <th>X2</th>\n",
       "      <th>Y</th>\n",
       "      <th>X1_2</th>\n",
       "      <th>X2_2</th>\n",
       "    </tr>\n",
       "  </thead>\n",
       "  <tbody>\n",
       "    <tr>\n",
       "      <th>0</th>\n",
       "      <td>0.357812</td>\n",
       "      <td>0.073529</td>\n",
       "      <td>1</td>\n",
       "      <td>0.128030</td>\n",
       "      <td>0.005407</td>\n",
       "    </tr>\n",
       "    <tr>\n",
       "      <th>1</th>\n",
       "      <td>-0.045565</td>\n",
       "      <td>-0.264223</td>\n",
       "      <td>0</td>\n",
       "      <td>0.002076</td>\n",
       "      <td>0.069814</td>\n",
       "    </tr>\n",
       "    <tr>\n",
       "      <th>2</th>\n",
       "      <td>0.121110</td>\n",
       "      <td>0.155783</td>\n",
       "      <td>0</td>\n",
       "      <td>0.014668</td>\n",
       "      <td>0.024268</td>\n",
       "    </tr>\n",
       "    <tr>\n",
       "      <th>3</th>\n",
       "      <td>-0.474510</td>\n",
       "      <td>-0.081679</td>\n",
       "      <td>1</td>\n",
       "      <td>0.225160</td>\n",
       "      <td>0.006672</td>\n",
       "    </tr>\n",
       "    <tr>\n",
       "      <th>4</th>\n",
       "      <td>0.186818</td>\n",
       "      <td>-0.337614</td>\n",
       "      <td>0</td>\n",
       "      <td>0.034901</td>\n",
       "      <td>0.113983</td>\n",
       "    </tr>\n",
       "    <tr>\n",
       "      <th>...</th>\n",
       "      <td>...</td>\n",
       "      <td>...</td>\n",
       "      <td>...</td>\n",
       "      <td>...</td>\n",
       "      <td>...</td>\n",
       "    </tr>\n",
       "    <tr>\n",
       "      <th>495</th>\n",
       "      <td>0.409228</td>\n",
       "      <td>-0.264751</td>\n",
       "      <td>1</td>\n",
       "      <td>0.167468</td>\n",
       "      <td>0.070093</td>\n",
       "    </tr>\n",
       "    <tr>\n",
       "      <th>496</th>\n",
       "      <td>-0.080077</td>\n",
       "      <td>0.045124</td>\n",
       "      <td>1</td>\n",
       "      <td>0.006412</td>\n",
       "      <td>0.002036</td>\n",
       "    </tr>\n",
       "    <tr>\n",
       "      <th>497</th>\n",
       "      <td>-0.292078</td>\n",
       "      <td>-0.353279</td>\n",
       "      <td>0</td>\n",
       "      <td>0.085310</td>\n",
       "      <td>0.124806</td>\n",
       "    </tr>\n",
       "    <tr>\n",
       "      <th>498</th>\n",
       "      <td>-0.024140</td>\n",
       "      <td>-0.361942</td>\n",
       "      <td>0</td>\n",
       "      <td>0.000583</td>\n",
       "      <td>0.131002</td>\n",
       "    </tr>\n",
       "    <tr>\n",
       "      <th>499</th>\n",
       "      <td>-0.470112</td>\n",
       "      <td>-0.004169</td>\n",
       "      <td>1</td>\n",
       "      <td>0.221005</td>\n",
       "      <td>0.000017</td>\n",
       "    </tr>\n",
       "  </tbody>\n",
       "</table>\n",
       "<p>500 rows × 5 columns</p>\n",
       "</div>"
      ],
      "text/plain": [
       "           X1        X2  Y      X1_2      X2_2\n",
       "0    0.357812  0.073529  1  0.128030  0.005407\n",
       "1   -0.045565 -0.264223  0  0.002076  0.069814\n",
       "2    0.121110  0.155783  0  0.014668  0.024268\n",
       "3   -0.474510 -0.081679  1  0.225160  0.006672\n",
       "4    0.186818 -0.337614  0  0.034901  0.113983\n",
       "..        ...       ... ..       ...       ...\n",
       "495  0.409228 -0.264751  1  0.167468  0.070093\n",
       "496 -0.080077  0.045124  1  0.006412  0.002036\n",
       "497 -0.292078 -0.353279  0  0.085310  0.124806\n",
       "498 -0.024140 -0.361942  0  0.000583  0.131002\n",
       "499 -0.470112 -0.004169  1  0.221005  0.000017\n",
       "\n",
       "[500 rows x 5 columns]"
      ]
     },
     "execution_count": 304,
     "metadata": {},
     "output_type": "execute_result"
    }
   ],
   "source": [
    "Data_5['X1_2']=Data_5['X1']**2\n",
    "Data_5['X2_2'] = Data_5['X2']**2\n",
    "Data_5"
   ]
  },
  {
   "cell_type": "code",
   "execution_count": 190,
   "id": "8f065377",
   "metadata": {},
   "outputs": [
    {
     "data": {
      "text/html": [
       "<div>\n",
       "<style scoped>\n",
       "    .dataframe tbody tr th:only-of-type {\n",
       "        vertical-align: middle;\n",
       "    }\n",
       "\n",
       "    .dataframe tbody tr th {\n",
       "        vertical-align: top;\n",
       "    }\n",
       "\n",
       "    .dataframe thead th {\n",
       "        text-align: right;\n",
       "    }\n",
       "</style>\n",
       "<table border=\"1\" class=\"dataframe\">\n",
       "  <thead>\n",
       "    <tr style=\"text-align: right;\">\n",
       "      <th></th>\n",
       "      <th>X1</th>\n",
       "      <th>X2</th>\n",
       "      <th>X1_2</th>\n",
       "      <th>X2_2</th>\n",
       "    </tr>\n",
       "  </thead>\n",
       "  <tbody>\n",
       "    <tr>\n",
       "      <th>0</th>\n",
       "      <td>0.357812</td>\n",
       "      <td>0.073529</td>\n",
       "      <td>0.128030</td>\n",
       "      <td>0.005407</td>\n",
       "    </tr>\n",
       "    <tr>\n",
       "      <th>1</th>\n",
       "      <td>-0.045565</td>\n",
       "      <td>-0.264223</td>\n",
       "      <td>0.002076</td>\n",
       "      <td>0.069814</td>\n",
       "    </tr>\n",
       "    <tr>\n",
       "      <th>2</th>\n",
       "      <td>0.121110</td>\n",
       "      <td>0.155783</td>\n",
       "      <td>0.014668</td>\n",
       "      <td>0.024268</td>\n",
       "    </tr>\n",
       "    <tr>\n",
       "      <th>3</th>\n",
       "      <td>-0.474510</td>\n",
       "      <td>-0.081679</td>\n",
       "      <td>0.225160</td>\n",
       "      <td>0.006672</td>\n",
       "    </tr>\n",
       "    <tr>\n",
       "      <th>4</th>\n",
       "      <td>0.186818</td>\n",
       "      <td>-0.337614</td>\n",
       "      <td>0.034901</td>\n",
       "      <td>0.113983</td>\n",
       "    </tr>\n",
       "    <tr>\n",
       "      <th>...</th>\n",
       "      <td>...</td>\n",
       "      <td>...</td>\n",
       "      <td>...</td>\n",
       "      <td>...</td>\n",
       "    </tr>\n",
       "    <tr>\n",
       "      <th>495</th>\n",
       "      <td>0.409228</td>\n",
       "      <td>-0.264751</td>\n",
       "      <td>0.167468</td>\n",
       "      <td>0.070093</td>\n",
       "    </tr>\n",
       "    <tr>\n",
       "      <th>496</th>\n",
       "      <td>-0.080077</td>\n",
       "      <td>0.045124</td>\n",
       "      <td>0.006412</td>\n",
       "      <td>0.002036</td>\n",
       "    </tr>\n",
       "    <tr>\n",
       "      <th>497</th>\n",
       "      <td>-0.292078</td>\n",
       "      <td>-0.353279</td>\n",
       "      <td>0.085310</td>\n",
       "      <td>0.124806</td>\n",
       "    </tr>\n",
       "    <tr>\n",
       "      <th>498</th>\n",
       "      <td>-0.024140</td>\n",
       "      <td>-0.361942</td>\n",
       "      <td>0.000583</td>\n",
       "      <td>0.131002</td>\n",
       "    </tr>\n",
       "    <tr>\n",
       "      <th>499</th>\n",
       "      <td>-0.470112</td>\n",
       "      <td>-0.004169</td>\n",
       "      <td>0.221005</td>\n",
       "      <td>0.000017</td>\n",
       "    </tr>\n",
       "  </tbody>\n",
       "</table>\n",
       "<p>500 rows × 4 columns</p>\n",
       "</div>"
      ],
      "text/plain": [
       "           X1        X2      X1_2      X2_2\n",
       "0    0.357812  0.073529  0.128030  0.005407\n",
       "1   -0.045565 -0.264223  0.002076  0.069814\n",
       "2    0.121110  0.155783  0.014668  0.024268\n",
       "3   -0.474510 -0.081679  0.225160  0.006672\n",
       "4    0.186818 -0.337614  0.034901  0.113983\n",
       "..        ...       ...       ...       ...\n",
       "495  0.409228 -0.264751  0.167468  0.070093\n",
       "496 -0.080077  0.045124  0.006412  0.002036\n",
       "497 -0.292078 -0.353279  0.085310  0.124806\n",
       "498 -0.024140 -0.361942  0.000583  0.131002\n",
       "499 -0.470112 -0.004169  0.221005  0.000017\n",
       "\n",
       "[500 rows x 4 columns]"
      ]
     },
     "execution_count": 190,
     "metadata": {},
     "output_type": "execute_result"
    }
   ],
   "source": [
    "y2 = Data_5['Y']\n",
    "X2 = Data_5.drop('Y', 1)\n",
    "X2"
   ]
  },
  {
   "cell_type": "code",
   "execution_count": 305,
   "id": "8a73ec72",
   "metadata": {},
   "outputs": [],
   "source": [
    "mode_5_new = LogisticRegression().fit(X2,y2)\n",
    "y_pred_1 =mode_5_new.predict(X2)"
   ]
  },
  {
   "cell_type": "code",
   "execution_count": 306,
   "id": "7dde9982",
   "metadata": {},
   "outputs": [
    {
     "data": {
      "text/plain": [
       "0.922"
      ]
     },
     "execution_count": 306,
     "metadata": {},
     "output_type": "execute_result"
    }
   ],
   "source": [
    "accuracy_score(y2, y_pred_1)"
   ]
  },
  {
   "cell_type": "code",
   "execution_count": 308,
   "id": "7c15551a",
   "metadata": {},
   "outputs": [
    {
     "data": {
      "text/plain": [
       "<matplotlib.collections.PathCollection at 0x1c8a42f2f70>"
      ]
     },
     "execution_count": 308,
     "metadata": {},
     "output_type": "execute_result"
    },
    {
     "data": {
      "image/png": "[encoded data removed]",
      "text/plain": [
       "<Figure size 432x288 with 1 Axes>"
      ]
     },
     "metadata": {
      "needs_background": "light"
     },
     "output_type": "display_data"
    }
   ],
   "source": [
    "plt.scatter(Data_5['X1'],Data_5['X2'],c=y_pred_1,cmap = 'autumn' , s = 50)"
   ]
  },
  {
   "cell_type": "markdown",
   "id": "9513d475",
   "metadata": {},
   "source": [
    "5d)  Create a support vector classifier (using the SVC function from the sklearn.svm package) and train it with this dataset using a linear kernel and a regularization term C = 1.  As above, calculate its accuracy score and make a plot of the observations color-coded by the predictions."
   ]
  },
  {
   "cell_type": "code",
   "execution_count": 309,
   "id": "9db09c4c",
   "metadata": {},
   "outputs": [
    {
     "data": {
      "text/plain": [
       "SVC(C=1, kernel='linear')"
      ]
     },
     "execution_count": 309,
     "metadata": {},
     "output_type": "execute_result"
    }
   ],
   "source": [
    "model5_linear = SVC(C=1, kernel = 'linear')\n",
    "model5_linear.fit(X1,y1)"
   ]
  },
  {
   "cell_type": "code",
   "execution_count": 310,
   "id": "47315ced",
   "metadata": {},
   "outputs": [],
   "source": [
    "y_pred_2 =model5_linear.predict(X1)"
   ]
  },
  {
   "cell_type": "code",
   "execution_count": 311,
   "id": "e87dcbcd",
   "metadata": {},
   "outputs": [
    {
     "data": {
      "text/plain": [
       "0.64"
      ]
     },
     "execution_count": 311,
     "metadata": {},
     "output_type": "execute_result"
    }
   ],
   "source": [
    "accuracy_score(y1, y_pred_2)"
   ]
  },
  {
   "cell_type": "code",
   "execution_count": 323,
   "id": "37943e38",
   "metadata": {},
   "outputs": [
    {
     "data": {
      "text/plain": [
       "<matplotlib.collections.PathCollection at 0x1c8a4544250>"
      ]
     },
     "execution_count": 323,
     "metadata": {},
     "output_type": "execute_result"
    },
    {
     "data": {
      "image/png": "[encoded data removed]",
      "text/plain": [
       "<Figure size 432x288 with 1 Axes>"
      ]
     },
     "metadata": {
      "needs_background": "light"
     },
     "output_type": "display_data"
    }
   ],
   "source": [
    "plt.scatter(Data_5['X1'],Data_5['X2'],c=y_pred_2,cmap = 'autumn' , s = 50)"
   ]
  },
  {
   "cell_type": "markdown",
   "id": "d6a916b8",
   "metadata": {},
   "source": [
    "5e)  Finally, create a supporv vector classifier and train it with this dataset using a radial basis function (rbf) kernel and a regularization term C = 1. As above, calculate its accuracy score and make a plot of the observations color-coded by the predictions."
   ]
  },
  {
   "cell_type": "code",
   "execution_count": 324,
   "id": "821a0752",
   "metadata": {},
   "outputs": [
    {
     "data": {
      "text/plain": [
       "SVC(C=1)"
      ]
     },
     "execution_count": 324,
     "metadata": {},
     "output_type": "execute_result"
    }
   ],
   "source": [
    "model_5_rbf=SVC(kernel='rbf',C=1)\n",
    "model_5_rbf.fit(X1,y1)"
   ]
  },
  {
   "cell_type": "code",
   "execution_count": 325,
   "id": "db71c697",
   "metadata": {},
   "outputs": [],
   "source": [
    "y_pred_3=model_5_rbf.predict(X1)"
   ]
  },
  {
   "cell_type": "code",
   "execution_count": 326,
   "id": "db01f720",
   "metadata": {},
   "outputs": [
    {
     "data": {
      "text/plain": [
       "0.972"
      ]
     },
     "execution_count": 326,
     "metadata": {},
     "output_type": "execute_result"
    }
   ],
   "source": [
    "accuracy_score(y1, y_pred_3)"
   ]
  },
  {
   "cell_type": "code",
   "execution_count": 327,
   "id": "e873ab0c",
   "metadata": {},
   "outputs": [
    {
     "data": {
      "text/plain": [
       "<matplotlib.collections.PathCollection at 0x1c8a55607f0>"
      ]
     },
     "execution_count": 327,
     "metadata": {},
     "output_type": "execute_result"
    },
    {
     "data": {
      "image/png": "[encoded data removed]",
      "text/plain": [
       "<Figure size 432x288 with 1 Axes>"
      ]
     },
     "metadata": {
      "needs_background": "light"
     },
     "output_type": "display_data"
    }
   ],
   "source": [
    "plt.scatter(Data_5['X1'],Data_5['X2'],c=y_pred_3,cmap = 'autumn' , s = 50)"
   ]
  },
  {
   "cell_type": "markdown",
   "id": "26b18eb5",
   "metadata": {},
   "source": []
  },
  {
   "cell_type": "markdown",
   "id": "b6e7a7b3",
   "metadata": {},
   "source": []
  }
 ],
 "metadata": {
  "kernelspec": {
   "display_name": "Python 3",
   "language": "python",
   "name": "python3"
  },
  "language_info": {
   "codemirror_mode": {
    "name": "ipython",
    "version": 3
   },
   "file_extension": ".py",
   "mimetype": "text/x-python",
   "name": "python",
   "nbconvert_exporter": "python",
   "pygments_lexer": "ipython3",
   "version": "3.8.8"
  }
 },
 "nbformat": 4,
 "nbformat_minor": 5
}
