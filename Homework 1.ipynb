{
 "cells": [
  {
   "cell_type": "markdown",
   "id": "0d5d01c6",
   "metadata": {},
   "source": [
    "# <center> Homework 1\n",
    "    \n",
    "<center> ISE-559  Data Management\n",
    "<center> Due:  September 3, 2021\n",
    "<center> Haotian Liang"
   ]
  },
  {
   "cell_type": "markdown",
   "id": "68c8dc7f",
   "metadata": {},
   "source": [
    "This homework introduces the use of SQL using the file-based SQLite database and focuses on the SELECT subset of SQL which is all about querying data rather than modifying it.  The SQL tutorial at http://sqlzoo.net/ is a good introduction and should provide you with the background to answer all of the questions in this homework assignment.  Documentation on the SELECT function can be acccessed at https://www.sqlitetutorial.net/\n",
    "\n",
    "We will be using the sqlite3 package from within the Jupyter Notebook so there is no need to download and install any database files.  See the Module 1 class PowerPoint for more information on using this environment."
   ]
  },
  {
   "cell_type": "markdown",
   "id": "dec2408a",
   "metadata": {},
   "source": [
    "We will be working with a well-know teaching database called Sakila which is a database of movies from a video rental store.  The database contains 16 tables but for this exercise we will only be using one table called *film* which contains the inventory of movies that the store has available for rental.  \n",
    "\n",
    "The code below imports the sqlite3 database package and creates a connection to the *sakila* database"
   ]
  },
  {
   "cell_type": "code",
   "execution_count": 4,
   "id": "1d16f595",
   "metadata": {},
   "outputs": [],
   "source": [
    "import sqlite3\n",
    "con = sqlite3.connect('sakila.db')\n",
    "cur = con.cursor()"
   ]
  },
  {
   "cell_type": "markdown",
   "id": "54b9f301",
   "metadata": {},
   "source": [
    "1)  Find all of the movies that are longer than 180 minutes and have a \"R\" rating.  Print the film's id, title, rating and length.  (20 points)"
   ]
  },
  {
   "cell_type": "code",
   "execution_count": 11,
   "id": "b4309e75",
   "metadata": {},
   "outputs": [
    {
     "data": {
      "text/plain": [
       "[(24, 'ANALYZE HOOSIERS', 'R', 181),\n",
       " (406, 'HAUNTING PIANIST', 'R', 181),\n",
       " (426, 'HOME PITY', 'R', 185),\n",
       " (535, 'LOVE SUICIDES', 'R', 181),\n",
       " (765, 'SATURN NAME', 'R', 182),\n",
       " (813, 'SMOOCHY CONTROL', 'R', 184),\n",
       " (817, 'SOLDIERS EVOLUTION', 'R', 185),\n",
       " (872, 'SWEET BROTHERHOOD', 'R', 185),\n",
       " (974, 'WILD APOLLO', 'R', 181)]"
      ]
     },
     "execution_count": 11,
     "metadata": {},
     "output_type": "execute_result"
    }
   ],
   "source": [
    " cur.execute('''\n",
    "    SELECT film_id,title, rating, length\n",
    "FROM film\n",
    "WHERE length >180 AND rating = 'R'\n",
    " ''').fetchall()"
   ]
  },
  {
   "cell_type": "markdown",
   "id": "510e4cc8",
   "metadata": {},
   "source": [
    "2)  Find all of the movies that are between 55 and 60 minutes in length and have a \"R\" or \"PG-13\" rating.  Print the film's id, title, rating and length.  (20 points)"
   ]
  },
  {
   "cell_type": "code",
   "execution_count": 12,
   "id": "bd4c5310",
   "metadata": {},
   "outputs": [
    {
     "data": {
      "text/plain": [
       "[(18, 'ALTER VICTORY', 'PG-13', 57),\n",
       " (102, 'BUBBLE GROSSE', 'R', 60),\n",
       " (159, 'CLOSER BANG', 'R', 58),\n",
       " (171, 'COMMANDMENTS EXPRESS', 'R', 59),\n",
       " (199, 'CUPBOARD SINNERS', 'R', 56),\n",
       " (214, 'DAUGHTER MADIGAN', 'PG-13', 59),\n",
       " (303, 'FANTASY TROOPERS', 'PG-13', 58),\n",
       " (465, 'INTERVIEW LIAISONS', 'R', 59),\n",
       " (486, 'JET NEIGHBORS', 'R', 59),\n",
       " (565, 'MATRIX SNOWMAN', 'PG-13', 56),\n",
       " (782, 'SHAKESPEARE SADDLE', 'PG-13', 60),\n",
       " (947, 'VISION TORQUE', 'PG-13', 59),\n",
       " (972, 'WHISPERER GIANT', 'PG-13', 59)]"
      ]
     },
     "execution_count": 12,
     "metadata": {},
     "output_type": "execute_result"
    }
   ],
   "source": [
    "cur.execute('''\n",
    "   SELECT film_id,title, rating, length FROM film\n",
    "WHERE rating IN ('R','PG-13') AND length BETWEEN 55 AND 60\n",
    " ''').fetchall()"
   ]
  },
  {
   "cell_type": "markdown",
   "id": "9b596c00",
   "metadata": {},
   "source": [
    "3)  Find all the movies that are about sharks and squirrels (have both the words shark and squirrel in their description).  Print the film's title and description.  (20 points)"
   ]
  },
  {
   "cell_type": "code",
   "execution_count": 21,
   "id": "f5fb212a",
   "metadata": {},
   "outputs": [
    {
     "data": {
      "text/plain": [
       "[('DUCK RACER',\n",
       "  'A Lacklusture Yarn of a Teacher And a Squirrel who must Overcome a Dog in A Shark Tank'),\n",
       " ('GRIT CLOCKWORK',\n",
       "  'A Thoughtful Display of a Dentist And a Squirrel who must Confront a Lumberjack in A Shark Tank'),\n",
       " ('LUCK OPUS',\n",
       "  'A Boring Display of a Moose And a Squirrel who must Outrace a Teacher in A Shark Tank'),\n",
       " ('MALKOVICH PET',\n",
       "  'A Intrepid Reflection of a Waitress And a A Shark who must Kill a Squirrel in The Outback'),\n",
       " ('VANISHED GARDEN',\n",
       "  'A Intrepid Character Study of a Squirrel And a A Shark who must Kill a Lumberjack in California')]"
      ]
     },
     "execution_count": 21,
     "metadata": {},
     "output_type": "execute_result"
    }
   ],
   "source": [
    " cur.execute('''\n",
    "    SELECT title, description FROM film\n",
    "WHERE description LIKE '%shark%' AND description LIKE '%squirrel%'\n",
    " ''').fetchall()"
   ]
  },
  {
   "cell_type": "markdown",
   "id": "60a2b839",
   "metadata": {},
   "source": [
    "4)  Find all the movies whose replacement cost to length ratio is greater than or equal to $0.50/minute.  Print the film title and the replacement cost per minute sorted by replacement cost per minute in a descending order.  (20 points)"
   ]
  },
  {
   "cell_type": "code",
   "execution_count": 16,
   "id": "1c74a07d",
   "metadata": {},
   "outputs": [
    {
     "data": {
      "text/plain": [
       "[('RIDGEMONT SUBMARINE', 0.6302173913043478),\n",
       " ('IRON MOON', 0.6084782608695651),\n",
       " ('SUNSET RACER', 0.6039583333333333),\n",
       " ('MIDSUMMER GROUNDHOG', 0.583125),\n",
       " ('KWAI HOMEWARD', 0.565),\n",
       " ('LUST LOCK', 0.5575),\n",
       " ('SIDE ARK', 0.5575),\n",
       " ('LABYRINTH LEAGUE', 0.5432608695652174),\n",
       " ('CUPBOARD SINNERS', 0.5355357142857142),\n",
       " ('SIMON NORTH', 0.5292156862745098),\n",
       " ('BENEATH RUSH', 0.5281132075471697),\n",
       " ('MAGNIFICENT CHITTY', 0.5281132075471697),\n",
       " ('MOVIE SHAKESPEARE', 0.5281132075471697),\n",
       " ('DOCTOR GRAIL', 0.5261403508771929),\n",
       " ('STORM HAPPINESS', 0.5085964912280702)]"
      ]
     },
     "execution_count": 16,
     "metadata": {},
     "output_type": "execute_result"
    }
   ],
   "source": [
    " cur.execute('''\n",
    "    SELECT title, replacement_cost/length FROM film\n",
    "WHERE replacement_cost/length >= 0.5 ORDER BY replacement_cost/length DESC\n",
    " ''').fetchall()"
   ]
  },
  {
   "cell_type": "markdown",
   "id": "adc12ac7",
   "metadata": {},
   "source": [
    "5  Find all the movies with titles that start with a C and end with a P.  Return the film titles.  (20 points)"
   ]
  },
  {
   "cell_type": "code",
   "execution_count": 20,
   "id": "423d0a06",
   "metadata": {},
   "outputs": [
    {
     "data": {
      "text/plain": [
       "[('CONNECTICUT TRAMP',)]"
      ]
     },
     "execution_count": 20,
     "metadata": {},
     "output_type": "execute_result"
    }
   ],
   "source": [
    " cur.execute('''\n",
    "    SELECT title FROM film\n",
    "WHERE title LIKE 'C%P'\n",
    " ''').fetchall()"
   ]
  },
  {
   "cell_type": "code",
   "execution_count": null,
   "id": "2a30d87f",
   "metadata": {},
   "outputs": [],
   "source": []
  }
 ],
 "metadata": {
  "kernelspec": {
   "display_name": "Python 3",
   "language": "python",
   "name": "python3"
  },
  "language_info": {
   "codemirror_mode": {
    "name": "ipython",
    "version": 3
   },
   "file_extension": ".py",
   "mimetype": "text/x-python",
   "name": "python",
   "nbconvert_exporter": "python",
   "pygments_lexer": "ipython3",
   "version": "3.8.8"
  }
 },
 "nbformat": 4,
 "nbformat_minor": 5
}
