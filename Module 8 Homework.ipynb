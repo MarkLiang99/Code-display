{
 "cells": [
  {
   "cell_type": "markdown",
   "id": "ff649393",
   "metadata": {},
   "source": [
    "# <center> Module 7 Homework\n",
    "#### <center> ISE-529, Fall 2021\n",
    "#### <center> Haotian Liang\n",
    "#### <center> Due:  November 22, 2021"
   ]
  },
  {
   "cell_type": "markdown",
   "id": "d560519b",
   "metadata": {},
   "source": [
    "##  1)  Polynomial Regression (30 points)"
   ]
  },
  {
   "cell_type": "markdown",
   "id": "c5d28abe",
   "metadata": {},
   "source": [
    "1a)  For this problem, we are going to use the wage_data.csv dataset to create a fourth-degree polynomial linear model of wage based on age.  We are doing all of these problems with the full dataset.  Read the file into a dataframe called wage_data and display the dataframe."
   ]
  },
  {
   "cell_type": "code",
   "execution_count": 398,
   "id": "6d63fc54",
   "metadata": {},
   "outputs": [],
   "source": [
    "import numpy as np\n",
    "import pandas as pd\n",
    "from sklearn.linear_model import LogisticRegression\n",
    "import sklearn.metrics as metrics\n",
    "import seaborn\n",
    "from sklearn.preprocessing import PolynomialFeatures\n",
    "import matplotlib.pyplot as plt\n",
    "from sklearn.linear_model import LinearRegression\n",
    "import statsmodels.api as sm\n",
    "import statsmodels.formula.api as smf\n",
    "import seaborn as sns\n",
    "from sklearn.tree import DecisionTreeRegressor\n",
    "from sklearn import tree\n",
    "from sklearn.metrics import mean_squared_error\n",
    "import warnings\n",
    "warnings.filterwarnings(\"ignore\")\n",
    "from sklearn.model_selection import train_test_split"
   ]
  },
  {
   "cell_type": "code",
   "execution_count": 399,
   "id": "3955048a",
   "metadata": {},
   "outputs": [
    {
     "data": {
      "text/html": [
       "<div>\n",
       "<style scoped>\n",
       "    .dataframe tbody tr th:only-of-type {\n",
       "        vertical-align: middle;\n",
       "    }\n",
       "\n",
       "    .dataframe tbody tr th {\n",
       "        vertical-align: top;\n",
       "    }\n",
       "\n",
       "    .dataframe thead th {\n",
       "        text-align: right;\n",
       "    }\n",
       "</style>\n",
       "<table border=\"1\" class=\"dataframe\">\n",
       "  <thead>\n",
       "    <tr style=\"text-align: right;\">\n",
       "      <th></th>\n",
       "      <th>year</th>\n",
       "      <th>age</th>\n",
       "      <th>sex</th>\n",
       "      <th>maritl</th>\n",
       "      <th>race</th>\n",
       "      <th>education</th>\n",
       "      <th>region</th>\n",
       "      <th>jobclass</th>\n",
       "      <th>health</th>\n",
       "      <th>health_ins</th>\n",
       "      <th>logwage</th>\n",
       "      <th>wage</th>\n",
       "    </tr>\n",
       "  </thead>\n",
       "  <tbody>\n",
       "    <tr>\n",
       "      <th>0</th>\n",
       "      <td>2006</td>\n",
       "      <td>18</td>\n",
       "      <td>1. Male</td>\n",
       "      <td>1. Never Married</td>\n",
       "      <td>1. White</td>\n",
       "      <td>1. &lt; HS Grad</td>\n",
       "      <td>2. Middle Atlantic</td>\n",
       "      <td>1. Industrial</td>\n",
       "      <td>1. &lt;=Good</td>\n",
       "      <td>2. No</td>\n",
       "      <td>4.318063</td>\n",
       "      <td>75.043154</td>\n",
       "    </tr>\n",
       "    <tr>\n",
       "      <th>1</th>\n",
       "      <td>2004</td>\n",
       "      <td>24</td>\n",
       "      <td>1. Male</td>\n",
       "      <td>1. Never Married</td>\n",
       "      <td>1. White</td>\n",
       "      <td>4. College Grad</td>\n",
       "      <td>2. Middle Atlantic</td>\n",
       "      <td>2. Information</td>\n",
       "      <td>2. &gt;=Very Good</td>\n",
       "      <td>2. No</td>\n",
       "      <td>4.255273</td>\n",
       "      <td>70.476020</td>\n",
       "    </tr>\n",
       "    <tr>\n",
       "      <th>2</th>\n",
       "      <td>2003</td>\n",
       "      <td>45</td>\n",
       "      <td>1. Male</td>\n",
       "      <td>2. Married</td>\n",
       "      <td>1. White</td>\n",
       "      <td>3. Some College</td>\n",
       "      <td>2. Middle Atlantic</td>\n",
       "      <td>1. Industrial</td>\n",
       "      <td>1. &lt;=Good</td>\n",
       "      <td>1. Yes</td>\n",
       "      <td>4.875061</td>\n",
       "      <td>130.982177</td>\n",
       "    </tr>\n",
       "    <tr>\n",
       "      <th>3</th>\n",
       "      <td>2003</td>\n",
       "      <td>43</td>\n",
       "      <td>1. Male</td>\n",
       "      <td>2. Married</td>\n",
       "      <td>3. Asian</td>\n",
       "      <td>4. College Grad</td>\n",
       "      <td>2. Middle Atlantic</td>\n",
       "      <td>2. Information</td>\n",
       "      <td>2. &gt;=Very Good</td>\n",
       "      <td>1. Yes</td>\n",
       "      <td>5.041393</td>\n",
       "      <td>154.685293</td>\n",
       "    </tr>\n",
       "    <tr>\n",
       "      <th>4</th>\n",
       "      <td>2005</td>\n",
       "      <td>50</td>\n",
       "      <td>1. Male</td>\n",
       "      <td>4. Divorced</td>\n",
       "      <td>1. White</td>\n",
       "      <td>2. HS Grad</td>\n",
       "      <td>2. Middle Atlantic</td>\n",
       "      <td>2. Information</td>\n",
       "      <td>1. &lt;=Good</td>\n",
       "      <td>1. Yes</td>\n",
       "      <td>4.318063</td>\n",
       "      <td>75.043154</td>\n",
       "    </tr>\n",
       "    <tr>\n",
       "      <th>...</th>\n",
       "      <td>...</td>\n",
       "      <td>...</td>\n",
       "      <td>...</td>\n",
       "      <td>...</td>\n",
       "      <td>...</td>\n",
       "      <td>...</td>\n",
       "      <td>...</td>\n",
       "      <td>...</td>\n",
       "      <td>...</td>\n",
       "      <td>...</td>\n",
       "      <td>...</td>\n",
       "      <td>...</td>\n",
       "    </tr>\n",
       "    <tr>\n",
       "      <th>2995</th>\n",
       "      <td>2008</td>\n",
       "      <td>44</td>\n",
       "      <td>1. Male</td>\n",
       "      <td>2. Married</td>\n",
       "      <td>1. White</td>\n",
       "      <td>3. Some College</td>\n",
       "      <td>2. Middle Atlantic</td>\n",
       "      <td>1. Industrial</td>\n",
       "      <td>2. &gt;=Very Good</td>\n",
       "      <td>1. Yes</td>\n",
       "      <td>5.041393</td>\n",
       "      <td>154.685293</td>\n",
       "    </tr>\n",
       "    <tr>\n",
       "      <th>2996</th>\n",
       "      <td>2007</td>\n",
       "      <td>30</td>\n",
       "      <td>1. Male</td>\n",
       "      <td>2. Married</td>\n",
       "      <td>1. White</td>\n",
       "      <td>2. HS Grad</td>\n",
       "      <td>2. Middle Atlantic</td>\n",
       "      <td>1. Industrial</td>\n",
       "      <td>2. &gt;=Very Good</td>\n",
       "      <td>2. No</td>\n",
       "      <td>4.602060</td>\n",
       "      <td>99.689464</td>\n",
       "    </tr>\n",
       "    <tr>\n",
       "      <th>2997</th>\n",
       "      <td>2005</td>\n",
       "      <td>27</td>\n",
       "      <td>1. Male</td>\n",
       "      <td>2. Married</td>\n",
       "      <td>2. Black</td>\n",
       "      <td>1. &lt; HS Grad</td>\n",
       "      <td>2. Middle Atlantic</td>\n",
       "      <td>1. Industrial</td>\n",
       "      <td>1. &lt;=Good</td>\n",
       "      <td>2. No</td>\n",
       "      <td>4.193125</td>\n",
       "      <td>66.229408</td>\n",
       "    </tr>\n",
       "    <tr>\n",
       "      <th>2998</th>\n",
       "      <td>2005</td>\n",
       "      <td>27</td>\n",
       "      <td>1. Male</td>\n",
       "      <td>1. Never Married</td>\n",
       "      <td>1. White</td>\n",
       "      <td>3. Some College</td>\n",
       "      <td>2. Middle Atlantic</td>\n",
       "      <td>1. Industrial</td>\n",
       "      <td>2. &gt;=Very Good</td>\n",
       "      <td>1. Yes</td>\n",
       "      <td>4.477121</td>\n",
       "      <td>87.981033</td>\n",
       "    </tr>\n",
       "    <tr>\n",
       "      <th>2999</th>\n",
       "      <td>2009</td>\n",
       "      <td>55</td>\n",
       "      <td>1. Male</td>\n",
       "      <td>5. Separated</td>\n",
       "      <td>1. White</td>\n",
       "      <td>2. HS Grad</td>\n",
       "      <td>2. Middle Atlantic</td>\n",
       "      <td>1. Industrial</td>\n",
       "      <td>1. &lt;=Good</td>\n",
       "      <td>1. Yes</td>\n",
       "      <td>4.505150</td>\n",
       "      <td>90.481913</td>\n",
       "    </tr>\n",
       "  </tbody>\n",
       "</table>\n",
       "<p>3000 rows × 12 columns</p>\n",
       "</div>"
      ],
      "text/plain": [
       "      year  age      sex            maritl      race        education  \\\n",
       "0     2006   18  1. Male  1. Never Married  1. White     1. < HS Grad   \n",
       "1     2004   24  1. Male  1. Never Married  1. White  4. College Grad   \n",
       "2     2003   45  1. Male        2. Married  1. White  3. Some College   \n",
       "3     2003   43  1. Male        2. Married  3. Asian  4. College Grad   \n",
       "4     2005   50  1. Male       4. Divorced  1. White       2. HS Grad   \n",
       "...    ...  ...      ...               ...       ...              ...   \n",
       "2995  2008   44  1. Male        2. Married  1. White  3. Some College   \n",
       "2996  2007   30  1. Male        2. Married  1. White       2. HS Grad   \n",
       "2997  2005   27  1. Male        2. Married  2. Black     1. < HS Grad   \n",
       "2998  2005   27  1. Male  1. Never Married  1. White  3. Some College   \n",
       "2999  2009   55  1. Male      5. Separated  1. White       2. HS Grad   \n",
       "\n",
       "                  region        jobclass          health health_ins   logwage  \\\n",
       "0     2. Middle Atlantic   1. Industrial       1. <=Good      2. No  4.318063   \n",
       "1     2. Middle Atlantic  2. Information  2. >=Very Good      2. No  4.255273   \n",
       "2     2. Middle Atlantic   1. Industrial       1. <=Good     1. Yes  4.875061   \n",
       "3     2. Middle Atlantic  2. Information  2. >=Very Good     1. Yes  5.041393   \n",
       "4     2. Middle Atlantic  2. Information       1. <=Good     1. Yes  4.318063   \n",
       "...                  ...             ...             ...        ...       ...   \n",
       "2995  2. Middle Atlantic   1. Industrial  2. >=Very Good     1. Yes  5.041393   \n",
       "2996  2. Middle Atlantic   1. Industrial  2. >=Very Good      2. No  4.602060   \n",
       "2997  2. Middle Atlantic   1. Industrial       1. <=Good      2. No  4.193125   \n",
       "2998  2. Middle Atlantic   1. Industrial  2. >=Very Good     1. Yes  4.477121   \n",
       "2999  2. Middle Atlantic   1. Industrial       1. <=Good     1. Yes  4.505150   \n",
       "\n",
       "            wage  \n",
       "0      75.043154  \n",
       "1      70.476020  \n",
       "2     130.982177  \n",
       "3     154.685293  \n",
       "4      75.043154  \n",
       "...          ...  \n",
       "2995  154.685293  \n",
       "2996   99.689464  \n",
       "2997   66.229408  \n",
       "2998   87.981033  \n",
       "2999   90.481913  \n",
       "\n",
       "[3000 rows x 12 columns]"
      ]
     },
     "execution_count": 399,
     "metadata": {},
     "output_type": "execute_result"
    }
   ],
   "source": [
    "wage_data=pd.read_csv('wage_data.csv')\n",
    "wage_data"
   ]
  },
  {
   "cell_type": "code",
   "execution_count": 400,
   "id": "0600701a",
   "metadata": {},
   "outputs": [
    {
     "data": {
      "text/html": [
       "<div>\n",
       "<style scoped>\n",
       "    .dataframe tbody tr th:only-of-type {\n",
       "        vertical-align: middle;\n",
       "    }\n",
       "\n",
       "    .dataframe tbody tr th {\n",
       "        vertical-align: top;\n",
       "    }\n",
       "\n",
       "    .dataframe thead th {\n",
       "        text-align: right;\n",
       "    }\n",
       "</style>\n",
       "<table border=\"1\" class=\"dataframe\">\n",
       "  <thead>\n",
       "    <tr style=\"text-align: right;\">\n",
       "      <th></th>\n",
       "      <th>age</th>\n",
       "      <th>wage</th>\n",
       "    </tr>\n",
       "  </thead>\n",
       "  <tbody>\n",
       "    <tr>\n",
       "      <th>0</th>\n",
       "      <td>18</td>\n",
       "      <td>75.043154</td>\n",
       "    </tr>\n",
       "    <tr>\n",
       "      <th>1</th>\n",
       "      <td>24</td>\n",
       "      <td>70.476020</td>\n",
       "    </tr>\n",
       "    <tr>\n",
       "      <th>2</th>\n",
       "      <td>45</td>\n",
       "      <td>130.982177</td>\n",
       "    </tr>\n",
       "    <tr>\n",
       "      <th>3</th>\n",
       "      <td>43</td>\n",
       "      <td>154.685293</td>\n",
       "    </tr>\n",
       "    <tr>\n",
       "      <th>4</th>\n",
       "      <td>50</td>\n",
       "      <td>75.043154</td>\n",
       "    </tr>\n",
       "    <tr>\n",
       "      <th>...</th>\n",
       "      <td>...</td>\n",
       "      <td>...</td>\n",
       "    </tr>\n",
       "    <tr>\n",
       "      <th>2995</th>\n",
       "      <td>44</td>\n",
       "      <td>154.685293</td>\n",
       "    </tr>\n",
       "    <tr>\n",
       "      <th>2996</th>\n",
       "      <td>30</td>\n",
       "      <td>99.689464</td>\n",
       "    </tr>\n",
       "    <tr>\n",
       "      <th>2997</th>\n",
       "      <td>27</td>\n",
       "      <td>66.229408</td>\n",
       "    </tr>\n",
       "    <tr>\n",
       "      <th>2998</th>\n",
       "      <td>27</td>\n",
       "      <td>87.981033</td>\n",
       "    </tr>\n",
       "    <tr>\n",
       "      <th>2999</th>\n",
       "      <td>55</td>\n",
       "      <td>90.481913</td>\n",
       "    </tr>\n",
       "  </tbody>\n",
       "</table>\n",
       "<p>3000 rows × 2 columns</p>\n",
       "</div>"
      ],
      "text/plain": [
       "      age        wage\n",
       "0      18   75.043154\n",
       "1      24   70.476020\n",
       "2      45  130.982177\n",
       "3      43  154.685293\n",
       "4      50   75.043154\n",
       "...   ...         ...\n",
       "2995   44  154.685293\n",
       "2996   30   99.689464\n",
       "2997   27   66.229408\n",
       "2998   27   87.981033\n",
       "2999   55   90.481913\n",
       "\n",
       "[3000 rows x 2 columns]"
      ]
     },
     "execution_count": 400,
     "metadata": {},
     "output_type": "execute_result"
    }
   ],
   "source": [
    "new_data=pd.DataFrame(wage_data['age'])\n",
    "new_data['wage']=wage_data['wage']\n",
    "new_data"
   ]
  },
  {
   "cell_type": "code",
   "execution_count": 401,
   "id": "42a42c53",
   "metadata": {},
   "outputs": [],
   "source": [
    "X4 = PolynomialFeatures(4).fit_transform(new_data.age.values.reshape(-1,1))"
   ]
  },
  {
   "cell_type": "code",
   "execution_count": 402,
   "id": "07a2519a",
   "metadata": {},
   "outputs": [
    {
     "data": {
      "text/html": [
       "<table class=\"simpletable\">\n",
       "<tr>\n",
       "    <td></td>       <th>coef</th>     <th>std err</th>      <th>t</th>      <th>P>|t|</th>  <th>[0.025</th>    <th>0.975]</th>  \n",
       "</tr>\n",
       "<tr>\n",
       "  <th>const</th> <td> -184.1542</td> <td>   60.040</td> <td>   -3.067</td> <td> 0.002</td> <td> -301.879</td> <td>  -66.430</td>\n",
       "</tr>\n",
       "<tr>\n",
       "  <th>x1</th>    <td>   21.2455</td> <td>    5.887</td> <td>    3.609</td> <td> 0.000</td> <td>    9.703</td> <td>   32.788</td>\n",
       "</tr>\n",
       "<tr>\n",
       "  <th>x2</th>    <td>   -0.5639</td> <td>    0.206</td> <td>   -2.736</td> <td> 0.006</td> <td>   -0.968</td> <td>   -0.160</td>\n",
       "</tr>\n",
       "<tr>\n",
       "  <th>x3</th>    <td>    0.0068</td> <td>    0.003</td> <td>    2.221</td> <td> 0.026</td> <td>    0.001</td> <td>    0.013</td>\n",
       "</tr>\n",
       "<tr>\n",
       "  <th>x4</th>    <td>-3.204e-05</td> <td> 1.64e-05</td> <td>   -1.952</td> <td> 0.051</td> <td>-6.42e-05</td> <td> 1.45e-07</td>\n",
       "</tr>\n",
       "</table>"
      ],
      "text/plain": [
       "<class 'statsmodels.iolib.table.SimpleTable'>"
      ]
     },
     "execution_count": 402,
     "metadata": {},
     "output_type": "execute_result"
    }
   ],
   "source": [
    "fit2 = sm.GLS(new_data.wage, X4).fit()\n",
    "fit2.summary().tables[1]"
   ]
  },
  {
   "cell_type": "code",
   "execution_count": 403,
   "id": "cec10e09",
   "metadata": {},
   "outputs": [],
   "source": [
    "X = new_data.iloc[:, 0:1].values\n",
    "y = new_data.iloc[:, 1].values"
   ]
  },
  {
   "cell_type": "code",
   "execution_count": 404,
   "id": "4de105b0",
   "metadata": {},
   "outputs": [
    {
     "data": {
      "text/plain": [
       "array([ 51.9314503 ,  84.47675565, 119.32598488, ...,  95.44973383,\n",
       "        95.44973383, 118.63269421])"
      ]
     },
     "execution_count": 404,
     "metadata": {},
     "output_type": "execute_result"
    }
   ],
   "source": [
    "from sklearn.preprocessing import PolynomialFeatures\n",
    " \n",
    "poly = PolynomialFeatures(degree = 4)\n",
    "X_poly = poly.fit_transform(X)\n",
    "lin = LinearRegression()\n",
    "modle = lin.fit(X_poly, y)\n",
    "modle.predict(X_poly)"
   ]
  },
  {
   "cell_type": "markdown",
   "id": "e43eaa3b",
   "metadata": {},
   "source": [
    "1b)  Using Seaborn, create a scatterplot of wage as a function of age"
   ]
  },
  {
   "cell_type": "code",
   "execution_count": 405,
   "id": "78d857d6",
   "metadata": {},
   "outputs": [
    {
     "data": {
      "text/plain": [
       "<AxesSubplot:xlabel='age', ylabel='wage'>"
      ]
     },
     "execution_count": 405,
     "metadata": {},
     "output_type": "execute_result"
    },
    {
     "data": {
      "image/png": "[encoded data removed]",
      "text/plain": [
       "<Figure size 432x288 with 1 Axes>"
      ]
     },
     "metadata": {
      "needs_background": "light"
     },
     "output_type": "display_data"
    }
   ],
   "source": [
    "sns.scatterplot(x = \"age\", y = \"wage\", data = wage_data)"
   ]
  },
  {
   "cell_type": "markdown",
   "id": "a1b95614",
   "metadata": {},
   "source": [
    "1c)  Using sklearn, define and fit a fourth-order polynomial regression model.  Hint:  use the PolynomialFeatures function from the sklearn.preprocessing package to create all of the polynomial values of age.  Create an array of ages (from the min to the max age in the dataset) and use it as an input to the model you created above to determine the predictions which come from your model.  Plot this polynomial predictions line overlaid onto the Seaborn scatterplot created above"
   ]
  },
  {
   "cell_type": "code",
   "execution_count": 406,
   "id": "14e3fbcd",
   "metadata": {},
   "outputs": [
    {
     "data": {
      "text/plain": [
       "<AxesSubplot:xlabel='age', ylabel='wage'>"
      ]
     },
     "execution_count": 406,
     "metadata": {},
     "output_type": "execute_result"
    },
    {
     "data": {
      "image/png": "[encoded data removed]",
      "text/plain": [
       "<Figure size 432x288 with 1 Axes>"
      ]
     },
     "metadata": {
      "needs_background": "light"
     },
     "output_type": "display_data"
    }
   ],
   "source": [
    "sns.scatterplot(x = \"age\", y = \"wage\", data = wage_data)\n",
    "sns.lineplot(x = wage_data['age'], y = modle.predict(X_poly), color = 'red')"
   ]
  },
  {
   "cell_type": "markdown",
   "id": "35904d78",
   "metadata": {},
   "source": [
    "## 2)  Step Function (30 points)"
   ]
  },
  {
   "cell_type": "markdown",
   "id": "c0df53ec",
   "metadata": {},
   "source": [
    "2a)  Now, fit a step function to the data of wage as a function of age with the following four ranges:\n",
    "  - 18 - 33.5\n",
    "  - 33.5 - 49\n",
    "  - 49 - 64.5\n",
    "  - 64.5 - 80\n",
    "\n",
    "Similar to above, plot this step function predictions line overlaid onto the Seaborn scatterplot created above.\n",
    "\n",
    "Follow the steps laid out below:"
   ]
  },
  {
   "cell_type": "markdown",
   "id": "6c2f9f87",
   "metadata": {},
   "source": [
    "  - Create a dataframe called step_function_data that contains the age, wage, and four boolean \"bin variables\" (b_0, b_1, b_2, b_3) that have a 1 for the bin that observation falls into (and 0 otherwise)"
   ]
  },
  {
   "cell_type": "code",
   "execution_count": 407,
   "id": "042792b5",
   "metadata": {},
   "outputs": [
    {
     "data": {
      "text/html": [
       "<div>\n",
       "<style scoped>\n",
       "    .dataframe tbody tr th:only-of-type {\n",
       "        vertical-align: middle;\n",
       "    }\n",
       "\n",
       "    .dataframe tbody tr th {\n",
       "        vertical-align: top;\n",
       "    }\n",
       "\n",
       "    .dataframe thead th {\n",
       "        text-align: right;\n",
       "    }\n",
       "</style>\n",
       "<table border=\"1\" class=\"dataframe\">\n",
       "  <thead>\n",
       "    <tr style=\"text-align: right;\">\n",
       "      <th></th>\n",
       "      <th>age</th>\n",
       "      <th>wage</th>\n",
       "    </tr>\n",
       "  </thead>\n",
       "  <tbody>\n",
       "    <tr>\n",
       "      <th>0</th>\n",
       "      <td>18</td>\n",
       "      <td>75.043154</td>\n",
       "    </tr>\n",
       "    <tr>\n",
       "      <th>1</th>\n",
       "      <td>24</td>\n",
       "      <td>70.476020</td>\n",
       "    </tr>\n",
       "    <tr>\n",
       "      <th>2</th>\n",
       "      <td>45</td>\n",
       "      <td>130.982177</td>\n",
       "    </tr>\n",
       "    <tr>\n",
       "      <th>3</th>\n",
       "      <td>43</td>\n",
       "      <td>154.685293</td>\n",
       "    </tr>\n",
       "    <tr>\n",
       "      <th>4</th>\n",
       "      <td>50</td>\n",
       "      <td>75.043154</td>\n",
       "    </tr>\n",
       "    <tr>\n",
       "      <th>...</th>\n",
       "      <td>...</td>\n",
       "      <td>...</td>\n",
       "    </tr>\n",
       "    <tr>\n",
       "      <th>2995</th>\n",
       "      <td>44</td>\n",
       "      <td>154.685293</td>\n",
       "    </tr>\n",
       "    <tr>\n",
       "      <th>2996</th>\n",
       "      <td>30</td>\n",
       "      <td>99.689464</td>\n",
       "    </tr>\n",
       "    <tr>\n",
       "      <th>2997</th>\n",
       "      <td>27</td>\n",
       "      <td>66.229408</td>\n",
       "    </tr>\n",
       "    <tr>\n",
       "      <th>2998</th>\n",
       "      <td>27</td>\n",
       "      <td>87.981033</td>\n",
       "    </tr>\n",
       "    <tr>\n",
       "      <th>2999</th>\n",
       "      <td>55</td>\n",
       "      <td>90.481913</td>\n",
       "    </tr>\n",
       "  </tbody>\n",
       "</table>\n",
       "<p>3000 rows × 2 columns</p>\n",
       "</div>"
      ],
      "text/plain": [
       "      age        wage\n",
       "0      18   75.043154\n",
       "1      24   70.476020\n",
       "2      45  130.982177\n",
       "3      43  154.685293\n",
       "4      50   75.043154\n",
       "...   ...         ...\n",
       "2995   44  154.685293\n",
       "2996   30   99.689464\n",
       "2997   27   66.229408\n",
       "2998   27   87.981033\n",
       "2999   55   90.481913\n",
       "\n",
       "[3000 rows x 2 columns]"
      ]
     },
     "execution_count": 407,
     "metadata": {},
     "output_type": "execute_result"
    }
   ],
   "source": [
    "step_function_data=new_data\n",
    "step_function_data"
   ]
  },
  {
   "cell_type": "code",
   "execution_count": 408,
   "id": "ab905903",
   "metadata": {},
   "outputs": [],
   "source": [
    "b_0=[]\n",
    "b_1=[]\n",
    "b_2=[]\n",
    "b_3=[]"
   ]
  },
  {
   "cell_type": "code",
   "execution_count": 409,
   "id": "7e5c823a",
   "metadata": {},
   "outputs": [],
   "source": [
    "for i in step_function_data['age']:\n",
    "    if i >=18 and i <33.5:\n",
    "        b_0.append(1)\n",
    "    else: b_0.append(0)\n",
    "        \n",
    "    if i >=33.5 and i < 49:\n",
    "        b_1.append(1)\n",
    "    else: b_1.append(0)\n",
    "        \n",
    "    if i >=49 and i < 64.5:\n",
    "        b_2.append(1)\n",
    "    else: b_2.append(0)\n",
    "        \n",
    "    if i >= 64.5 and i < 80:\n",
    "        b_3.append(1)   \n",
    "    else: b_3.append(0)"
   ]
  },
  {
   "cell_type": "code",
   "execution_count": 410,
   "id": "54620e1f",
   "metadata": {},
   "outputs": [
    {
     "data": {
      "text/html": [
       "<div>\n",
       "<style scoped>\n",
       "    .dataframe tbody tr th:only-of-type {\n",
       "        vertical-align: middle;\n",
       "    }\n",
       "\n",
       "    .dataframe tbody tr th {\n",
       "        vertical-align: top;\n",
       "    }\n",
       "\n",
       "    .dataframe thead th {\n",
       "        text-align: right;\n",
       "    }\n",
       "</style>\n",
       "<table border=\"1\" class=\"dataframe\">\n",
       "  <thead>\n",
       "    <tr style=\"text-align: right;\">\n",
       "      <th></th>\n",
       "      <th>age</th>\n",
       "      <th>wage</th>\n",
       "      <th>b_0</th>\n",
       "      <th>b_1</th>\n",
       "      <th>b_2</th>\n",
       "      <th>b_3</th>\n",
       "    </tr>\n",
       "  </thead>\n",
       "  <tbody>\n",
       "    <tr>\n",
       "      <th>0</th>\n",
       "      <td>18</td>\n",
       "      <td>75.043154</td>\n",
       "      <td>1</td>\n",
       "      <td>0</td>\n",
       "      <td>0</td>\n",
       "      <td>0</td>\n",
       "    </tr>\n",
       "    <tr>\n",
       "      <th>1</th>\n",
       "      <td>24</td>\n",
       "      <td>70.476020</td>\n",
       "      <td>1</td>\n",
       "      <td>0</td>\n",
       "      <td>0</td>\n",
       "      <td>0</td>\n",
       "    </tr>\n",
       "    <tr>\n",
       "      <th>2</th>\n",
       "      <td>45</td>\n",
       "      <td>130.982177</td>\n",
       "      <td>0</td>\n",
       "      <td>1</td>\n",
       "      <td>0</td>\n",
       "      <td>0</td>\n",
       "    </tr>\n",
       "    <tr>\n",
       "      <th>3</th>\n",
       "      <td>43</td>\n",
       "      <td>154.685293</td>\n",
       "      <td>0</td>\n",
       "      <td>1</td>\n",
       "      <td>0</td>\n",
       "      <td>0</td>\n",
       "    </tr>\n",
       "    <tr>\n",
       "      <th>4</th>\n",
       "      <td>50</td>\n",
       "      <td>75.043154</td>\n",
       "      <td>0</td>\n",
       "      <td>0</td>\n",
       "      <td>1</td>\n",
       "      <td>0</td>\n",
       "    </tr>\n",
       "    <tr>\n",
       "      <th>...</th>\n",
       "      <td>...</td>\n",
       "      <td>...</td>\n",
       "      <td>...</td>\n",
       "      <td>...</td>\n",
       "      <td>...</td>\n",
       "      <td>...</td>\n",
       "    </tr>\n",
       "    <tr>\n",
       "      <th>2995</th>\n",
       "      <td>44</td>\n",
       "      <td>154.685293</td>\n",
       "      <td>0</td>\n",
       "      <td>1</td>\n",
       "      <td>0</td>\n",
       "      <td>0</td>\n",
       "    </tr>\n",
       "    <tr>\n",
       "      <th>2996</th>\n",
       "      <td>30</td>\n",
       "      <td>99.689464</td>\n",
       "      <td>1</td>\n",
       "      <td>0</td>\n",
       "      <td>0</td>\n",
       "      <td>0</td>\n",
       "    </tr>\n",
       "    <tr>\n",
       "      <th>2997</th>\n",
       "      <td>27</td>\n",
       "      <td>66.229408</td>\n",
       "      <td>1</td>\n",
       "      <td>0</td>\n",
       "      <td>0</td>\n",
       "      <td>0</td>\n",
       "    </tr>\n",
       "    <tr>\n",
       "      <th>2998</th>\n",
       "      <td>27</td>\n",
       "      <td>87.981033</td>\n",
       "      <td>1</td>\n",
       "      <td>0</td>\n",
       "      <td>0</td>\n",
       "      <td>0</td>\n",
       "    </tr>\n",
       "    <tr>\n",
       "      <th>2999</th>\n",
       "      <td>55</td>\n",
       "      <td>90.481913</td>\n",
       "      <td>0</td>\n",
       "      <td>0</td>\n",
       "      <td>1</td>\n",
       "      <td>0</td>\n",
       "    </tr>\n",
       "  </tbody>\n",
       "</table>\n",
       "<p>3000 rows × 6 columns</p>\n",
       "</div>"
      ],
      "text/plain": [
       "      age        wage  b_0  b_1  b_2  b_3\n",
       "0      18   75.043154    1    0    0    0\n",
       "1      24   70.476020    1    0    0    0\n",
       "2      45  130.982177    0    1    0    0\n",
       "3      43  154.685293    0    1    0    0\n",
       "4      50   75.043154    0    0    1    0\n",
       "...   ...         ...  ...  ...  ...  ...\n",
       "2995   44  154.685293    0    1    0    0\n",
       "2996   30   99.689464    1    0    0    0\n",
       "2997   27   66.229408    1    0    0    0\n",
       "2998   27   87.981033    1    0    0    0\n",
       "2999   55   90.481913    0    0    1    0\n",
       "\n",
       "[3000 rows x 6 columns]"
      ]
     },
     "execution_count": 410,
     "metadata": {},
     "output_type": "execute_result"
    }
   ],
   "source": [
    "step_function_data['b_0']=b_0\n",
    "step_function_data['b_1']=b_1\n",
    "step_function_data['b_2']=b_2\n",
    "step_function_data['b_3']=b_3\n",
    "step_function_data"
   ]
  },
  {
   "cell_type": "markdown",
   "id": "01e48333",
   "metadata": {},
   "source": [
    "  - Run a GLM to create a regression model for wage based only on the four binary bin variables"
   ]
  },
  {
   "cell_type": "code",
   "execution_count": 411,
   "id": "50fc550d",
   "metadata": {},
   "outputs": [
    {
     "data": {
      "text/html": [
       "<table class=\"simpletable\">\n",
       "<caption>Generalized Linear Model Regression Results</caption>\n",
       "<tr>\n",
       "  <th>Dep. Variable:</th>         <td>wage</td>       <th>  No. Observations:  </th>   <td>  3000</td>  \n",
       "</tr>\n",
       "<tr>\n",
       "  <th>Model:</th>                  <td>GLM</td>       <th>  Df Residuals:      </th>   <td>  2995</td>  \n",
       "</tr>\n",
       "<tr>\n",
       "  <th>Model Family:</th>        <td>Gaussian</td>     <th>  Df Model:          </th>   <td>     4</td>  \n",
       "</tr>\n",
       "<tr>\n",
       "  <th>Link Function:</th>       <td>identity</td>     <th>  Scale:             </th>  <td>  1634.3</td> \n",
       "</tr>\n",
       "<tr>\n",
       "  <th>Method:</th>                <td>IRLS</td>       <th>  Log-Likelihood:    </th>  <td> -15353.</td> \n",
       "</tr>\n",
       "<tr>\n",
       "  <th>Date:</th>            <td>Tue, 23 Nov 2021</td> <th>  Deviance:          </th> <td>4.8948e+06</td>\n",
       "</tr>\n",
       "<tr>\n",
       "  <th>Time:</th>                <td>20:59:51</td>     <th>  Pearson chi2:      </th>  <td>4.89e+06</td> \n",
       "</tr>\n",
       "<tr>\n",
       "  <th>No. Iterations:</th>          <td>3</td>        <th>                     </th>      <td> </td>    \n",
       "</tr>\n",
       "<tr>\n",
       "  <th>Covariance Type:</th>     <td>nonrobust</td>    <th>                     </th>      <td> </td>    \n",
       "</tr>\n",
       "</table>\n",
       "<table class=\"simpletable\">\n",
       "<tr>\n",
       "      <td></td>         <th>coef</th>     <th>std err</th>      <th>z</th>      <th>P>|z|</th>  <th>[0.025</th>    <th>0.975]</th>  \n",
       "</tr>\n",
       "<tr>\n",
       "  <th>Intercept</th> <td>   86.1471</td> <td>   20.213</td> <td>    4.262</td> <td> 0.000</td> <td>   46.530</td> <td>  125.764</td>\n",
       "</tr>\n",
       "<tr>\n",
       "  <th>b_0</th>       <td>    8.0113</td> <td>   20.267</td> <td>    0.395</td> <td> 0.693</td> <td>  -31.712</td> <td>   47.734</td>\n",
       "</tr>\n",
       "<tr>\n",
       "  <th>b_1</th>       <td>   31.9445</td> <td>   20.244</td> <td>    1.578</td> <td> 0.115</td> <td>   -7.733</td> <td>   71.622</td>\n",
       "</tr>\n",
       "<tr>\n",
       "  <th>b_2</th>       <td>   31.8971</td> <td>   20.260</td> <td>    1.574</td> <td> 0.115</td> <td>   -7.812</td> <td>   71.606</td>\n",
       "</tr>\n",
       "<tr>\n",
       "  <th>b_3</th>       <td>   16.5726</td> <td>   20.799</td> <td>    0.797</td> <td> 0.426</td> <td>  -24.193</td> <td>   57.339</td>\n",
       "</tr>\n",
       "</table>"
      ],
      "text/plain": [
       "<class 'statsmodels.iolib.summary.Summary'>\n",
       "\"\"\"\n",
       "                 Generalized Linear Model Regression Results                  \n",
       "==============================================================================\n",
       "Dep. Variable:                   wage   No. Observations:                 3000\n",
       "Model:                            GLM   Df Residuals:                     2995\n",
       "Model Family:                Gaussian   Df Model:                            4\n",
       "Link Function:               identity   Scale:                          1634.3\n",
       "Method:                          IRLS   Log-Likelihood:                -15353.\n",
       "Date:                Tue, 23 Nov 2021   Deviance:                   4.8948e+06\n",
       "Time:                        20:59:51   Pearson chi2:                 4.89e+06\n",
       "No. Iterations:                     3                                         \n",
       "Covariance Type:            nonrobust                                         \n",
       "==============================================================================\n",
       "                 coef    std err          z      P>|z|      [0.025      0.975]\n",
       "------------------------------------------------------------------------------\n",
       "Intercept     86.1471     20.213      4.262      0.000      46.530     125.764\n",
       "b_0            8.0113     20.267      0.395      0.693     -31.712      47.734\n",
       "b_1           31.9445     20.244      1.578      0.115      -7.733      71.622\n",
       "b_2           31.8971     20.260      1.574      0.115      -7.812      71.606\n",
       "b_3           16.5726     20.799      0.797      0.426     -24.193      57.339\n",
       "==============================================================================\n",
       "\"\"\""
      ]
     },
     "execution_count": 411,
     "metadata": {},
     "output_type": "execute_result"
    }
   ],
   "source": [
    "formula = \"wage ~  1 + b_0 + b_1 + b_2 + b_3\"\n",
    "mod = smf.glm(formula=formula, data = step_function_data)\n",
    "res = mod.fit()\n",
    "res.summary()"
   ]
  },
  {
   "cell_type": "markdown",
   "id": "accc5859",
   "metadata": {},
   "source": [
    "  - Create the SNS plot"
   ]
  },
  {
   "cell_type": "code",
   "execution_count": 412,
   "id": "5a9f19e3",
   "metadata": {},
   "outputs": [
    {
     "data": {
      "text/plain": [
       "<AxesSubplot:xlabel='age', ylabel='wage'>"
      ]
     },
     "execution_count": 412,
     "metadata": {},
     "output_type": "execute_result"
    },
    {
     "data": {
      "image/png": "[encoded data removed]",
      "text/plain": [
       "<Figure size 432x288 with 1 Axes>"
      ]
     },
     "metadata": {
      "needs_background": "light"
     },
     "output_type": "display_data"
    }
   ],
   "source": [
    "sns.scatterplot(x = \"age\", y = \"wage\", ci = None, data = new_data)\n",
    "sns.lineplot(x = new_data['age'], y = modle.predict(X_poly), color = 'red')\n",
    "step_function_data['wagehat'] = res.predict(step_function_data)\n",
    "sns.lineplot(x = 'age', y = 'wagehat', data = step_function_data, color = 'Orange')"
   ]
  },
  {
   "cell_type": "markdown",
   "id": "e99fd339",
   "metadata": {},
   "source": [
    "## 3)  Decision Trees (40 points)"
   ]
  },
  {
   "cell_type": "markdown",
   "id": "a59d5603",
   "metadata": {},
   "source": [
    "For this problem, we will be using the Boston housing data to predict housing values (medv) based on several other attributes.  We will use the sklearn tree function for this operation."
   ]
  },
  {
   "cell_type": "markdown",
   "id": "c4da4801",
   "metadata": {},
   "source": [
    "3a)  Read in the Boston.csv file to a dataframe named boston_df.  Create X and y dataframes where y contains the medv variable and X contains everything else."
   ]
  },
  {
   "cell_type": "code",
   "execution_count": 413,
   "id": "5202639a",
   "metadata": {},
   "outputs": [
    {
     "data": {
      "text/html": [
       "<div>\n",
       "<style scoped>\n",
       "    .dataframe tbody tr th:only-of-type {\n",
       "        vertical-align: middle;\n",
       "    }\n",
       "\n",
       "    .dataframe tbody tr th {\n",
       "        vertical-align: top;\n",
       "    }\n",
       "\n",
       "    .dataframe thead th {\n",
       "        text-align: right;\n",
       "    }\n",
       "</style>\n",
       "<table border=\"1\" class=\"dataframe\">\n",
       "  <thead>\n",
       "    <tr style=\"text-align: right;\">\n",
       "      <th></th>\n",
       "      <th>crim</th>\n",
       "      <th>zn</th>\n",
       "      <th>indus</th>\n",
       "      <th>chas</th>\n",
       "      <th>nox</th>\n",
       "      <th>rm</th>\n",
       "      <th>age</th>\n",
       "      <th>dis</th>\n",
       "      <th>rad</th>\n",
       "      <th>tax</th>\n",
       "      <th>ptratio</th>\n",
       "      <th>lstat</th>\n",
       "      <th>medv</th>\n",
       "    </tr>\n",
       "  </thead>\n",
       "  <tbody>\n",
       "    <tr>\n",
       "      <th>0</th>\n",
       "      <td>0.00632</td>\n",
       "      <td>18.0</td>\n",
       "      <td>2.31</td>\n",
       "      <td>0</td>\n",
       "      <td>0.538</td>\n",
       "      <td>6.575</td>\n",
       "      <td>65.2</td>\n",
       "      <td>4.0900</td>\n",
       "      <td>1</td>\n",
       "      <td>296</td>\n",
       "      <td>15.3</td>\n",
       "      <td>4.98</td>\n",
       "      <td>24.0</td>\n",
       "    </tr>\n",
       "    <tr>\n",
       "      <th>1</th>\n",
       "      <td>0.02731</td>\n",
       "      <td>0.0</td>\n",
       "      <td>7.07</td>\n",
       "      <td>0</td>\n",
       "      <td>0.469</td>\n",
       "      <td>6.421</td>\n",
       "      <td>78.9</td>\n",
       "      <td>4.9671</td>\n",
       "      <td>2</td>\n",
       "      <td>242</td>\n",
       "      <td>17.8</td>\n",
       "      <td>9.14</td>\n",
       "      <td>21.6</td>\n",
       "    </tr>\n",
       "    <tr>\n",
       "      <th>2</th>\n",
       "      <td>0.02729</td>\n",
       "      <td>0.0</td>\n",
       "      <td>7.07</td>\n",
       "      <td>0</td>\n",
       "      <td>0.469</td>\n",
       "      <td>7.185</td>\n",
       "      <td>61.1</td>\n",
       "      <td>4.9671</td>\n",
       "      <td>2</td>\n",
       "      <td>242</td>\n",
       "      <td>17.8</td>\n",
       "      <td>4.03</td>\n",
       "      <td>34.7</td>\n",
       "    </tr>\n",
       "    <tr>\n",
       "      <th>3</th>\n",
       "      <td>0.03237</td>\n",
       "      <td>0.0</td>\n",
       "      <td>2.18</td>\n",
       "      <td>0</td>\n",
       "      <td>0.458</td>\n",
       "      <td>6.998</td>\n",
       "      <td>45.8</td>\n",
       "      <td>6.0622</td>\n",
       "      <td>3</td>\n",
       "      <td>222</td>\n",
       "      <td>18.7</td>\n",
       "      <td>2.94</td>\n",
       "      <td>33.4</td>\n",
       "    </tr>\n",
       "    <tr>\n",
       "      <th>4</th>\n",
       "      <td>0.06905</td>\n",
       "      <td>0.0</td>\n",
       "      <td>2.18</td>\n",
       "      <td>0</td>\n",
       "      <td>0.458</td>\n",
       "      <td>7.147</td>\n",
       "      <td>54.2</td>\n",
       "      <td>6.0622</td>\n",
       "      <td>3</td>\n",
       "      <td>222</td>\n",
       "      <td>18.7</td>\n",
       "      <td>5.33</td>\n",
       "      <td>36.2</td>\n",
       "    </tr>\n",
       "    <tr>\n",
       "      <th>...</th>\n",
       "      <td>...</td>\n",
       "      <td>...</td>\n",
       "      <td>...</td>\n",
       "      <td>...</td>\n",
       "      <td>...</td>\n",
       "      <td>...</td>\n",
       "      <td>...</td>\n",
       "      <td>...</td>\n",
       "      <td>...</td>\n",
       "      <td>...</td>\n",
       "      <td>...</td>\n",
       "      <td>...</td>\n",
       "      <td>...</td>\n",
       "    </tr>\n",
       "    <tr>\n",
       "      <th>501</th>\n",
       "      <td>0.06263</td>\n",
       "      <td>0.0</td>\n",
       "      <td>11.93</td>\n",
       "      <td>0</td>\n",
       "      <td>0.573</td>\n",
       "      <td>6.593</td>\n",
       "      <td>69.1</td>\n",
       "      <td>2.4786</td>\n",
       "      <td>1</td>\n",
       "      <td>273</td>\n",
       "      <td>21.0</td>\n",
       "      <td>9.67</td>\n",
       "      <td>22.4</td>\n",
       "    </tr>\n",
       "    <tr>\n",
       "      <th>502</th>\n",
       "      <td>0.04527</td>\n",
       "      <td>0.0</td>\n",
       "      <td>11.93</td>\n",
       "      <td>0</td>\n",
       "      <td>0.573</td>\n",
       "      <td>6.120</td>\n",
       "      <td>76.7</td>\n",
       "      <td>2.2875</td>\n",
       "      <td>1</td>\n",
       "      <td>273</td>\n",
       "      <td>21.0</td>\n",
       "      <td>9.08</td>\n",
       "      <td>20.6</td>\n",
       "    </tr>\n",
       "    <tr>\n",
       "      <th>503</th>\n",
       "      <td>0.06076</td>\n",
       "      <td>0.0</td>\n",
       "      <td>11.93</td>\n",
       "      <td>0</td>\n",
       "      <td>0.573</td>\n",
       "      <td>6.976</td>\n",
       "      <td>91.0</td>\n",
       "      <td>2.1675</td>\n",
       "      <td>1</td>\n",
       "      <td>273</td>\n",
       "      <td>21.0</td>\n",
       "      <td>5.64</td>\n",
       "      <td>23.9</td>\n",
       "    </tr>\n",
       "    <tr>\n",
       "      <th>504</th>\n",
       "      <td>0.10959</td>\n",
       "      <td>0.0</td>\n",
       "      <td>11.93</td>\n",
       "      <td>0</td>\n",
       "      <td>0.573</td>\n",
       "      <td>6.794</td>\n",
       "      <td>89.3</td>\n",
       "      <td>2.3889</td>\n",
       "      <td>1</td>\n",
       "      <td>273</td>\n",
       "      <td>21.0</td>\n",
       "      <td>6.48</td>\n",
       "      <td>22.0</td>\n",
       "    </tr>\n",
       "    <tr>\n",
       "      <th>505</th>\n",
       "      <td>0.04741</td>\n",
       "      <td>0.0</td>\n",
       "      <td>11.93</td>\n",
       "      <td>0</td>\n",
       "      <td>0.573</td>\n",
       "      <td>6.030</td>\n",
       "      <td>80.8</td>\n",
       "      <td>2.5050</td>\n",
       "      <td>1</td>\n",
       "      <td>273</td>\n",
       "      <td>21.0</td>\n",
       "      <td>7.88</td>\n",
       "      <td>11.9</td>\n",
       "    </tr>\n",
       "  </tbody>\n",
       "</table>\n",
       "<p>506 rows × 13 columns</p>\n",
       "</div>"
      ],
      "text/plain": [
       "        crim    zn  indus  chas    nox     rm   age     dis  rad  tax  \\\n",
       "0    0.00632  18.0   2.31     0  0.538  6.575  65.2  4.0900    1  296   \n",
       "1    0.02731   0.0   7.07     0  0.469  6.421  78.9  4.9671    2  242   \n",
       "2    0.02729   0.0   7.07     0  0.469  7.185  61.1  4.9671    2  242   \n",
       "3    0.03237   0.0   2.18     0  0.458  6.998  45.8  6.0622    3  222   \n",
       "4    0.06905   0.0   2.18     0  0.458  7.147  54.2  6.0622    3  222   \n",
       "..       ...   ...    ...   ...    ...    ...   ...     ...  ...  ...   \n",
       "501  0.06263   0.0  11.93     0  0.573  6.593  69.1  2.4786    1  273   \n",
       "502  0.04527   0.0  11.93     0  0.573  6.120  76.7  2.2875    1  273   \n",
       "503  0.06076   0.0  11.93     0  0.573  6.976  91.0  2.1675    1  273   \n",
       "504  0.10959   0.0  11.93     0  0.573  6.794  89.3  2.3889    1  273   \n",
       "505  0.04741   0.0  11.93     0  0.573  6.030  80.8  2.5050    1  273   \n",
       "\n",
       "     ptratio  lstat  medv  \n",
       "0       15.3   4.98  24.0  \n",
       "1       17.8   9.14  21.6  \n",
       "2       17.8   4.03  34.7  \n",
       "3       18.7   2.94  33.4  \n",
       "4       18.7   5.33  36.2  \n",
       "..       ...    ...   ...  \n",
       "501     21.0   9.67  22.4  \n",
       "502     21.0   9.08  20.6  \n",
       "503     21.0   5.64  23.9  \n",
       "504     21.0   6.48  22.0  \n",
       "505     21.0   7.88  11.9  \n",
       "\n",
       "[506 rows x 13 columns]"
      ]
     },
     "execution_count": 413,
     "metadata": {},
     "output_type": "execute_result"
    }
   ],
   "source": [
    "Boston=pd.read_csv('Boston.csv ')\n",
    "Boston"
   ]
  },
  {
   "cell_type": "code",
   "execution_count": 414,
   "id": "37f5367f",
   "metadata": {},
   "outputs": [
    {
     "data": {
      "text/html": [
       "<div>\n",
       "<style scoped>\n",
       "    .dataframe tbody tr th:only-of-type {\n",
       "        vertical-align: middle;\n",
       "    }\n",
       "\n",
       "    .dataframe tbody tr th {\n",
       "        vertical-align: top;\n",
       "    }\n",
       "\n",
       "    .dataframe thead th {\n",
       "        text-align: right;\n",
       "    }\n",
       "</style>\n",
       "<table border=\"1\" class=\"dataframe\">\n",
       "  <thead>\n",
       "    <tr style=\"text-align: right;\">\n",
       "      <th></th>\n",
       "      <th>crim</th>\n",
       "      <th>zn</th>\n",
       "      <th>indus</th>\n",
       "      <th>chas</th>\n",
       "      <th>nox</th>\n",
       "      <th>rm</th>\n",
       "      <th>age</th>\n",
       "      <th>dis</th>\n",
       "      <th>rad</th>\n",
       "      <th>tax</th>\n",
       "      <th>ptratio</th>\n",
       "      <th>lstat</th>\n",
       "    </tr>\n",
       "  </thead>\n",
       "  <tbody>\n",
       "    <tr>\n",
       "      <th>0</th>\n",
       "      <td>0.00632</td>\n",
       "      <td>18.0</td>\n",
       "      <td>2.31</td>\n",
       "      <td>0</td>\n",
       "      <td>0.538</td>\n",
       "      <td>6.575</td>\n",
       "      <td>65.2</td>\n",
       "      <td>4.0900</td>\n",
       "      <td>1</td>\n",
       "      <td>296</td>\n",
       "      <td>15.3</td>\n",
       "      <td>4.98</td>\n",
       "    </tr>\n",
       "    <tr>\n",
       "      <th>1</th>\n",
       "      <td>0.02731</td>\n",
       "      <td>0.0</td>\n",
       "      <td>7.07</td>\n",
       "      <td>0</td>\n",
       "      <td>0.469</td>\n",
       "      <td>6.421</td>\n",
       "      <td>78.9</td>\n",
       "      <td>4.9671</td>\n",
       "      <td>2</td>\n",
       "      <td>242</td>\n",
       "      <td>17.8</td>\n",
       "      <td>9.14</td>\n",
       "    </tr>\n",
       "    <tr>\n",
       "      <th>2</th>\n",
       "      <td>0.02729</td>\n",
       "      <td>0.0</td>\n",
       "      <td>7.07</td>\n",
       "      <td>0</td>\n",
       "      <td>0.469</td>\n",
       "      <td>7.185</td>\n",
       "      <td>61.1</td>\n",
       "      <td>4.9671</td>\n",
       "      <td>2</td>\n",
       "      <td>242</td>\n",
       "      <td>17.8</td>\n",
       "      <td>4.03</td>\n",
       "    </tr>\n",
       "    <tr>\n",
       "      <th>3</th>\n",
       "      <td>0.03237</td>\n",
       "      <td>0.0</td>\n",
       "      <td>2.18</td>\n",
       "      <td>0</td>\n",
       "      <td>0.458</td>\n",
       "      <td>6.998</td>\n",
       "      <td>45.8</td>\n",
       "      <td>6.0622</td>\n",
       "      <td>3</td>\n",
       "      <td>222</td>\n",
       "      <td>18.7</td>\n",
       "      <td>2.94</td>\n",
       "    </tr>\n",
       "    <tr>\n",
       "      <th>4</th>\n",
       "      <td>0.06905</td>\n",
       "      <td>0.0</td>\n",
       "      <td>2.18</td>\n",
       "      <td>0</td>\n",
       "      <td>0.458</td>\n",
       "      <td>7.147</td>\n",
       "      <td>54.2</td>\n",
       "      <td>6.0622</td>\n",
       "      <td>3</td>\n",
       "      <td>222</td>\n",
       "      <td>18.7</td>\n",
       "      <td>5.33</td>\n",
       "    </tr>\n",
       "    <tr>\n",
       "      <th>...</th>\n",
       "      <td>...</td>\n",
       "      <td>...</td>\n",
       "      <td>...</td>\n",
       "      <td>...</td>\n",
       "      <td>...</td>\n",
       "      <td>...</td>\n",
       "      <td>...</td>\n",
       "      <td>...</td>\n",
       "      <td>...</td>\n",
       "      <td>...</td>\n",
       "      <td>...</td>\n",
       "      <td>...</td>\n",
       "    </tr>\n",
       "    <tr>\n",
       "      <th>501</th>\n",
       "      <td>0.06263</td>\n",
       "      <td>0.0</td>\n",
       "      <td>11.93</td>\n",
       "      <td>0</td>\n",
       "      <td>0.573</td>\n",
       "      <td>6.593</td>\n",
       "      <td>69.1</td>\n",
       "      <td>2.4786</td>\n",
       "      <td>1</td>\n",
       "      <td>273</td>\n",
       "      <td>21.0</td>\n",
       "      <td>9.67</td>\n",
       "    </tr>\n",
       "    <tr>\n",
       "      <th>502</th>\n",
       "      <td>0.04527</td>\n",
       "      <td>0.0</td>\n",
       "      <td>11.93</td>\n",
       "      <td>0</td>\n",
       "      <td>0.573</td>\n",
       "      <td>6.120</td>\n",
       "      <td>76.7</td>\n",
       "      <td>2.2875</td>\n",
       "      <td>1</td>\n",
       "      <td>273</td>\n",
       "      <td>21.0</td>\n",
       "      <td>9.08</td>\n",
       "    </tr>\n",
       "    <tr>\n",
       "      <th>503</th>\n",
       "      <td>0.06076</td>\n",
       "      <td>0.0</td>\n",
       "      <td>11.93</td>\n",
       "      <td>0</td>\n",
       "      <td>0.573</td>\n",
       "      <td>6.976</td>\n",
       "      <td>91.0</td>\n",
       "      <td>2.1675</td>\n",
       "      <td>1</td>\n",
       "      <td>273</td>\n",
       "      <td>21.0</td>\n",
       "      <td>5.64</td>\n",
       "    </tr>\n",
       "    <tr>\n",
       "      <th>504</th>\n",
       "      <td>0.10959</td>\n",
       "      <td>0.0</td>\n",
       "      <td>11.93</td>\n",
       "      <td>0</td>\n",
       "      <td>0.573</td>\n",
       "      <td>6.794</td>\n",
       "      <td>89.3</td>\n",
       "      <td>2.3889</td>\n",
       "      <td>1</td>\n",
       "      <td>273</td>\n",
       "      <td>21.0</td>\n",
       "      <td>6.48</td>\n",
       "    </tr>\n",
       "    <tr>\n",
       "      <th>505</th>\n",
       "      <td>0.04741</td>\n",
       "      <td>0.0</td>\n",
       "      <td>11.93</td>\n",
       "      <td>0</td>\n",
       "      <td>0.573</td>\n",
       "      <td>6.030</td>\n",
       "      <td>80.8</td>\n",
       "      <td>2.5050</td>\n",
       "      <td>1</td>\n",
       "      <td>273</td>\n",
       "      <td>21.0</td>\n",
       "      <td>7.88</td>\n",
       "    </tr>\n",
       "  </tbody>\n",
       "</table>\n",
       "<p>506 rows × 12 columns</p>\n",
       "</div>"
      ],
      "text/plain": [
       "        crim    zn  indus  chas    nox     rm   age     dis  rad  tax  \\\n",
       "0    0.00632  18.0   2.31     0  0.538  6.575  65.2  4.0900    1  296   \n",
       "1    0.02731   0.0   7.07     0  0.469  6.421  78.9  4.9671    2  242   \n",
       "2    0.02729   0.0   7.07     0  0.469  7.185  61.1  4.9671    2  242   \n",
       "3    0.03237   0.0   2.18     0  0.458  6.998  45.8  6.0622    3  222   \n",
       "4    0.06905   0.0   2.18     0  0.458  7.147  54.2  6.0622    3  222   \n",
       "..       ...   ...    ...   ...    ...    ...   ...     ...  ...  ...   \n",
       "501  0.06263   0.0  11.93     0  0.573  6.593  69.1  2.4786    1  273   \n",
       "502  0.04527   0.0  11.93     0  0.573  6.120  76.7  2.2875    1  273   \n",
       "503  0.06076   0.0  11.93     0  0.573  6.976  91.0  2.1675    1  273   \n",
       "504  0.10959   0.0  11.93     0  0.573  6.794  89.3  2.3889    1  273   \n",
       "505  0.04741   0.0  11.93     0  0.573  6.030  80.8  2.5050    1  273   \n",
       "\n",
       "     ptratio  lstat  \n",
       "0       15.3   4.98  \n",
       "1       17.8   9.14  \n",
       "2       17.8   4.03  \n",
       "3       18.7   2.94  \n",
       "4       18.7   5.33  \n",
       "..       ...    ...  \n",
       "501     21.0   9.67  \n",
       "502     21.0   9.08  \n",
       "503     21.0   5.64  \n",
       "504     21.0   6.48  \n",
       "505     21.0   7.88  \n",
       "\n",
       "[506 rows x 12 columns]"
      ]
     },
     "execution_count": 414,
     "metadata": {},
     "output_type": "execute_result"
    }
   ],
   "source": [
    "X=Boston.drop(columns=['medv'])\n",
    "X"
   ]
  },
  {
   "cell_type": "code",
   "execution_count": 415,
   "id": "ee567594",
   "metadata": {},
   "outputs": [
    {
     "data": {
      "text/plain": [
       "0      24.0\n",
       "1      21.6\n",
       "2      34.7\n",
       "3      33.4\n",
       "4      36.2\n",
       "       ... \n",
       "501    22.4\n",
       "502    20.6\n",
       "503    23.9\n",
       "504    22.0\n",
       "505    11.9\n",
       "Name: medv, Length: 506, dtype: float64"
      ]
     },
     "execution_count": 415,
     "metadata": {},
     "output_type": "execute_result"
    }
   ],
   "source": [
    "y=Boston['medv']\n",
    "y"
   ]
  },
  {
   "cell_type": "markdown",
   "id": "b4f790c6",
   "metadata": {},
   "source": [
    "3b)  Split the data into training and test partition with train_size = 0.5 and random_state = 0.  Use the sklearn DecisionTreeRegressor function to create and print a decision tree with max_depth = 2 using the training data."
   ]
  },
  {
   "cell_type": "code",
   "execution_count": 416,
   "id": "3d62233c",
   "metadata": {},
   "outputs": [],
   "source": [
    "X_train, X_test, y_train, y_test  = train_test_split(X,y, test_size = 0.5, random_state = 0)"
   ]
  },
  {
   "cell_type": "code",
   "execution_count": 417,
   "id": "11ac3ee8",
   "metadata": {},
   "outputs": [
    {
     "data": {
      "text/plain": [
       "[Text(167.4, 181.2, 'lstat <= 7.81\\nmse = 92.491\\nsamples = 253\\nvalue = 23.049'),\n",
       " Text(83.7, 108.72, 'rm <= 7.435\\nmse = 84.345\\nsamples = 86\\nvalue = 32.492'),\n",
       " Text(41.85, 36.23999999999998, 'mse = 41.903\\nsamples = 68\\nvalue = 28.978'),\n",
       " Text(125.55000000000001, 36.23999999999998, 'mse = 21.812\\nsamples = 18\\nvalue = 45.767'),\n",
       " Text(251.10000000000002, 108.72, 'lstat <= 15.0\\nmse = 27.121\\nsamples = 167\\nvalue = 18.186'),\n",
       " Text(209.25, 36.23999999999998, 'mse = 12.255\\nsamples = 87\\nvalue = 21.566'),\n",
       " Text(292.95, 36.23999999999998, 'mse = 17.363\\nsamples = 80\\nvalue = 14.511')]"
      ]
     },
     "execution_count": 417,
     "metadata": {},
     "output_type": "execute_result"
    },
    {
     "data": {
      "image/png": "[encoded data removed]",
      "text/plain": [
       "<Figure size 432x288 with 1 Axes>"
      ]
     },
     "metadata": {
      "needs_background": "light"
     },
     "output_type": "display_data"
    }
   ],
   "source": [
    "model_2= DecisionTreeRegressor(max_depth = 2)\n",
    "tree_res= model_2.fit(X_train,y_train)\n",
    "tree.plot_tree(tree_res,feature_names = X_train.columns)"
   ]
  },
  {
   "cell_type": "markdown",
   "id": "fb4b3194",
   "metadata": {},
   "source": [
    "3c)  By visually inspecting the tree, what would be the predicted house value for a house with lsat=7 and rm = 8?"
   ]
  },
  {
   "cell_type": "markdown",
   "id": "959d566a",
   "metadata": {},
   "source": [
    "  - 45.767"
   ]
  },
  {
   "cell_type": "markdown",
   "id": "63b340f3",
   "metadata": {},
   "source": [
    "3d)  Using the test partition, calculate the mean squared prediction error"
   ]
  },
  {
   "cell_type": "code",
   "execution_count": 418,
   "id": "90615ba7",
   "metadata": {},
   "outputs": [
    {
     "data": {
      "text/plain": [
       "28.80154486445795"
      ]
     },
     "execution_count": 418,
     "metadata": {},
     "output_type": "execute_result"
    }
   ],
   "source": [
    "mean_squared_error(y_test,tree_res.predict(X_test))"
   ]
  },
  {
   "cell_type": "markdown",
   "id": "2194adda",
   "metadata": {},
   "source": [
    "3e) Now, create a similar decision tree with a maximum number of levels of 4 and calculate its mean squared prediction error"
   ]
  },
  {
   "cell_type": "code",
   "execution_count": 419,
   "id": "08c93ea7",
   "metadata": {},
   "outputs": [
    {
     "data": {
      "text/plain": [
       "23.81737151382862"
      ]
     },
     "execution_count": 419,
     "metadata": {},
     "output_type": "execute_result"
    }
   ],
   "source": [
    "def decision_tree(k):\n",
    "    model_3= DecisionTreeRegressor(max_depth = k)\n",
    "    tree_res= model_3.fit(X_train,y_train)\n",
    "    return mean_squared_error(y_test,tree_res.predict(X_test))\n",
    "decision_tree(4)"
   ]
  },
  {
   "cell_type": "markdown",
   "id": "2f6c45b1",
   "metadata": {},
   "source": [
    "3f)  Create and display a dataframe showing the Mean Square Prediction Error for tree sizes from 2 to 20"
   ]
  },
  {
   "cell_type": "code",
   "execution_count": 420,
   "id": "f9f1276d",
   "metadata": {},
   "outputs": [
    {
     "data": {
      "text/html": [
       "<div>\n",
       "<style scoped>\n",
       "    .dataframe tbody tr th:only-of-type {\n",
       "        vertical-align: middle;\n",
       "    }\n",
       "\n",
       "    .dataframe tbody tr th {\n",
       "        vertical-align: top;\n",
       "    }\n",
       "\n",
       "    .dataframe thead th {\n",
       "        text-align: right;\n",
       "    }\n",
       "</style>\n",
       "<table border=\"1\" class=\"dataframe\">\n",
       "  <thead>\n",
       "    <tr style=\"text-align: right;\">\n",
       "      <th></th>\n",
       "      <th>0</th>\n",
       "      <th>Tree Size</th>\n",
       "    </tr>\n",
       "  </thead>\n",
       "  <tbody>\n",
       "    <tr>\n",
       "      <th>0</th>\n",
       "      <td>28.801545</td>\n",
       "      <td>2</td>\n",
       "    </tr>\n",
       "    <tr>\n",
       "      <th>1</th>\n",
       "      <td>26.023231</td>\n",
       "      <td>3</td>\n",
       "    </tr>\n",
       "    <tr>\n",
       "      <th>2</th>\n",
       "      <td>23.585130</td>\n",
       "      <td>4</td>\n",
       "    </tr>\n",
       "    <tr>\n",
       "      <th>3</th>\n",
       "      <td>24.249861</td>\n",
       "      <td>5</td>\n",
       "    </tr>\n",
       "    <tr>\n",
       "      <th>4</th>\n",
       "      <td>24.247970</td>\n",
       "      <td>6</td>\n",
       "    </tr>\n",
       "    <tr>\n",
       "      <th>5</th>\n",
       "      <td>23.638059</td>\n",
       "      <td>7</td>\n",
       "    </tr>\n",
       "    <tr>\n",
       "      <th>6</th>\n",
       "      <td>23.895897</td>\n",
       "      <td>8</td>\n",
       "    </tr>\n",
       "    <tr>\n",
       "      <th>7</th>\n",
       "      <td>27.143469</td>\n",
       "      <td>9</td>\n",
       "    </tr>\n",
       "    <tr>\n",
       "      <th>8</th>\n",
       "      <td>25.270348</td>\n",
       "      <td>10</td>\n",
       "    </tr>\n",
       "    <tr>\n",
       "      <th>9</th>\n",
       "      <td>27.320926</td>\n",
       "      <td>11</td>\n",
       "    </tr>\n",
       "    <tr>\n",
       "      <th>10</th>\n",
       "      <td>26.955660</td>\n",
       "      <td>12</td>\n",
       "    </tr>\n",
       "    <tr>\n",
       "      <th>11</th>\n",
       "      <td>25.059822</td>\n",
       "      <td>13</td>\n",
       "    </tr>\n",
       "    <tr>\n",
       "      <th>12</th>\n",
       "      <td>26.906700</td>\n",
       "      <td>14</td>\n",
       "    </tr>\n",
       "    <tr>\n",
       "      <th>13</th>\n",
       "      <td>27.829995</td>\n",
       "      <td>15</td>\n",
       "    </tr>\n",
       "    <tr>\n",
       "      <th>14</th>\n",
       "      <td>26.223192</td>\n",
       "      <td>16</td>\n",
       "    </tr>\n",
       "    <tr>\n",
       "      <th>15</th>\n",
       "      <td>26.204032</td>\n",
       "      <td>17</td>\n",
       "    </tr>\n",
       "    <tr>\n",
       "      <th>16</th>\n",
       "      <td>26.174269</td>\n",
       "      <td>18</td>\n",
       "    </tr>\n",
       "    <tr>\n",
       "      <th>17</th>\n",
       "      <td>25.892846</td>\n",
       "      <td>19</td>\n",
       "    </tr>\n",
       "    <tr>\n",
       "      <th>18</th>\n",
       "      <td>26.594980</td>\n",
       "      <td>20</td>\n",
       "    </tr>\n",
       "  </tbody>\n",
       "</table>\n",
       "</div>"
      ],
      "text/plain": [
       "            0  Tree Size\n",
       "0   28.801545          2\n",
       "1   26.023231          3\n",
       "2   23.585130          4\n",
       "3   24.249861          5\n",
       "4   24.247970          6\n",
       "5   23.638059          7\n",
       "6   23.895897          8\n",
       "7   27.143469          9\n",
       "8   25.270348         10\n",
       "9   27.320926         11\n",
       "10  26.955660         12\n",
       "11  25.059822         13\n",
       "12  26.906700         14\n",
       "13  27.829995         15\n",
       "14  26.223192         16\n",
       "15  26.204032         17\n",
       "16  26.174269         18\n",
       "17  25.892846         19\n",
       "18  26.594980         20"
      ]
     },
     "execution_count": 420,
     "metadata": {},
     "output_type": "execute_result"
    }
   ],
   "source": [
    "Mean_Square_1=[]\n",
    "for i in list(range(2,21,1)):\n",
    "    Mean_Square_1.append(decision_tree(i))\n",
    "Mean_Square_1=pd.DataFrame(Mean_Square_1)\n",
    "Mean_Square_1['Tree Size']= list(range(2,21,1))\n",
    "Mean_Square_1"
   ]
  },
  {
   "cell_type": "markdown",
   "id": "ae9b985c",
   "metadata": {},
   "source": [
    "3g)  For the tree with max_depth = 4, create a scatterplot showing the actual medv on the x-axis and the predicted medv on the y-axis"
   ]
  },
  {
   "cell_type": "code",
   "execution_count": 421,
   "id": "c98285ef",
   "metadata": {},
   "outputs": [],
   "source": [
    "def predict(k):\n",
    "    model_4 = DecisionTreeRegressor(max_depth = k)\n",
    "    res = model_4.fit(X_train,y_train)\n",
    "    predict = res.predict(X_test)\n",
    "    return predict"
   ]
  },
  {
   "cell_type": "code",
   "execution_count": 422,
   "id": "06e364e5",
   "metadata": {},
   "outputs": [],
   "source": [
    "medv_pre = pd.DataFrame(columns = ['medv','predicted medv'])\n",
    "medv_pre['medv'] = y_test"
   ]
  },
  {
   "cell_type": "code",
   "execution_count": 423,
   "id": "e2754c79",
   "metadata": {},
   "outputs": [
    {
     "data": {
      "text/plain": [
       "<AxesSubplot:xlabel='medv', ylabel='Predicted medv'>"
      ]
     },
     "execution_count": 423,
     "metadata": {},
     "output_type": "execute_result"
    },
    {
     "data": {
      "image/png": "[encoded data removed]",
      "text/plain": [
       "<Figure size 432x288 with 1 Axes>"
      ]
     },
     "metadata": {
      "needs_background": "light"
     },
     "output_type": "display_data"
    }
   ],
   "source": [
    "medv_pre['Predicted medv'] = predict(4)\n",
    "sns.scatterplot(x = 'medv', y = 'Predicted medv', \n",
    "                data = medv_pre)"
   ]
  },
  {
   "cell_type": "markdown",
   "id": "836aa580",
   "metadata": {},
   "source": [
    "3h)  For the tree with max_depth = 20, create a scatterplot showing the actual medv on the x-axis and the predicted medv on the y-axis"
   ]
  },
  {
   "cell_type": "code",
   "execution_count": 424,
   "id": "80aecec1",
   "metadata": {},
   "outputs": [
    {
     "data": {
      "text/plain": [
       "<AxesSubplot:xlabel='medv', ylabel='Predicted medv'>"
      ]
     },
     "execution_count": 424,
     "metadata": {},
     "output_type": "execute_result"
    },
    {
     "data": {
      "image/png": "[encoded data removed]",
      "text/plain": [
       "<Figure size 432x288 with 1 Axes>"
      ]
     },
     "metadata": {
      "needs_background": "light"
     },
     "output_type": "display_data"
    }
   ],
   "source": [
    "medv_pre['Predicted medv'] = predict(20)\n",
    "sns.scatterplot(x = 'medv', y = 'Predicted medv', \n",
    "                data = medv_pre)"
   ]
  },
  {
   "cell_type": "markdown",
   "id": "41aaca99",
   "metadata": {},
   "source": [
    "3i)  For the tree with max_depth=20, what feature is the most significant in influencing the prediction?"
   ]
  },
  {
   "cell_type": "code",
   "execution_count": 425,
   "id": "023ef396",
   "metadata": {},
   "outputs": [
    {
     "data": {
      "text/plain": [
       "DecisionTreeRegressor(max_depth=20)"
      ]
     },
     "execution_count": 425,
     "metadata": {},
     "output_type": "execute_result"
    }
   ],
   "source": [
    "model_5 = DecisionTreeRegressor(max_depth = 20)\n",
    "model_5.fit(X_train,y_train)"
   ]
  },
  {
   "cell_type": "code",
   "execution_count": 426,
   "id": "ccc50b23",
   "metadata": {},
   "outputs": [
    {
     "data": {
      "text/html": [
       "<div>\n",
       "<style scoped>\n",
       "    .dataframe tbody tr th:only-of-type {\n",
       "        vertical-align: middle;\n",
       "    }\n",
       "\n",
       "    .dataframe tbody tr th {\n",
       "        vertical-align: top;\n",
       "    }\n",
       "\n",
       "    .dataframe thead th {\n",
       "        text-align: right;\n",
       "    }\n",
       "</style>\n",
       "<table border=\"1\" class=\"dataframe\">\n",
       "  <thead>\n",
       "    <tr style=\"text-align: right;\">\n",
       "      <th></th>\n",
       "      <th>Significant</th>\n",
       "      <th>Feature</th>\n",
       "    </tr>\n",
       "  </thead>\n",
       "  <tbody>\n",
       "    <tr>\n",
       "      <th>0</th>\n",
       "      <td>0.014224</td>\n",
       "      <td>crim</td>\n",
       "    </tr>\n",
       "    <tr>\n",
       "      <th>1</th>\n",
       "      <td>0.001544</td>\n",
       "      <td>zn</td>\n",
       "    </tr>\n",
       "    <tr>\n",
       "      <th>2</th>\n",
       "      <td>0.006130</td>\n",
       "      <td>indus</td>\n",
       "    </tr>\n",
       "    <tr>\n",
       "      <th>3</th>\n",
       "      <td>0.000005</td>\n",
       "      <td>chas</td>\n",
       "    </tr>\n",
       "    <tr>\n",
       "      <th>4</th>\n",
       "      <td>0.002450</td>\n",
       "      <td>nox</td>\n",
       "    </tr>\n",
       "    <tr>\n",
       "      <th>5</th>\n",
       "      <td>0.232211</td>\n",
       "      <td>rm</td>\n",
       "    </tr>\n",
       "    <tr>\n",
       "      <th>6</th>\n",
       "      <td>0.015712</td>\n",
       "      <td>age</td>\n",
       "    </tr>\n",
       "    <tr>\n",
       "      <th>7</th>\n",
       "      <td>0.087144</td>\n",
       "      <td>dis</td>\n",
       "    </tr>\n",
       "    <tr>\n",
       "      <th>8</th>\n",
       "      <td>0.006429</td>\n",
       "      <td>rad</td>\n",
       "    </tr>\n",
       "    <tr>\n",
       "      <th>9</th>\n",
       "      <td>0.017702</td>\n",
       "      <td>tax</td>\n",
       "    </tr>\n",
       "    <tr>\n",
       "      <th>10</th>\n",
       "      <td>0.023537</td>\n",
       "      <td>ptratio</td>\n",
       "    </tr>\n",
       "    <tr>\n",
       "      <th>11</th>\n",
       "      <td>0.592912</td>\n",
       "      <td>lstat</td>\n",
       "    </tr>\n",
       "  </tbody>\n",
       "</table>\n",
       "</div>"
      ],
      "text/plain": [
       "    Significant  Feature\n",
       "0      0.014224     crim\n",
       "1      0.001544       zn\n",
       "2      0.006130    indus\n",
       "3      0.000005     chas\n",
       "4      0.002450      nox\n",
       "5      0.232211       rm\n",
       "6      0.015712      age\n",
       "7      0.087144      dis\n",
       "8      0.006429      rad\n",
       "9      0.017702      tax\n",
       "10     0.023537  ptratio\n",
       "11     0.592912    lstat"
      ]
     },
     "execution_count": 426,
     "metadata": {},
     "output_type": "execute_result"
    }
   ],
   "source": [
    "final_data = pd.DataFrame(columns = ['Significant','Feature'])\n",
    "final_data['Significant'] = model_5.feature_importances_\n",
    "final_data['Feature'] = Boston.columns[:-1]\n",
    "final_data"
   ]
  },
  {
   "cell_type": "code",
   "execution_count": 427,
   "id": "260c411a",
   "metadata": {},
   "outputs": [
    {
     "data": {
      "text/plain": [
       "0.592912187941423"
      ]
     },
     "execution_count": 427,
     "metadata": {},
     "output_type": "execute_result"
    }
   ],
   "source": [
    "a=model_5.feature_importances_.max()\n",
    "a"
   ]
  },
  {
   "cell_type": "code",
   "execution_count": 428,
   "id": "f4320721",
   "metadata": {},
   "outputs": [
    {
     "data": {
      "text/plain": [
       "0     False\n",
       "1     False\n",
       "2     False\n",
       "3     False\n",
       "4     False\n",
       "5     False\n",
       "6     False\n",
       "7     False\n",
       "8     False\n",
       "9     False\n",
       "10    False\n",
       "11     True\n",
       "Name: Significant, dtype: bool"
      ]
     },
     "execution_count": 428,
     "metadata": {},
     "output_type": "execute_result"
    }
   ],
   "source": [
    "final_data['Significant']==a"
   ]
  },
  {
   "cell_type": "markdown",
   "id": "07c94481",
   "metadata": {},
   "source": [
    "  - lstat"
   ]
  },
  {
   "cell_type": "code",
   "execution_count": null,
   "id": "ecf44c6f",
   "metadata": {},
   "outputs": [],
   "source": []
  }
 ],
 "metadata": {
  "kernelspec": {
   "display_name": "Python 3",
   "language": "python",
   "name": "python3"
  },
  "language_info": {
   "codemirror_mode": {
    "name": "ipython",
    "version": 3
   },
   "file_extension": ".py",
   "mimetype": "text/x-python",
   "name": "python",
   "nbconvert_exporter": "python",
   "pygments_lexer": "ipython3",
   "version": "3.8.8"
  }
 },
 "nbformat": 4,
 "nbformat_minor": 5
}
