{
 "cells": [
  {
   "cell_type": "markdown",
   "id": "5fd3f42b",
   "metadata": {},
   "source": [
    "# <center> Module 5 Homework\n",
    "#### <center> ISE-529, Fall 2021\n",
    "#### <center> Yina MA\n",
    "#### <center> Due:  October 21, 2021 at 7:00PM"
   ]
  },
  {
   "cell_type": "markdown",
   "id": "06175de6",
   "metadata": {},
   "source": [
    "1)  The file \"bank_evals.csv\" contains data on 20 banks with the following attributes: (20 points)\n",
    "- FinanciallyWeak: (1 - financially weak condition, 0 - other ) \n",
    "- CaptitalAssetRatio: Ratio of total capital to assest \n",
    "- ExpAssetRatio: Ratio of total expenses to total assets \n",
    "- LoansLeasesToAssetRatio: Ratio of total loans and leasses to total assets"
   ]
  },
  {
   "cell_type": "markdown",
   "id": "a2dd613a",
   "metadata": {},
   "source": [
    "a)  Create a logistic regression that models the status of the bank (whether or not it is weak) as a function of TotLns&Lses/Assets and TotExp/Assets.  Use all 20 observations as your training data. Show the resulting intercept and coefficients of your model."
   ]
  },
  {
   "cell_type": "code",
   "execution_count": 1,
   "id": "0aca6f60",
   "metadata": {},
   "outputs": [],
   "source": [
    "import numpy as np\n",
    "import pandas as pd\n",
    "from sklearn.linear_model import LogisticRegression\n",
    "import sklearn.metrics as metrics"
   ]
  },
  {
   "cell_type": "code",
   "execution_count": 8,
   "id": "86515f02",
   "metadata": {},
   "outputs": [
    {
     "data": {
      "text/html": [
       "<div>\n",
       "<style scoped>\n",
       "    .dataframe tbody tr th:only-of-type {\n",
       "        vertical-align: middle;\n",
       "    }\n",
       "\n",
       "    .dataframe tbody tr th {\n",
       "        vertical-align: top;\n",
       "    }\n",
       "\n",
       "    .dataframe thead th {\n",
       "        text-align: right;\n",
       "    }\n",
       "</style>\n",
       "<table border=\"1\" class=\"dataframe\">\n",
       "  <thead>\n",
       "    <tr style=\"text-align: right;\">\n",
       "      <th></th>\n",
       "      <th>FinanciallyWeak</th>\n",
       "      <th>CaptitalAssetRatio</th>\n",
       "      <th>ExpAssetRatio</th>\n",
       "      <th>LoansLeasesToAssetRatio</th>\n",
       "    </tr>\n",
       "  </thead>\n",
       "  <tbody>\n",
       "    <tr>\n",
       "      <th>0</th>\n",
       "      <td>1</td>\n",
       "      <td>9.7</td>\n",
       "      <td>0.12</td>\n",
       "      <td>0.65</td>\n",
       "    </tr>\n",
       "    <tr>\n",
       "      <th>1</th>\n",
       "      <td>1</td>\n",
       "      <td>1.0</td>\n",
       "      <td>0.11</td>\n",
       "      <td>0.62</td>\n",
       "    </tr>\n",
       "    <tr>\n",
       "      <th>2</th>\n",
       "      <td>1</td>\n",
       "      <td>6.9</td>\n",
       "      <td>0.09</td>\n",
       "      <td>1.02</td>\n",
       "    </tr>\n",
       "    <tr>\n",
       "      <th>3</th>\n",
       "      <td>1</td>\n",
       "      <td>5.8</td>\n",
       "      <td>0.10</td>\n",
       "      <td>0.67</td>\n",
       "    </tr>\n",
       "    <tr>\n",
       "      <th>4</th>\n",
       "      <td>1</td>\n",
       "      <td>4.3</td>\n",
       "      <td>0.11</td>\n",
       "      <td>0.69</td>\n",
       "    </tr>\n",
       "    <tr>\n",
       "      <th>5</th>\n",
       "      <td>1</td>\n",
       "      <td>9.1</td>\n",
       "      <td>0.13</td>\n",
       "      <td>0.74</td>\n",
       "    </tr>\n",
       "    <tr>\n",
       "      <th>6</th>\n",
       "      <td>1</td>\n",
       "      <td>11.9</td>\n",
       "      <td>0.10</td>\n",
       "      <td>0.79</td>\n",
       "    </tr>\n",
       "    <tr>\n",
       "      <th>7</th>\n",
       "      <td>1</td>\n",
       "      <td>8.1</td>\n",
       "      <td>0.13</td>\n",
       "      <td>0.63</td>\n",
       "    </tr>\n",
       "    <tr>\n",
       "      <th>8</th>\n",
       "      <td>1</td>\n",
       "      <td>9.3</td>\n",
       "      <td>0.16</td>\n",
       "      <td>0.72</td>\n",
       "    </tr>\n",
       "    <tr>\n",
       "      <th>9</th>\n",
       "      <td>1</td>\n",
       "      <td>1.1</td>\n",
       "      <td>0.16</td>\n",
       "      <td>0.57</td>\n",
       "    </tr>\n",
       "    <tr>\n",
       "      <th>10</th>\n",
       "      <td>0</td>\n",
       "      <td>11.1</td>\n",
       "      <td>0.08</td>\n",
       "      <td>0.43</td>\n",
       "    </tr>\n",
       "    <tr>\n",
       "      <th>11</th>\n",
       "      <td>0</td>\n",
       "      <td>20.5</td>\n",
       "      <td>0.12</td>\n",
       "      <td>0.80</td>\n",
       "    </tr>\n",
       "    <tr>\n",
       "      <th>12</th>\n",
       "      <td>0</td>\n",
       "      <td>9.8</td>\n",
       "      <td>0.07</td>\n",
       "      <td>0.69</td>\n",
       "    </tr>\n",
       "    <tr>\n",
       "      <th>13</th>\n",
       "      <td>0</td>\n",
       "      <td>7.9</td>\n",
       "      <td>0.08</td>\n",
       "      <td>0.53</td>\n",
       "    </tr>\n",
       "    <tr>\n",
       "      <th>14</th>\n",
       "      <td>0</td>\n",
       "      <td>9.6</td>\n",
       "      <td>0.09</td>\n",
       "      <td>0.73</td>\n",
       "    </tr>\n",
       "    <tr>\n",
       "      <th>15</th>\n",
       "      <td>0</td>\n",
       "      <td>12.5</td>\n",
       "      <td>0.09</td>\n",
       "      <td>0.30</td>\n",
       "    </tr>\n",
       "    <tr>\n",
       "      <th>16</th>\n",
       "      <td>0</td>\n",
       "      <td>18.3</td>\n",
       "      <td>0.08</td>\n",
       "      <td>0.49</td>\n",
       "    </tr>\n",
       "    <tr>\n",
       "      <th>17</th>\n",
       "      <td>0</td>\n",
       "      <td>7.2</td>\n",
       "      <td>0.11</td>\n",
       "      <td>0.55</td>\n",
       "    </tr>\n",
       "    <tr>\n",
       "      <th>18</th>\n",
       "      <td>0</td>\n",
       "      <td>14.0</td>\n",
       "      <td>0.08</td>\n",
       "      <td>0.44</td>\n",
       "    </tr>\n",
       "    <tr>\n",
       "      <th>19</th>\n",
       "      <td>0</td>\n",
       "      <td>8.3</td>\n",
       "      <td>0.08</td>\n",
       "      <td>0.51</td>\n",
       "    </tr>\n",
       "  </tbody>\n",
       "</table>\n",
       "</div>"
      ],
      "text/plain": [
       "    FinanciallyWeak  CaptitalAssetRatio  ExpAssetRatio  \\\n",
       "0                 1                 9.7           0.12   \n",
       "1                 1                 1.0           0.11   \n",
       "2                 1                 6.9           0.09   \n",
       "3                 1                 5.8           0.10   \n",
       "4                 1                 4.3           0.11   \n",
       "5                 1                 9.1           0.13   \n",
       "6                 1                11.9           0.10   \n",
       "7                 1                 8.1           0.13   \n",
       "8                 1                 9.3           0.16   \n",
       "9                 1                 1.1           0.16   \n",
       "10                0                11.1           0.08   \n",
       "11                0                20.5           0.12   \n",
       "12                0                 9.8           0.07   \n",
       "13                0                 7.9           0.08   \n",
       "14                0                 9.6           0.09   \n",
       "15                0                12.5           0.09   \n",
       "16                0                18.3           0.08   \n",
       "17                0                 7.2           0.11   \n",
       "18                0                14.0           0.08   \n",
       "19                0                 8.3           0.08   \n",
       "\n",
       "    LoansLeasesToAssetRatio  \n",
       "0                      0.65  \n",
       "1                      0.62  \n",
       "2                      1.02  \n",
       "3                      0.67  \n",
       "4                      0.69  \n",
       "5                      0.74  \n",
       "6                      0.79  \n",
       "7                      0.63  \n",
       "8                      0.72  \n",
       "9                      0.57  \n",
       "10                     0.43  \n",
       "11                     0.80  \n",
       "12                     0.69  \n",
       "13                     0.53  \n",
       "14                     0.73  \n",
       "15                     0.30  \n",
       "16                     0.49  \n",
       "17                     0.55  \n",
       "18                     0.44  \n",
       "19                     0.51  "
      ]
     },
     "execution_count": 8,
     "metadata": {},
     "output_type": "execute_result"
    }
   ],
   "source": [
    "bank_evals = pd.read_csv('bank_evals.csv')\n",
    "bank_evals"
   ]
  },
  {
   "cell_type": "code",
   "execution_count": 9,
   "id": "46d261b3",
   "metadata": {},
   "outputs": [],
   "source": [
    "y1 = bank_evals['FinanciallyWeak'].copy()\n",
    "x1 = bank_evals.drop(['FinanciallyWeak','CaptitalAssetRatio'],1).copy()"
   ]
  },
  {
   "cell_type": "code",
   "execution_count": 10,
   "id": "b8af3565",
   "metadata": {},
   "outputs": [],
   "source": [
    "model1 = LogisticRegression().fit(x1,y1)"
   ]
  },
  {
   "cell_type": "code",
   "execution_count": 11,
   "id": "585e5b25",
   "metadata": {},
   "outputs": [
    {
     "data": {
      "text/plain": [
       "array([-0.47333652])"
      ]
     },
     "execution_count": 11,
     "metadata": {},
     "output_type": "execute_result"
    }
   ],
   "source": [
    "model1.intercept_"
   ]
  },
  {
   "cell_type": "code",
   "execution_count": 12,
   "id": "a87d309f",
   "metadata": {},
   "outputs": [
    {
     "data": {
      "text/plain": [
       "array([[0.16075579, 0.72642506]])"
      ]
     },
     "execution_count": 12,
     "metadata": {},
     "output_type": "execute_result"
    }
   ],
   "source": [
    "model1.coef_"
   ]
  },
  {
   "cell_type": "code",
   "execution_count": 13,
   "id": "1d96145a",
   "metadata": {},
   "outputs": [
    {
     "data": {
      "text/html": [
       "<div>\n",
       "<style scoped>\n",
       "    .dataframe tbody tr th:only-of-type {\n",
       "        vertical-align: middle;\n",
       "    }\n",
       "\n",
       "    .dataframe tbody tr th {\n",
       "        vertical-align: top;\n",
       "    }\n",
       "\n",
       "    .dataframe thead th {\n",
       "        text-align: right;\n",
       "    }\n",
       "</style>\n",
       "<table border=\"1\" class=\"dataframe\">\n",
       "  <thead>\n",
       "    <tr style=\"text-align: right;\">\n",
       "      <th></th>\n",
       "      <th>Coefficients</th>\n",
       "    </tr>\n",
       "  </thead>\n",
       "  <tbody>\n",
       "    <tr>\n",
       "      <th>ExpAssetRatio</th>\n",
       "      <td>0.160756</td>\n",
       "    </tr>\n",
       "    <tr>\n",
       "      <th>LoansLeasesToAssetRatio</th>\n",
       "      <td>0.726425</td>\n",
       "    </tr>\n",
       "  </tbody>\n",
       "</table>\n",
       "</div>"
      ],
      "text/plain": [
       "                         Coefficients\n",
       "ExpAssetRatio                0.160756\n",
       "LoansLeasesToAssetRatio      0.726425"
      ]
     },
     "execution_count": 13,
     "metadata": {},
     "output_type": "execute_result"
    }
   ],
   "source": [
    "pd.DataFrame(model1.coef_.T, columns = ['Coefficients'], index = x1.columns)"
   ]
  },
  {
   "cell_type": "markdown",
   "id": "600959b7",
   "metadata": {},
   "source": [
    "b)  Using the LaTex capabilities in Jupyter Notebook, write the equation of the probability of being financially weak as a function of these two predictors."
   ]
  },
  {
   "cell_type": "markdown",
   "id": "817e01ae",
   "metadata": {},
   "source": [
    "$$ a= -0.47333652 + 0.16075579*ExpAssetRatio + 0.72642506*LoansLeasesToAssetRatio $$"
   ]
  },
  {
   "cell_type": "markdown",
   "id": "44251737",
   "metadata": {},
   "source": [
    "$$ p(Financially Weak) = e^a / (1+e^a)$$"
   ]
  },
  {
   "cell_type": "markdown",
   "id": "4923d155",
   "metadata": {},
   "source": [
    "c)  If we had a new bank whose total loans and leases to asset ratio was 0.6 and total expenses to assets ratio was 0.11, what is the probability that it would be classified as “weak” by regulatory experts? What are the odds?"
   ]
  },
  {
   "cell_type": "code",
   "execution_count": 14,
   "id": "2b40cd9c",
   "metadata": {},
   "outputs": [
    {
     "data": {
      "text/plain": [
       "0.49505057489466614"
      ]
     },
     "execution_count": 14,
     "metadata": {},
     "output_type": "execute_result"
    }
   ],
   "source": [
    "a1= -0.47333652 + 0.16075579*0.11 + 0.72642506*0.6\n",
    "import math\n",
    "y_hat = 1 / (1+math.exp(-a1))\n",
    "y_hat"
   ]
  },
  {
   "cell_type": "code",
   "execution_count": 15,
   "id": "6278a20a",
   "metadata": {
    "scrolled": true
   },
   "outputs": [
    {
     "data": {
      "text/plain": [
       "0.9803963531424897"
      ]
     },
     "execution_count": 15,
     "metadata": {},
     "output_type": "execute_result"
    }
   ],
   "source": [
    "odds = y_hat / (1-y_hat)\n",
    "odds"
   ]
  },
  {
   "cell_type": "markdown",
   "id": "9ac0692c",
   "metadata": {},
   "source": [
    "d)  Interpret the estimated coefficient for the ratio of total leans and leasses to total assets in terms of the odds being financially weak."
   ]
  },
  {
   "cell_type": "markdown",
   "id": "366aebdd",
   "metadata": {},
   "source": [
    "As the ratio of total loans and leases to total assets increases, the odds of being financially weak increases. Also,ratio of total loans and leases to total assets has greater impact on odds being finally weak than the ratio of total expenses to assets. LoansLeasesToAssetRatio is more related to FinanciallyWeak"
   ]
  },
  {
   "cell_type": "markdown",
   "id": "e9f695c4",
   "metadata": {},
   "source": [
    "e)  When a weak bank is misclassified as strong, the implications of that mistake are much greater than when a strong bacnk is misclassified as weak. To minimize the effects of this, should the cutoff value be increased or decreased from a default value of 0.5?"
   ]
  },
  {
   "cell_type": "markdown",
   "id": "7d62c999",
   "metadata": {},
   "source": [
    "Cutoff value should be decreased from 0.5 to reduce false negative"
   ]
  },
  {
   "cell_type": "markdown",
   "id": "30479c67",
   "metadata": {},
   "source": [
    "2)  Suppose we collect data for a group of students in a statistics class with variables ${𝑋_1=}$ hours studied, ${𝑋_2=}$ undergrad GPA, and ${Y=}$ receive an A. We fit a logistic regression and produce estimated coefficients $\\hat{\\beta}_0 = -6$, $\\hat{\\beta}_1 = 0.05$, and $\\hat{\\beta}_2 = 0.9$ (20 points)"
   ]
  },
  {
   "cell_type": "markdown",
   "id": "965208cd",
   "metadata": {},
   "source": [
    "$$ t=-6+0.05*x_1+0.9*x_2$$"
   ]
  },
  {
   "cell_type": "markdown",
   "id": "d42fa1b1",
   "metadata": {},
   "source": [
    "$$ p = e^t / (1+e^t)$$"
   ]
  },
  {
   "cell_type": "markdown",
   "id": "6cb0739d",
   "metadata": {},
   "source": [
    "a) Estimate the probability that a student who studies for 20 hours and has an undergrad GPA of 3.5 gets an A in the class:  13.6%"
   ]
  },
  {
   "cell_type": "code",
   "execution_count": 16,
   "id": "104d4c04",
   "metadata": {},
   "outputs": [
    {
     "data": {
      "text/plain": [
       "0.13587289700909427"
      ]
     },
     "execution_count": 16,
     "metadata": {},
     "output_type": "execute_result"
    }
   ],
   "source": [
    "a2 = -6+0.05*20+0.9*3.5\n",
    "p2 = 1 / (1+math.exp(-a2))\n",
    "p2"
   ]
  },
  {
   "cell_type": "markdown",
   "id": "fbe4aa66",
   "metadata": {},
   "source": [
    "b) How many hours would the student in part (a) need to study to have a 60 % chance of getting an A in the class?  65.11"
   ]
  },
  {
   "cell_type": "code",
   "execution_count": 17,
   "id": "e4113fb5",
   "metadata": {},
   "outputs": [
    {
     "data": {
      "text/plain": [
       "65.10930216216329"
      ]
     },
     "execution_count": 17,
     "metadata": {},
     "output_type": "execute_result"
    }
   ],
   "source": [
    "ab = -math.log(1/0.6-1)\n",
    "Hours = (ab+6-0.9*3.5)/0.05\n",
    "Hours"
   ]
  },
  {
   "cell_type": "markdown",
   "id": "0402dd72",
   "metadata": {},
   "source": [
    "3)  The file model_assessment_data.csv contains the output of a classification model for 100 observations.  The first column – P(Y) contains the probability that the model assigned to that observation that it contained the event.  The second column indicates whether it actually contained the event.  (60 points)"
   ]
  },
  {
   "cell_type": "markdown",
   "id": "5ad53664",
   "metadata": {},
   "source": [
    "a)  Create a dataframe with the following lift curve data as columns\n",
    "  - Percentile:  values from 5 to 100 by 5 (5, 10, 15, ..., 100)\n",
    "  - Model lift (value at the corresponding percentile)\n",
    "  - Best lift (value at the corresponding percentile)"
   ]
  },
  {
   "cell_type": "code",
   "execution_count": 20,
   "id": "a42081ec",
   "metadata": {},
   "outputs": [
    {
     "data": {
      "text/html": [
       "<div>\n",
       "<style scoped>\n",
       "    .dataframe tbody tr th:only-of-type {\n",
       "        vertical-align: middle;\n",
       "    }\n",
       "\n",
       "    .dataframe tbody tr th {\n",
       "        vertical-align: top;\n",
       "    }\n",
       "\n",
       "    .dataframe thead th {\n",
       "        text-align: right;\n",
       "    }\n",
       "</style>\n",
       "<table border=\"1\" class=\"dataframe\">\n",
       "  <thead>\n",
       "    <tr style=\"text-align: right;\">\n",
       "      <th></th>\n",
       "      <th>percentile</th>\n",
       "      <th>random</th>\n",
       "      <th>model</th>\n",
       "      <th>best</th>\n",
       "      <th>baseline</th>\n",
       "      <th>model lift</th>\n",
       "      <th>best lift</th>\n",
       "    </tr>\n",
       "  </thead>\n",
       "  <tbody>\n",
       "    <tr>\n",
       "      <th>0</th>\n",
       "      <td>5%</td>\n",
       "      <td>1.25</td>\n",
       "      <td>5</td>\n",
       "      <td>5</td>\n",
       "      <td>1</td>\n",
       "      <td>4.000000</td>\n",
       "      <td>4.000000</td>\n",
       "    </tr>\n",
       "    <tr>\n",
       "      <th>1</th>\n",
       "      <td>10%</td>\n",
       "      <td>2.50</td>\n",
       "      <td>9</td>\n",
       "      <td>10</td>\n",
       "      <td>1</td>\n",
       "      <td>3.600000</td>\n",
       "      <td>4.000000</td>\n",
       "    </tr>\n",
       "    <tr>\n",
       "      <th>2</th>\n",
       "      <td>15%</td>\n",
       "      <td>3.75</td>\n",
       "      <td>13</td>\n",
       "      <td>15</td>\n",
       "      <td>1</td>\n",
       "      <td>3.466667</td>\n",
       "      <td>4.000000</td>\n",
       "    </tr>\n",
       "    <tr>\n",
       "      <th>3</th>\n",
       "      <td>20%</td>\n",
       "      <td>5.00</td>\n",
       "      <td>16</td>\n",
       "      <td>20</td>\n",
       "      <td>1</td>\n",
       "      <td>3.200000</td>\n",
       "      <td>4.000000</td>\n",
       "    </tr>\n",
       "    <tr>\n",
       "      <th>4</th>\n",
       "      <td>25%</td>\n",
       "      <td>6.25</td>\n",
       "      <td>17</td>\n",
       "      <td>25</td>\n",
       "      <td>1</td>\n",
       "      <td>2.720000</td>\n",
       "      <td>4.000000</td>\n",
       "    </tr>\n",
       "    <tr>\n",
       "      <th>5</th>\n",
       "      <td>30%</td>\n",
       "      <td>7.50</td>\n",
       "      <td>18</td>\n",
       "      <td>25</td>\n",
       "      <td>1</td>\n",
       "      <td>2.400000</td>\n",
       "      <td>3.333333</td>\n",
       "    </tr>\n",
       "    <tr>\n",
       "      <th>6</th>\n",
       "      <td>35%</td>\n",
       "      <td>8.75</td>\n",
       "      <td>19</td>\n",
       "      <td>25</td>\n",
       "      <td>1</td>\n",
       "      <td>2.171429</td>\n",
       "      <td>2.857143</td>\n",
       "    </tr>\n",
       "    <tr>\n",
       "      <th>7</th>\n",
       "      <td>40%</td>\n",
       "      <td>10.00</td>\n",
       "      <td>19</td>\n",
       "      <td>25</td>\n",
       "      <td>1</td>\n",
       "      <td>1.900000</td>\n",
       "      <td>2.500000</td>\n",
       "    </tr>\n",
       "    <tr>\n",
       "      <th>8</th>\n",
       "      <td>45%</td>\n",
       "      <td>11.25</td>\n",
       "      <td>20</td>\n",
       "      <td>25</td>\n",
       "      <td>1</td>\n",
       "      <td>1.777778</td>\n",
       "      <td>2.222222</td>\n",
       "    </tr>\n",
       "    <tr>\n",
       "      <th>9</th>\n",
       "      <td>50%</td>\n",
       "      <td>12.50</td>\n",
       "      <td>21</td>\n",
       "      <td>25</td>\n",
       "      <td>1</td>\n",
       "      <td>1.680000</td>\n",
       "      <td>2.000000</td>\n",
       "    </tr>\n",
       "    <tr>\n",
       "      <th>10</th>\n",
       "      <td>55%</td>\n",
       "      <td>13.75</td>\n",
       "      <td>22</td>\n",
       "      <td>25</td>\n",
       "      <td>1</td>\n",
       "      <td>1.600000</td>\n",
       "      <td>1.818182</td>\n",
       "    </tr>\n",
       "    <tr>\n",
       "      <th>11</th>\n",
       "      <td>60%</td>\n",
       "      <td>15.00</td>\n",
       "      <td>22</td>\n",
       "      <td>25</td>\n",
       "      <td>1</td>\n",
       "      <td>1.466667</td>\n",
       "      <td>1.666667</td>\n",
       "    </tr>\n",
       "    <tr>\n",
       "      <th>12</th>\n",
       "      <td>65%</td>\n",
       "      <td>16.25</td>\n",
       "      <td>23</td>\n",
       "      <td>25</td>\n",
       "      <td>1</td>\n",
       "      <td>1.415385</td>\n",
       "      <td>1.538462</td>\n",
       "    </tr>\n",
       "    <tr>\n",
       "      <th>13</th>\n",
       "      <td>70%</td>\n",
       "      <td>17.50</td>\n",
       "      <td>24</td>\n",
       "      <td>25</td>\n",
       "      <td>1</td>\n",
       "      <td>1.371429</td>\n",
       "      <td>1.428571</td>\n",
       "    </tr>\n",
       "    <tr>\n",
       "      <th>14</th>\n",
       "      <td>75%</td>\n",
       "      <td>18.75</td>\n",
       "      <td>24</td>\n",
       "      <td>25</td>\n",
       "      <td>1</td>\n",
       "      <td>1.280000</td>\n",
       "      <td>1.333333</td>\n",
       "    </tr>\n",
       "    <tr>\n",
       "      <th>15</th>\n",
       "      <td>80%</td>\n",
       "      <td>20.00</td>\n",
       "      <td>24</td>\n",
       "      <td>25</td>\n",
       "      <td>1</td>\n",
       "      <td>1.200000</td>\n",
       "      <td>1.250000</td>\n",
       "    </tr>\n",
       "    <tr>\n",
       "      <th>16</th>\n",
       "      <td>85%</td>\n",
       "      <td>21.25</td>\n",
       "      <td>25</td>\n",
       "      <td>25</td>\n",
       "      <td>1</td>\n",
       "      <td>1.176471</td>\n",
       "      <td>1.176471</td>\n",
       "    </tr>\n",
       "    <tr>\n",
       "      <th>17</th>\n",
       "      <td>90%</td>\n",
       "      <td>22.50</td>\n",
       "      <td>25</td>\n",
       "      <td>25</td>\n",
       "      <td>1</td>\n",
       "      <td>1.111111</td>\n",
       "      <td>1.111111</td>\n",
       "    </tr>\n",
       "    <tr>\n",
       "      <th>18</th>\n",
       "      <td>95%</td>\n",
       "      <td>23.75</td>\n",
       "      <td>25</td>\n",
       "      <td>25</td>\n",
       "      <td>1</td>\n",
       "      <td>1.052632</td>\n",
       "      <td>1.052632</td>\n",
       "    </tr>\n",
       "    <tr>\n",
       "      <th>19</th>\n",
       "      <td>100%</td>\n",
       "      <td>25.00</td>\n",
       "      <td>25</td>\n",
       "      <td>25</td>\n",
       "      <td>1</td>\n",
       "      <td>1.000000</td>\n",
       "      <td>1.000000</td>\n",
       "    </tr>\n",
       "  </tbody>\n",
       "</table>\n",
       "</div>"
      ],
      "text/plain": [
       "   percentile  random  model  best  baseline  model lift  best lift\n",
       "0          5%    1.25      5     5         1    4.000000   4.000000\n",
       "1         10%    2.50      9    10         1    3.600000   4.000000\n",
       "2         15%    3.75     13    15         1    3.466667   4.000000\n",
       "3         20%    5.00     16    20         1    3.200000   4.000000\n",
       "4         25%    6.25     17    25         1    2.720000   4.000000\n",
       "5         30%    7.50     18    25         1    2.400000   3.333333\n",
       "6         35%    8.75     19    25         1    2.171429   2.857143\n",
       "7         40%   10.00     19    25         1    1.900000   2.500000\n",
       "8         45%   11.25     20    25         1    1.777778   2.222222\n",
       "9         50%   12.50     21    25         1    1.680000   2.000000\n",
       "10        55%   13.75     22    25         1    1.600000   1.818182\n",
       "11        60%   15.00     22    25         1    1.466667   1.666667\n",
       "12        65%   16.25     23    25         1    1.415385   1.538462\n",
       "13        70%   17.50     24    25         1    1.371429   1.428571\n",
       "14        75%   18.75     24    25         1    1.280000   1.333333\n",
       "15        80%   20.00     24    25         1    1.200000   1.250000\n",
       "16        85%   21.25     25    25         1    1.176471   1.176471\n",
       "17        90%   22.50     25    25         1    1.111111   1.111111\n",
       "18        95%   23.75     25    25         1    1.052632   1.052632\n",
       "19       100%   25.00     25    25         1    1.000000   1.000000"
      ]
     },
     "execution_count": 20,
     "metadata": {},
     "output_type": "execute_result"
    }
   ],
   "source": [
    "model_assessment_data = pd.read_csv('model_assessment_data.csv').sort_values(by = 'P(Y)',ascending = False)\n",
    "model_assessment_data = model_assessment_data.reset_index().drop('index',1)\n",
    "\n",
    "positive = model_assessment_data.loc[model_assessment_data['Event?'] == 1]\n",
    "\n",
    "random = [0.05 * positive['P(Y)'].count() * i for i in range(1,21)]\n",
    "\n",
    "model = []\n",
    "for i in range(5,105,5):\n",
    "    model.append(model_assessment_data.head(i).loc[model_assessment_data.head(i)['Event?'] == 1]['P(Y)'].count())\n",
    "    \n",
    "best = [5,10,15,20,25,25,25,25,25,25,25,25,25,25,25,25,25,25,25,25]\n",
    "\n",
    "baseline = [1]*20\n",
    "\n",
    "percentile = [str(i)+'%' for i in range(5,105,5)]\n",
    "\n",
    "\n",
    "dict = {'percentile': percentile, 'random': random, 'model': model, 'best': best, 'baseline': baseline} \n",
    "    \n",
    "model_frame = pd.DataFrame(dict)\n",
    "\n",
    "model_frame['model lift'] = model_frame['model']/model_frame['random']\n",
    "\n",
    "model_frame['best lift'] = model_frame['best']/model_frame['random']\n",
    "\n",
    "model_frame"
   ]
  },
  {
   "cell_type": "markdown",
   "id": "177dd555",
   "metadata": {},
   "source": [
    "b) Create a lift curve graphic using this data"
   ]
  },
  {
   "cell_type": "code",
   "execution_count": 21,
   "id": "aba8d969",
   "metadata": {},
   "outputs": [
    {
     "data": {
      "image/png": "[encoded data removed]",
      "text/plain": [
       "<Figure size 432x288 with 1 Axes>"
      ]
     },
     "metadata": {
      "needs_background": "light"
     },
     "output_type": "display_data"
    }
   ],
   "source": [
    "import matplotlib.pyplot as plt\n",
    "x = model_frame['percentile']\n",
    "y1 = model_frame['model lift']\n",
    "y2 = model_frame['best lift']\n",
    "y3 = model_frame['baseline']\n",
    "plt.plot(x, y1, label = \"model lift\")\n",
    "plt.plot(x, y2, label = \"best lift\")\n",
    "plt.plot(x, y3, label = \"baseline\")\n",
    "plt.legend()\n",
    "plt.title('lift curve')\n",
    "plt.show()"
   ]
  },
  {
   "cell_type": "markdown",
   "id": "4caed008",
   "metadata": {},
   "source": [
    "c)  Calculate and display the confusion matrix, sensitivity, and specificity with a classification threshold of 0.5.  Do not use any packages or libraries beyond what was used in class."
   ]
  },
  {
   "cell_type": "code",
   "execution_count": 22,
   "id": "2d7a8930",
   "metadata": {},
   "outputs": [
    {
     "data": {
      "text/plain": [
       "array([[47, 28],\n",
       "       [ 4, 21]])"
      ]
     },
     "execution_count": 22,
     "metadata": {},
     "output_type": "execute_result"
    }
   ],
   "source": [
    "model_assessment_data['predict'] = 1\n",
    "dataset = model_assessment_data.copy()\n",
    "model_assessment_data.loc[model_assessment_data['P(Y)'] < 0.5, ['predict']] = 0\n",
    "from sklearn import metrics\n",
    "cnf_matrix = metrics.confusion_matrix(model_assessment_data['Event?'],model_assessment_data['predict'])\n",
    "cnf_matrix"
   ]
  },
  {
   "cell_type": "code",
   "execution_count": 23,
   "id": "5f7627a4",
   "metadata": {},
   "outputs": [
    {
     "data": {
      "text/plain": [
       "<AxesSubplot:>"
      ]
     },
     "execution_count": 23,
     "metadata": {},
     "output_type": "execute_result"
    },
    {
     "data": {
      "image/png": "[encoded data removed]",
      "text/plain": [
       "<Figure size 432x288 with 2 Axes>"
      ]
     },
     "metadata": {
      "needs_background": "light"
     },
     "output_type": "display_data"
    }
   ],
   "source": [
    "import seaborn as sns\n",
    "sns.heatmap(cnf_matrix, annot = True)"
   ]
  },
  {
   "cell_type": "code",
   "execution_count": 24,
   "id": "5cf61d29",
   "metadata": {},
   "outputs": [
    {
     "name": "stdout",
     "output_type": "stream",
     "text": [
      "sensitivity:0.84\n",
      "specificity:0.6266666666666667\n"
     ]
    }
   ],
   "source": [
    "TP = cnf_matrix[1,1]\n",
    "TN = cnf_matrix[0,0]\n",
    "FP = cnf_matrix[0,1]\n",
    "FN = cnf_matrix[1,0]\n",
    "print ('sensitivity:' + str(TP/(TP+FN)))\n",
    "print ('specificity:' + str(TN/(TN+FP)))"
   ]
  },
  {
   "cell_type": "markdown",
   "id": "b4cda065",
   "metadata": {},
   "source": [
    "d)  Create an ROC chart (using 1% intervals for the threshold.  Do not use any packages or libraries beyond what was used in class."
   ]
  },
  {
   "cell_type": "code",
   "execution_count": 28,
   "id": "de32f8e9",
   "metadata": {},
   "outputs": [
    {
     "data": {
      "text/html": [
       "<div>\n",
       "<style scoped>\n",
       "    .dataframe tbody tr th:only-of-type {\n",
       "        vertical-align: middle;\n",
       "    }\n",
       "\n",
       "    .dataframe tbody tr th {\n",
       "        vertical-align: top;\n",
       "    }\n",
       "\n",
       "    .dataframe thead th {\n",
       "        text-align: right;\n",
       "    }\n",
       "</style>\n",
       "<table border=\"1\" class=\"dataframe\">\n",
       "  <thead>\n",
       "    <tr style=\"text-align: right;\">\n",
       "      <th></th>\n",
       "      <th>Threshold</th>\n",
       "      <th>x</th>\n",
       "      <th>y</th>\n",
       "    </tr>\n",
       "  </thead>\n",
       "  <tbody>\n",
       "    <tr>\n",
       "      <th>0</th>\n",
       "      <td>1%</td>\n",
       "      <td>1.000000</td>\n",
       "      <td>1.00</td>\n",
       "    </tr>\n",
       "    <tr>\n",
       "      <th>1</th>\n",
       "      <td>2%</td>\n",
       "      <td>1.000000</td>\n",
       "      <td>1.00</td>\n",
       "    </tr>\n",
       "    <tr>\n",
       "      <th>2</th>\n",
       "      <td>3%</td>\n",
       "      <td>0.973333</td>\n",
       "      <td>1.00</td>\n",
       "    </tr>\n",
       "    <tr>\n",
       "      <th>3</th>\n",
       "      <td>4%</td>\n",
       "      <td>0.973333</td>\n",
       "      <td>1.00</td>\n",
       "    </tr>\n",
       "    <tr>\n",
       "      <th>4</th>\n",
       "      <td>5%</td>\n",
       "      <td>0.960000</td>\n",
       "      <td>1.00</td>\n",
       "    </tr>\n",
       "    <tr>\n",
       "      <th>...</th>\n",
       "      <td>...</td>\n",
       "      <td>...</td>\n",
       "      <td>...</td>\n",
       "    </tr>\n",
       "    <tr>\n",
       "      <th>95</th>\n",
       "      <td>96%</td>\n",
       "      <td>0.000000</td>\n",
       "      <td>0.20</td>\n",
       "    </tr>\n",
       "    <tr>\n",
       "      <th>96</th>\n",
       "      <td>97%</td>\n",
       "      <td>0.000000</td>\n",
       "      <td>0.12</td>\n",
       "    </tr>\n",
       "    <tr>\n",
       "      <th>97</th>\n",
       "      <td>98%</td>\n",
       "      <td>0.000000</td>\n",
       "      <td>0.12</td>\n",
       "    </tr>\n",
       "    <tr>\n",
       "      <th>98</th>\n",
       "      <td>99%</td>\n",
       "      <td>0.000000</td>\n",
       "      <td>0.00</td>\n",
       "    </tr>\n",
       "    <tr>\n",
       "      <th>99</th>\n",
       "      <td>100%</td>\n",
       "      <td>0.000000</td>\n",
       "      <td>0.00</td>\n",
       "    </tr>\n",
       "  </tbody>\n",
       "</table>\n",
       "<p>100 rows × 3 columns</p>\n",
       "</div>"
      ],
      "text/plain": [
       "   Threshold         x     y\n",
       "0         1%  1.000000  1.00\n",
       "1         2%  1.000000  1.00\n",
       "2         3%  0.973333  1.00\n",
       "3         4%  0.973333  1.00\n",
       "4         5%  0.960000  1.00\n",
       "..       ...       ...   ...\n",
       "95       96%  0.000000  0.20\n",
       "96       97%  0.000000  0.12\n",
       "97       98%  0.000000  0.12\n",
       "98       99%  0.000000  0.00\n",
       "99      100%  0.000000  0.00\n",
       "\n",
       "[100 rows x 3 columns]"
      ]
     },
     "execution_count": 28,
     "metadata": {},
     "output_type": "execute_result"
    }
   ],
   "source": [
    "threshold = [0.01*i for i in range(1,101)]\n",
    "\n",
    "x, y = [],[]\n",
    "\n",
    "for i in threshold:\n",
    "    model_assessment_data = dataset.copy()\n",
    "    model_assessment_data.loc[model_assessment_data['P(Y)'] < i, ['predict']] = 0\n",
    "    from sklearn import metrics\n",
    "    cnf_matrix = metrics.confusion_matrix(model_assessment_data['Event?'],model_assessment_data['predict'])\n",
    "    TP = cnf_matrix[1,1]\n",
    "    TN = cnf_matrix[0,0]\n",
    "    FP = cnf_matrix[0,1]\n",
    "    FN = cnf_matrix[1,0]\n",
    "    x.append(float(1-TN/(TN+FP)))\n",
    "    y.append(float(TP/(TP+FN)))\n",
    "\n",
    "ranges =  [str(i)+'%' for i in range(1,101)]\n",
    "\n",
    "dict2 = {'Threshold': ranges, 'x': x, 'y': y} \n",
    "\n",
    "model_frame2 = pd.DataFrame(dict2)\n",
    "model_frame2"
   ]
  },
  {
   "cell_type": "code",
   "execution_count": 27,
   "id": "18c98637",
   "metadata": {},
   "outputs": [
    {
     "data": {
      "image/png": "[encoded data removed]",
      "text/plain": [
       "<Figure size 432x288 with 1 Axes>"
      ]
     },
     "metadata": {
      "needs_background": "light"
     },
     "output_type": "display_data"
    }
   ],
   "source": [
    "import matplotlib.pyplot as plt\n",
    "plt.plot(x, y)\n",
    "plt.plot([0,1], [0,1])\n",
    "plt.xlabel('False Positive Rate (1 - Specificity)')\n",
    "plt.ylabel('True Positive Rate (Sensitivity)')\n",
    "plt.title('ROC Curve')\n",
    "plt.show()"
   ]
  },
  {
   "cell_type": "markdown",
   "id": "4de9aa96",
   "metadata": {},
   "source": [
    "e) What value of threshold yields the largest ROC separation?  Do not use any packages or libraries beyond what was used in class."
   ]
  },
  {
   "cell_type": "code",
   "execution_count": 29,
   "id": "aa0aa6a9",
   "metadata": {},
   "outputs": [
    {
     "data": {
      "text/plain": [
       "84    85%\n",
       "85    86%\n",
       "Name: Threshold, dtype: object"
      ]
     },
     "execution_count": 29,
     "metadata": {},
     "output_type": "execute_result"
    }
   ],
   "source": [
    "model_frame2['diff'] = model_frame2['y'] - model_frame2['x']\n",
    "model_frame2['diff'].max()\n",
    "maxi = model_frame2.loc[model_frame2['diff'] == model_frame2['diff'].max()]\n",
    "maxi['Threshold']"
   ]
  },
  {
   "cell_type": "markdown",
   "id": "85e06340",
   "metadata": {},
   "source": [
    "f)  Recalculate the confusion matrix, sensitivity, and specificity using the optimal threshold you found in part (e):"
   ]
  },
  {
   "cell_type": "code",
   "execution_count": 30,
   "id": "d6660eee",
   "metadata": {},
   "outputs": [
    {
     "name": "stdout",
     "output_type": "stream",
     "text": [
      "[[70  5]\n",
      " [ 8 17]]\n",
      "sensitivity:0.68\n",
      "specificity:0.9333333333333333\n"
     ]
    }
   ],
   "source": [
    "model_assessment_data = dataset.copy()\n",
    "model_assessment_data.loc[model_assessment_data['P(Y)'] < 0.85, ['predict']] = 0\n",
    "\n",
    "cnf_matrix2 = metrics.confusion_matrix(model_assessment_data['Event?'],model_assessment_data['predict'])\n",
    "print (cnf_matrix2)\n",
    "TP2 = cnf_matrix2[1,1]\n",
    "TN2 = cnf_matrix2[0,0]\n",
    "FP2 = cnf_matrix2[0,1]\n",
    "FN2 = cnf_matrix2[1,0]\n",
    "print ('sensitivity:' + str(TP2/(TP2+FN2)))\n",
    "print ('specificity:' + str(TN2/(TN2+FP2)))"
   ]
  },
  {
   "cell_type": "code",
   "execution_count": 31,
   "id": "f919c1e7",
   "metadata": {},
   "outputs": [
    {
     "data": {
      "text/plain": [
       "<AxesSubplot:>"
      ]
     },
     "execution_count": 31,
     "metadata": {},
     "output_type": "execute_result"
    },
    {
     "data": {
      "image/png": "[encoded data removed]",
      "text/plain": [
       "<Figure size 432x288 with 2 Axes>"
      ]
     },
     "metadata": {
      "needs_background": "light"
     },
     "output_type": "display_data"
    }
   ],
   "source": [
    "sns.heatmap(cnf_matrix2, annot = True)"
   ]
  },
  {
   "cell_type": "code",
   "execution_count": 32,
   "id": "6dc7b2dd",
   "metadata": {},
   "outputs": [
    {
     "name": "stdout",
     "output_type": "stream",
     "text": [
      "[[70  5]\n",
      " [ 8 17]]\n",
      "sensitivity:0.68\n",
      "specificity:0.9333333333333333\n"
     ]
    }
   ],
   "source": [
    "model_assessment_data = dataset.copy()\n",
    "model_assessment_data.loc[model_assessment_data['P(Y)'] < 0.85, ['predict']] = 0\n",
    "\n",
    "cnf_matrix3 = metrics.confusion_matrix(model_assessment_data['Event?'],model_assessment_data['predict'])\n",
    "print (cnf_matrix3)\n",
    "TP3 = cnf_matrix3[1,1]\n",
    "TN3 = cnf_matrix3[0,0]\n",
    "FP3 = cnf_matrix3[0,1]\n",
    "FN3 = cnf_matrix3[1,0]\n",
    "print ('sensitivity:' + str(TP3/(TP3+FN3)))\n",
    "print ('specificity:' + str(TN3/(TN3+FP3)))"
   ]
  },
  {
   "cell_type": "code",
   "execution_count": 33,
   "id": "452c5a9b",
   "metadata": {},
   "outputs": [
    {
     "data": {
      "text/plain": [
       "<AxesSubplot:>"
      ]
     },
     "execution_count": 33,
     "metadata": {},
     "output_type": "execute_result"
    },
    {
     "data": {
      "image/png": "[encoded data removed]",
      "text/plain": [
       "<Figure size 432x288 with 2 Axes>"
      ]
     },
     "metadata": {
      "needs_background": "light"
     },
     "output_type": "display_data"
    }
   ],
   "source": [
    "sns.heatmap(cnf_matrix3, annot = True)"
   ]
  },
  {
   "cell_type": "code",
   "execution_count": null,
   "id": "c178e31f",
   "metadata": {},
   "outputs": [],
   "source": []
  }
 ],
 "metadata": {
  "kernelspec": {
   "display_name": "Python 3",
   "language": "python",
   "name": "python3"
  },
  "language_info": {
   "codemirror_mode": {
    "name": "ipython",
    "version": 3
   },
   "file_extension": ".py",
   "mimetype": "text/x-python",
   "name": "python",
   "nbconvert_exporter": "python",
   "pygments_lexer": "ipython3",
   "version": "3.8.8"
  }
 },
 "nbformat": 4,
 "nbformat_minor": 5
}
